{
 "cells": [
  {
   "cell_type": "code",
   "execution_count": 11,
   "id": "87d1e06e",
   "metadata": {
    "scrolled": true
   },
   "outputs": [],
   "source": [
    "import numpy as np\n",
    "import pandas as pd"
   ]
  },
  {
   "cell_type": "code",
   "execution_count": 12,
   "id": "37363b27",
   "metadata": {
    "scrolled": true
   },
   "outputs": [
    {
     "name": "stdout",
     "output_type": "stream",
     "text": [
      "          0     1          2         3         4        5        6         7   \\\n",
      "0      1.138   3.0    289.964  1349.489  6677.380    7.584    7.584   464.006   \n",
      "1      2.088   6.0   6960.180  1376.166  6828.469   28.204   28.204   635.401   \n",
      "2      3.144   9.0   8379.229  1386.757  7111.811   60.358   60.358   606.002   \n",
      "3      4.161  12.0  14724.395  1547.465  7792.630  113.774  113.774   661.471   \n",
      "4      5.140  15.0  21636.432  1924.313  8494.777  175.306  175.306   731.494   \n",
      "...      ...   ...        ...       ...       ...      ...      ...       ...   \n",
      "11929  5.140  15.0  21624.934  1924.342  8470.013  175.239  175.239   681.658   \n",
      "11930  6.175  18.0  29763.213  2306.745  8800.352  245.954  245.954   747.405   \n",
      "11931  7.148  21.0  39003.867  2678.052  9120.889  332.389  332.389   796.457   \n",
      "11932  8.206  24.0  50992.579  3087.434  9300.274  438.024  438.024   892.945   \n",
      "11933  9.300  27.0  72775.130  3560.400  9742.950  644.880  644.880  1038.411   \n",
      "\n",
      "          8        9      10     11      12     13      14     15    16     17  \n",
      "0      288.0  550.563  1.096  0.998   5.947  1.019   7.137  0.082  0.95  0.975  \n",
      "1      288.0  581.658  1.331  0.998   7.282  1.019  10.655  0.287  0.95  0.975  \n",
      "2      288.0  587.587  1.389  0.998   7.574  1.020  13.086  0.259  0.95  0.975  \n",
      "3      288.0  613.851  1.658  0.998   9.007  1.022  18.109  0.358  0.95  0.975  \n",
      "4      288.0  645.642  2.078  0.998  11.197  1.026  26.373  0.522  0.95  0.975  \n",
      "...      ...      ...    ...    ...     ...    ...     ...    ...   ...    ...  \n",
      "11929  288.0  628.950  2.087  0.998  10.990  1.027  23.803  0.471  1.00  1.000  \n",
      "11930  288.0  658.853  2.512  0.998  13.109  1.031  32.671  0.647  1.00  1.000  \n",
      "11931  288.0  680.393  2.982  0.998  15.420  1.036  42.104  0.834  1.00  1.000  \n",
      "11932  288.0  722.029  3.594  0.998  18.293  1.043  58.064  1.149  1.00  1.000  \n",
      "11933  288.0  767.595  4.531  0.998  22.464  1.052  86.067  1.704  1.00  1.000  \n",
      "\n",
      "[11934 rows x 18 columns]\n"
     ]
    }
   ],
   "source": [
    "#Датасет UCI_CBM_DATASET (compressor)\n",
    "#загружаем датасет,указываем разделитель 'пробел', указываем отсутствие заголовка\n",
    "data = pd.read_csv(r'UCI CBM Dataset\\data.txt', delim_whitespace=True, header=None)\n",
    "\n",
    "print(data)\n",
    "#смотрим данные"
   ]
  },
  {
   "cell_type": "code",
   "execution_count": 13,
   "id": "3cb6adc6",
   "metadata": {
    "scrolled": true
   },
   "outputs": [
    {
     "name": "stdout",
     "output_type": "stream",
     "text": [
      "<class 'pandas.core.frame.DataFrame'>\n",
      "RangeIndex: 11934 entries, 0 to 11933\n",
      "Data columns (total 18 columns):\n",
      " #   Column  Non-Null Count  Dtype  \n",
      "---  ------  --------------  -----  \n",
      " 0   0       11934 non-null  float64\n",
      " 1   1       11934 non-null  float64\n",
      " 2   2       11934 non-null  float64\n",
      " 3   3       11934 non-null  float64\n",
      " 4   4       11934 non-null  float64\n",
      " 5   5       11934 non-null  float64\n",
      " 6   6       11934 non-null  float64\n",
      " 7   7       11934 non-null  float64\n",
      " 8   8       11934 non-null  float64\n",
      " 9   9       11934 non-null  float64\n",
      " 10  10      11934 non-null  float64\n",
      " 11  11      11934 non-null  float64\n",
      " 12  12      11934 non-null  float64\n",
      " 13  13      11934 non-null  float64\n",
      " 14  14      11934 non-null  float64\n",
      " 15  15      11934 non-null  float64\n",
      " 16  16      11934 non-null  float64\n",
      " 17  17      11934 non-null  float64\n",
      "dtypes: float64(18)\n",
      "memory usage: 1.6 MB\n"
     ]
    }
   ],
   "source": [
    "data.info()\n",
    "# смотрим информацию о датасете\n",
    "# все столбцы имеют числовой тип и не содержат пропусков"
   ]
  },
  {
   "cell_type": "code",
   "execution_count": 14,
   "id": "a72c25d7",
   "metadata": {
    "scrolled": true
   },
   "outputs": [
    {
     "data": {
      "text/html": [
       "<div>\n",
       "<style scoped>\n",
       "    .dataframe tbody tr th:only-of-type {\n",
       "        vertical-align: middle;\n",
       "    }\n",
       "\n",
       "    .dataframe tbody tr th {\n",
       "        vertical-align: top;\n",
       "    }\n",
       "\n",
       "    .dataframe thead th {\n",
       "        text-align: right;\n",
       "    }\n",
       "</style>\n",
       "<table border=\"1\" class=\"dataframe\">\n",
       "  <thead>\n",
       "    <tr style=\"text-align: right;\">\n",
       "      <th></th>\n",
       "      <th>0</th>\n",
       "      <th>1</th>\n",
       "      <th>2</th>\n",
       "      <th>3</th>\n",
       "      <th>4</th>\n",
       "      <th>5</th>\n",
       "      <th>6</th>\n",
       "      <th>7</th>\n",
       "      <th>8</th>\n",
       "      <th>9</th>\n",
       "      <th>10</th>\n",
       "      <th>11</th>\n",
       "      <th>12</th>\n",
       "      <th>13</th>\n",
       "      <th>14</th>\n",
       "      <th>15</th>\n",
       "      <th>16</th>\n",
       "      <th>17</th>\n",
       "    </tr>\n",
       "  </thead>\n",
       "  <tbody>\n",
       "    <tr>\n",
       "      <th>count</th>\n",
       "      <td>11934.000000</td>\n",
       "      <td>11934.000000</td>\n",
       "      <td>11934.000000</td>\n",
       "      <td>11934.000000</td>\n",
       "      <td>11934.000000</td>\n",
       "      <td>11934.000000</td>\n",
       "      <td>11934.000000</td>\n",
       "      <td>11934.000000</td>\n",
       "      <td>11934.0</td>\n",
       "      <td>11934.000000</td>\n",
       "      <td>11934.000000</td>\n",
       "      <td>1.193400e+04</td>\n",
       "      <td>11934.000000</td>\n",
       "      <td>11934.000000</td>\n",
       "      <td>11934.000000</td>\n",
       "      <td>11934.000000</td>\n",
       "      <td>11934.00000</td>\n",
       "      <td>11934.0000</td>\n",
       "    </tr>\n",
       "    <tr>\n",
       "      <th>mean</th>\n",
       "      <td>5.166667</td>\n",
       "      <td>15.000000</td>\n",
       "      <td>27247.498685</td>\n",
       "      <td>2136.289256</td>\n",
       "      <td>8200.947312</td>\n",
       "      <td>227.335768</td>\n",
       "      <td>227.335768</td>\n",
       "      <td>735.495446</td>\n",
       "      <td>288.0</td>\n",
       "      <td>646.215331</td>\n",
       "      <td>2.352963</td>\n",
       "      <td>9.980000e-01</td>\n",
       "      <td>12.297123</td>\n",
       "      <td>1.029474</td>\n",
       "      <td>33.641261</td>\n",
       "      <td>0.662440</td>\n",
       "      <td>0.97500</td>\n",
       "      <td>0.9875</td>\n",
       "    </tr>\n",
       "    <tr>\n",
       "      <th>std</th>\n",
       "      <td>2.626388</td>\n",
       "      <td>7.746291</td>\n",
       "      <td>22148.613155</td>\n",
       "      <td>774.083881</td>\n",
       "      <td>1091.315507</td>\n",
       "      <td>200.495889</td>\n",
       "      <td>200.495889</td>\n",
       "      <td>173.680552</td>\n",
       "      <td>0.0</td>\n",
       "      <td>72.675882</td>\n",
       "      <td>1.084770</td>\n",
       "      <td>2.533635e-13</td>\n",
       "      <td>5.337448</td>\n",
       "      <td>0.010390</td>\n",
       "      <td>25.841363</td>\n",
       "      <td>0.507132</td>\n",
       "      <td>0.01472</td>\n",
       "      <td>0.0075</td>\n",
       "    </tr>\n",
       "    <tr>\n",
       "      <th>min</th>\n",
       "      <td>1.138000</td>\n",
       "      <td>3.000000</td>\n",
       "      <td>253.547000</td>\n",
       "      <td>1307.675000</td>\n",
       "      <td>6589.002000</td>\n",
       "      <td>5.304000</td>\n",
       "      <td>5.304000</td>\n",
       "      <td>442.364000</td>\n",
       "      <td>288.0</td>\n",
       "      <td>540.442000</td>\n",
       "      <td>1.093000</td>\n",
       "      <td>9.980000e-01</td>\n",
       "      <td>5.828000</td>\n",
       "      <td>1.019000</td>\n",
       "      <td>0.000000</td>\n",
       "      <td>0.068000</td>\n",
       "      <td>0.95000</td>\n",
       "      <td>0.9750</td>\n",
       "    </tr>\n",
       "    <tr>\n",
       "      <th>25%</th>\n",
       "      <td>3.144000</td>\n",
       "      <td>9.000000</td>\n",
       "      <td>8375.883750</td>\n",
       "      <td>1386.758000</td>\n",
       "      <td>7058.324000</td>\n",
       "      <td>60.317000</td>\n",
       "      <td>60.317000</td>\n",
       "      <td>589.872750</td>\n",
       "      <td>288.0</td>\n",
       "      <td>578.092250</td>\n",
       "      <td>1.389000</td>\n",
       "      <td>9.980000e-01</td>\n",
       "      <td>7.447250</td>\n",
       "      <td>1.020000</td>\n",
       "      <td>13.677500</td>\n",
       "      <td>0.246000</td>\n",
       "      <td>0.96200</td>\n",
       "      <td>0.9810</td>\n",
       "    </tr>\n",
       "    <tr>\n",
       "      <th>50%</th>\n",
       "      <td>5.140000</td>\n",
       "      <td>15.000000</td>\n",
       "      <td>21630.659000</td>\n",
       "      <td>1924.326000</td>\n",
       "      <td>8482.081500</td>\n",
       "      <td>175.268000</td>\n",
       "      <td>175.268000</td>\n",
       "      <td>706.038000</td>\n",
       "      <td>288.0</td>\n",
       "      <td>637.141500</td>\n",
       "      <td>2.083000</td>\n",
       "      <td>9.980000e-01</td>\n",
       "      <td>11.092000</td>\n",
       "      <td>1.026000</td>\n",
       "      <td>25.276500</td>\n",
       "      <td>0.496000</td>\n",
       "      <td>0.97500</td>\n",
       "      <td>0.9875</td>\n",
       "    </tr>\n",
       "    <tr>\n",
       "      <th>75%</th>\n",
       "      <td>7.148000</td>\n",
       "      <td>21.000000</td>\n",
       "      <td>39001.426750</td>\n",
       "      <td>2678.079000</td>\n",
       "      <td>9132.606000</td>\n",
       "      <td>332.364750</td>\n",
       "      <td>332.364750</td>\n",
       "      <td>834.066250</td>\n",
       "      <td>288.0</td>\n",
       "      <td>693.924500</td>\n",
       "      <td>2.981000</td>\n",
       "      <td>9.980000e-01</td>\n",
       "      <td>15.658000</td>\n",
       "      <td>1.036000</td>\n",
       "      <td>44.552500</td>\n",
       "      <td>0.882000</td>\n",
       "      <td>0.98800</td>\n",
       "      <td>0.9940</td>\n",
       "    </tr>\n",
       "    <tr>\n",
       "      <th>max</th>\n",
       "      <td>9.300000</td>\n",
       "      <td>27.000000</td>\n",
       "      <td>72784.872000</td>\n",
       "      <td>3560.741000</td>\n",
       "      <td>9797.103000</td>\n",
       "      <td>645.249000</td>\n",
       "      <td>645.249000</td>\n",
       "      <td>1115.797000</td>\n",
       "      <td>288.0</td>\n",
       "      <td>789.094000</td>\n",
       "      <td>4.560000</td>\n",
       "      <td>9.980000e-01</td>\n",
       "      <td>23.140000</td>\n",
       "      <td>1.052000</td>\n",
       "      <td>92.556000</td>\n",
       "      <td>1.832000</td>\n",
       "      <td>1.00000</td>\n",
       "      <td>1.0000</td>\n",
       "    </tr>\n",
       "  </tbody>\n",
       "</table>\n",
       "</div>"
      ],
      "text/plain": [
       "                 0             1             2             3             4   \\\n",
       "count  11934.000000  11934.000000  11934.000000  11934.000000  11934.000000   \n",
       "mean       5.166667     15.000000  27247.498685   2136.289256   8200.947312   \n",
       "std        2.626388      7.746291  22148.613155    774.083881   1091.315507   \n",
       "min        1.138000      3.000000    253.547000   1307.675000   6589.002000   \n",
       "25%        3.144000      9.000000   8375.883750   1386.758000   7058.324000   \n",
       "50%        5.140000     15.000000  21630.659000   1924.326000   8482.081500   \n",
       "75%        7.148000     21.000000  39001.426750   2678.079000   9132.606000   \n",
       "max        9.300000     27.000000  72784.872000   3560.741000   9797.103000   \n",
       "\n",
       "                 5             6             7        8             9   \\\n",
       "count  11934.000000  11934.000000  11934.000000  11934.0  11934.000000   \n",
       "mean     227.335768    227.335768    735.495446    288.0    646.215331   \n",
       "std      200.495889    200.495889    173.680552      0.0     72.675882   \n",
       "min        5.304000      5.304000    442.364000    288.0    540.442000   \n",
       "25%       60.317000     60.317000    589.872750    288.0    578.092250   \n",
       "50%      175.268000    175.268000    706.038000    288.0    637.141500   \n",
       "75%      332.364750    332.364750    834.066250    288.0    693.924500   \n",
       "max      645.249000    645.249000   1115.797000    288.0    789.094000   \n",
       "\n",
       "                 10            11            12            13            14  \\\n",
       "count  11934.000000  1.193400e+04  11934.000000  11934.000000  11934.000000   \n",
       "mean       2.352963  9.980000e-01     12.297123      1.029474     33.641261   \n",
       "std        1.084770  2.533635e-13      5.337448      0.010390     25.841363   \n",
       "min        1.093000  9.980000e-01      5.828000      1.019000      0.000000   \n",
       "25%        1.389000  9.980000e-01      7.447250      1.020000     13.677500   \n",
       "50%        2.083000  9.980000e-01     11.092000      1.026000     25.276500   \n",
       "75%        2.981000  9.980000e-01     15.658000      1.036000     44.552500   \n",
       "max        4.560000  9.980000e-01     23.140000      1.052000     92.556000   \n",
       "\n",
       "                 15           16          17  \n",
       "count  11934.000000  11934.00000  11934.0000  \n",
       "mean       0.662440      0.97500      0.9875  \n",
       "std        0.507132      0.01472      0.0075  \n",
       "min        0.068000      0.95000      0.9750  \n",
       "25%        0.246000      0.96200      0.9810  \n",
       "50%        0.496000      0.97500      0.9875  \n",
       "75%        0.882000      0.98800      0.9940  \n",
       "max        1.832000      1.00000      1.0000  "
      ]
     },
     "execution_count": 14,
     "metadata": {},
     "output_type": "execute_result"
    }
   ],
   "source": [
    "data.describe()\n",
    "# смотрим статистические данные о столбцах\n",
    "# в столбцах 8 и 11 в каждой строке находятся одинаковые значения,\n",
    "# столбцы 5 и 6 совпадают"
   ]
  },
  {
   "cell_type": "code",
   "execution_count": 15,
   "id": "aeba0162",
   "metadata": {
    "scrolled": true
   },
   "outputs": [
    {
     "data": {
      "text/html": [
       "<div>\n",
       "<style scoped>\n",
       "    .dataframe tbody tr th:only-of-type {\n",
       "        vertical-align: middle;\n",
       "    }\n",
       "\n",
       "    .dataframe tbody tr th {\n",
       "        vertical-align: top;\n",
       "    }\n",
       "\n",
       "    .dataframe thead th {\n",
       "        text-align: right;\n",
       "    }\n",
       "</style>\n",
       "<table border=\"1\" class=\"dataframe\">\n",
       "  <thead>\n",
       "    <tr style=\"text-align: right;\">\n",
       "      <th></th>\n",
       "      <th>0</th>\n",
       "      <th>1</th>\n",
       "      <th>2</th>\n",
       "      <th>3</th>\n",
       "      <th>4</th>\n",
       "      <th>5</th>\n",
       "      <th>6</th>\n",
       "      <th>7</th>\n",
       "      <th>8</th>\n",
       "      <th>9</th>\n",
       "      <th>10</th>\n",
       "      <th>11</th>\n",
       "      <th>12</th>\n",
       "      <th>13</th>\n",
       "      <th>14</th>\n",
       "      <th>15</th>\n",
       "      <th>16</th>\n",
       "      <th>17</th>\n",
       "    </tr>\n",
       "  </thead>\n",
       "  <tbody>\n",
       "    <tr>\n",
       "      <th>0</th>\n",
       "      <td>1.000000e+00</td>\n",
       "      <td>9.999152e-01</td>\n",
       "      <td>0.961025</td>\n",
       "      <td>0.962090</td>\n",
       "      <td>0.986017</td>\n",
       "      <td>0.959241</td>\n",
       "      <td>0.959241</td>\n",
       "      <td>0.961242</td>\n",
       "      <td>NaN</td>\n",
       "      <td>0.982748</td>\n",
       "      <td>0.963058</td>\n",
       "      <td>NaN</td>\n",
       "      <td>0.969113</td>\n",
       "      <td>0.953361</td>\n",
       "      <td>0.913631</td>\n",
       "      <td>0.931422</td>\n",
       "      <td>2.264405e-15</td>\n",
       "      <td>8.566427e-17</td>\n",
       "    </tr>\n",
       "    <tr>\n",
       "      <th>1</th>\n",
       "      <td>9.999152e-01</td>\n",
       "      <td>1.000000e+00</td>\n",
       "      <td>0.958243</td>\n",
       "      <td>0.960412</td>\n",
       "      <td>0.986621</td>\n",
       "      <td>0.956371</td>\n",
       "      <td>0.956371</td>\n",
       "      <td>0.958841</td>\n",
       "      <td>NaN</td>\n",
       "      <td>0.981161</td>\n",
       "      <td>0.960613</td>\n",
       "      <td>NaN</td>\n",
       "      <td>0.966975</td>\n",
       "      <td>0.950813</td>\n",
       "      <td>0.910014</td>\n",
       "      <td>0.927815</td>\n",
       "      <td>6.346298e-16</td>\n",
       "      <td>9.367920e-18</td>\n",
       "    </tr>\n",
       "    <tr>\n",
       "      <th>2</th>\n",
       "      <td>9.610254e-01</td>\n",
       "      <td>9.582428e-01</td>\n",
       "      <td>1.000000</td>\n",
       "      <td>0.989723</td>\n",
       "      <td>0.932993</td>\n",
       "      <td>0.999177</td>\n",
       "      <td>0.999177</td>\n",
       "      <td>0.991130</td>\n",
       "      <td>NaN</td>\n",
       "      <td>0.990227</td>\n",
       "      <td>0.998900</td>\n",
       "      <td>NaN</td>\n",
       "      <td>0.997582</td>\n",
       "      <td>0.996046</td>\n",
       "      <td>0.977871</td>\n",
       "      <td>0.995082</td>\n",
       "      <td>2.978258e-03</td>\n",
       "      <td>3.576383e-04</td>\n",
       "    </tr>\n",
       "    <tr>\n",
       "      <th>3</th>\n",
       "      <td>9.620898e-01</td>\n",
       "      <td>9.604117e-01</td>\n",
       "      <td>0.989723</td>\n",
       "      <td>1.000000</td>\n",
       "      <td>0.943038</td>\n",
       "      <td>0.988625</td>\n",
       "      <td>0.988625</td>\n",
       "      <td>0.979638</td>\n",
       "      <td>NaN</td>\n",
       "      <td>0.989278</td>\n",
       "      <td>0.995103</td>\n",
       "      <td>NaN</td>\n",
       "      <td>0.996035</td>\n",
       "      <td>0.994019</td>\n",
       "      <td>0.962341</td>\n",
       "      <td>0.980223</td>\n",
       "      <td>1.369908e-03</td>\n",
       "      <td>-1.776556e-05</td>\n",
       "    </tr>\n",
       "    <tr>\n",
       "      <th>4</th>\n",
       "      <td>9.860173e-01</td>\n",
       "      <td>9.866210e-01</td>\n",
       "      <td>0.932993</td>\n",
       "      <td>0.943038</td>\n",
       "      <td>1.000000</td>\n",
       "      <td>0.929593</td>\n",
       "      <td>0.929593</td>\n",
       "      <td>0.939762</td>\n",
       "      <td>NaN</td>\n",
       "      <td>0.966659</td>\n",
       "      <td>0.937460</td>\n",
       "      <td>NaN</td>\n",
       "      <td>0.945938</td>\n",
       "      <td>0.924231</td>\n",
       "      <td>0.879120</td>\n",
       "      <td>0.896959</td>\n",
       "      <td>-1.883800e-02</td>\n",
       "      <td>1.000011e-02</td>\n",
       "    </tr>\n",
       "    <tr>\n",
       "      <th>5</th>\n",
       "      <td>9.592410e-01</td>\n",
       "      <td>9.563708e-01</td>\n",
       "      <td>0.999177</td>\n",
       "      <td>0.988625</td>\n",
       "      <td>0.929593</td>\n",
       "      <td>1.000000</td>\n",
       "      <td>1.000000</td>\n",
       "      <td>0.985962</td>\n",
       "      <td>NaN</td>\n",
       "      <td>0.987369</td>\n",
       "      <td>0.998012</td>\n",
       "      <td>NaN</td>\n",
       "      <td>0.996172</td>\n",
       "      <td>0.996238</td>\n",
       "      <td>0.977468</td>\n",
       "      <td>0.994366</td>\n",
       "      <td>7.535000e-04</td>\n",
       "      <td>1.044235e-04</td>\n",
       "    </tr>\n",
       "    <tr>\n",
       "      <th>6</th>\n",
       "      <td>9.592410e-01</td>\n",
       "      <td>9.563708e-01</td>\n",
       "      <td>0.999177</td>\n",
       "      <td>0.988625</td>\n",
       "      <td>0.929593</td>\n",
       "      <td>1.000000</td>\n",
       "      <td>1.000000</td>\n",
       "      <td>0.985962</td>\n",
       "      <td>NaN</td>\n",
       "      <td>0.987369</td>\n",
       "      <td>0.998012</td>\n",
       "      <td>NaN</td>\n",
       "      <td>0.996172</td>\n",
       "      <td>0.996238</td>\n",
       "      <td>0.977468</td>\n",
       "      <td>0.994366</td>\n",
       "      <td>7.535000e-04</td>\n",
       "      <td>1.044235e-04</td>\n",
       "    </tr>\n",
       "    <tr>\n",
       "      <th>7</th>\n",
       "      <td>9.612418e-01</td>\n",
       "      <td>9.588406e-01</td>\n",
       "      <td>0.991130</td>\n",
       "      <td>0.979638</td>\n",
       "      <td>0.939762</td>\n",
       "      <td>0.985962</td>\n",
       "      <td>0.985962</td>\n",
       "      <td>1.000000</td>\n",
       "      <td>NaN</td>\n",
       "      <td>0.992308</td>\n",
       "      <td>0.989383</td>\n",
       "      <td>NaN</td>\n",
       "      <td>0.990463</td>\n",
       "      <td>0.980071</td>\n",
       "      <td>0.969655</td>\n",
       "      <td>0.986318</td>\n",
       "      <td>-3.962512e-02</td>\n",
       "      <td>-3.846390e-02</td>\n",
       "    </tr>\n",
       "    <tr>\n",
       "      <th>8</th>\n",
       "      <td>NaN</td>\n",
       "      <td>NaN</td>\n",
       "      <td>NaN</td>\n",
       "      <td>NaN</td>\n",
       "      <td>NaN</td>\n",
       "      <td>NaN</td>\n",
       "      <td>NaN</td>\n",
       "      <td>NaN</td>\n",
       "      <td>NaN</td>\n",
       "      <td>NaN</td>\n",
       "      <td>NaN</td>\n",
       "      <td>NaN</td>\n",
       "      <td>NaN</td>\n",
       "      <td>NaN</td>\n",
       "      <td>NaN</td>\n",
       "      <td>NaN</td>\n",
       "      <td>NaN</td>\n",
       "      <td>NaN</td>\n",
       "    </tr>\n",
       "    <tr>\n",
       "      <th>9</th>\n",
       "      <td>9.827476e-01</td>\n",
       "      <td>9.811609e-01</td>\n",
       "      <td>0.990227</td>\n",
       "      <td>0.989278</td>\n",
       "      <td>0.966659</td>\n",
       "      <td>0.987369</td>\n",
       "      <td>0.987369</td>\n",
       "      <td>0.992308</td>\n",
       "      <td>NaN</td>\n",
       "      <td>1.000000</td>\n",
       "      <td>0.991704</td>\n",
       "      <td>NaN</td>\n",
       "      <td>0.994373</td>\n",
       "      <td>0.983461</td>\n",
       "      <td>0.958711</td>\n",
       "      <td>0.976453</td>\n",
       "      <td>-4.717657e-02</td>\n",
       "      <td>-1.685505e-02</td>\n",
       "    </tr>\n",
       "    <tr>\n",
       "      <th>10</th>\n",
       "      <td>9.630581e-01</td>\n",
       "      <td>9.606126e-01</td>\n",
       "      <td>0.998900</td>\n",
       "      <td>0.995103</td>\n",
       "      <td>0.937460</td>\n",
       "      <td>0.998012</td>\n",
       "      <td>0.998012</td>\n",
       "      <td>0.989383</td>\n",
       "      <td>NaN</td>\n",
       "      <td>0.991704</td>\n",
       "      <td>1.000000</td>\n",
       "      <td>NaN</td>\n",
       "      <td>0.999401</td>\n",
       "      <td>0.997941</td>\n",
       "      <td>0.975704</td>\n",
       "      <td>0.992728</td>\n",
       "      <td>8.167586e-03</td>\n",
       "      <td>-2.718186e-03</td>\n",
       "    </tr>\n",
       "    <tr>\n",
       "      <th>11</th>\n",
       "      <td>NaN</td>\n",
       "      <td>NaN</td>\n",
       "      <td>NaN</td>\n",
       "      <td>NaN</td>\n",
       "      <td>NaN</td>\n",
       "      <td>NaN</td>\n",
       "      <td>NaN</td>\n",
       "      <td>NaN</td>\n",
       "      <td>NaN</td>\n",
       "      <td>NaN</td>\n",
       "      <td>NaN</td>\n",
       "      <td>NaN</td>\n",
       "      <td>NaN</td>\n",
       "      <td>NaN</td>\n",
       "      <td>NaN</td>\n",
       "      <td>NaN</td>\n",
       "      <td>NaN</td>\n",
       "      <td>NaN</td>\n",
       "    </tr>\n",
       "    <tr>\n",
       "      <th>12</th>\n",
       "      <td>9.691129e-01</td>\n",
       "      <td>9.669746e-01</td>\n",
       "      <td>0.997582</td>\n",
       "      <td>0.996035</td>\n",
       "      <td>0.945938</td>\n",
       "      <td>0.996172</td>\n",
       "      <td>0.996172</td>\n",
       "      <td>0.990463</td>\n",
       "      <td>NaN</td>\n",
       "      <td>0.994373</td>\n",
       "      <td>0.999401</td>\n",
       "      <td>NaN</td>\n",
       "      <td>1.000000</td>\n",
       "      <td>0.996339</td>\n",
       "      <td>0.972109</td>\n",
       "      <td>0.989260</td>\n",
       "      <td>8.327871e-03</td>\n",
       "      <td>-1.830336e-02</td>\n",
       "    </tr>\n",
       "    <tr>\n",
       "      <th>13</th>\n",
       "      <td>9.533607e-01</td>\n",
       "      <td>9.508128e-01</td>\n",
       "      <td>0.996046</td>\n",
       "      <td>0.994019</td>\n",
       "      <td>0.924231</td>\n",
       "      <td>0.996238</td>\n",
       "      <td>0.996238</td>\n",
       "      <td>0.980071</td>\n",
       "      <td>NaN</td>\n",
       "      <td>0.983461</td>\n",
       "      <td>0.997941</td>\n",
       "      <td>NaN</td>\n",
       "      <td>0.996339</td>\n",
       "      <td>1.000000</td>\n",
       "      <td>0.974193</td>\n",
       "      <td>0.990981</td>\n",
       "      <td>3.528524e-02</td>\n",
       "      <td>1.179423e-02</td>\n",
       "    </tr>\n",
       "    <tr>\n",
       "      <th>14</th>\n",
       "      <td>9.136309e-01</td>\n",
       "      <td>9.100139e-01</td>\n",
       "      <td>0.977871</td>\n",
       "      <td>0.962341</td>\n",
       "      <td>0.879120</td>\n",
       "      <td>0.977468</td>\n",
       "      <td>0.977468</td>\n",
       "      <td>0.969655</td>\n",
       "      <td>NaN</td>\n",
       "      <td>0.958711</td>\n",
       "      <td>0.975704</td>\n",
       "      <td>NaN</td>\n",
       "      <td>0.972109</td>\n",
       "      <td>0.974193</td>\n",
       "      <td>1.000000</td>\n",
       "      <td>0.985544</td>\n",
       "      <td>-3.203662e-02</td>\n",
       "      <td>-1.887184e-02</td>\n",
       "    </tr>\n",
       "    <tr>\n",
       "      <th>15</th>\n",
       "      <td>9.314219e-01</td>\n",
       "      <td>9.278150e-01</td>\n",
       "      <td>0.995082</td>\n",
       "      <td>0.980223</td>\n",
       "      <td>0.896959</td>\n",
       "      <td>0.994366</td>\n",
       "      <td>0.994366</td>\n",
       "      <td>0.986318</td>\n",
       "      <td>NaN</td>\n",
       "      <td>0.976453</td>\n",
       "      <td>0.992728</td>\n",
       "      <td>NaN</td>\n",
       "      <td>0.989260</td>\n",
       "      <td>0.990981</td>\n",
       "      <td>0.985544</td>\n",
       "      <td>1.000000</td>\n",
       "      <td>-1.366765e-02</td>\n",
       "      <td>-1.732675e-02</td>\n",
       "    </tr>\n",
       "    <tr>\n",
       "      <th>16</th>\n",
       "      <td>2.264405e-15</td>\n",
       "      <td>6.346298e-16</td>\n",
       "      <td>0.002978</td>\n",
       "      <td>0.001370</td>\n",
       "      <td>-0.018838</td>\n",
       "      <td>0.000754</td>\n",
       "      <td>0.000754</td>\n",
       "      <td>-0.039625</td>\n",
       "      <td>NaN</td>\n",
       "      <td>-0.047177</td>\n",
       "      <td>0.008168</td>\n",
       "      <td>NaN</td>\n",
       "      <td>0.008328</td>\n",
       "      <td>0.035285</td>\n",
       "      <td>-0.032037</td>\n",
       "      <td>-0.013668</td>\n",
       "      <td>1.000000e+00</td>\n",
       "      <td>4.064242e-14</td>\n",
       "    </tr>\n",
       "    <tr>\n",
       "      <th>17</th>\n",
       "      <td>8.566427e-17</td>\n",
       "      <td>9.367920e-18</td>\n",
       "      <td>0.000358</td>\n",
       "      <td>-0.000018</td>\n",
       "      <td>0.010000</td>\n",
       "      <td>0.000104</td>\n",
       "      <td>0.000104</td>\n",
       "      <td>-0.038464</td>\n",
       "      <td>NaN</td>\n",
       "      <td>-0.016855</td>\n",
       "      <td>-0.002718</td>\n",
       "      <td>NaN</td>\n",
       "      <td>-0.018303</td>\n",
       "      <td>0.011794</td>\n",
       "      <td>-0.018872</td>\n",
       "      <td>-0.017327</td>\n",
       "      <td>4.064242e-14</td>\n",
       "      <td>1.000000e+00</td>\n",
       "    </tr>\n",
       "  </tbody>\n",
       "</table>\n",
       "</div>"
      ],
      "text/plain": [
       "              0             1         2         3         4         5   \\\n",
       "0   1.000000e+00  9.999152e-01  0.961025  0.962090  0.986017  0.959241   \n",
       "1   9.999152e-01  1.000000e+00  0.958243  0.960412  0.986621  0.956371   \n",
       "2   9.610254e-01  9.582428e-01  1.000000  0.989723  0.932993  0.999177   \n",
       "3   9.620898e-01  9.604117e-01  0.989723  1.000000  0.943038  0.988625   \n",
       "4   9.860173e-01  9.866210e-01  0.932993  0.943038  1.000000  0.929593   \n",
       "5   9.592410e-01  9.563708e-01  0.999177  0.988625  0.929593  1.000000   \n",
       "6   9.592410e-01  9.563708e-01  0.999177  0.988625  0.929593  1.000000   \n",
       "7   9.612418e-01  9.588406e-01  0.991130  0.979638  0.939762  0.985962   \n",
       "8            NaN           NaN       NaN       NaN       NaN       NaN   \n",
       "9   9.827476e-01  9.811609e-01  0.990227  0.989278  0.966659  0.987369   \n",
       "10  9.630581e-01  9.606126e-01  0.998900  0.995103  0.937460  0.998012   \n",
       "11           NaN           NaN       NaN       NaN       NaN       NaN   \n",
       "12  9.691129e-01  9.669746e-01  0.997582  0.996035  0.945938  0.996172   \n",
       "13  9.533607e-01  9.508128e-01  0.996046  0.994019  0.924231  0.996238   \n",
       "14  9.136309e-01  9.100139e-01  0.977871  0.962341  0.879120  0.977468   \n",
       "15  9.314219e-01  9.278150e-01  0.995082  0.980223  0.896959  0.994366   \n",
       "16  2.264405e-15  6.346298e-16  0.002978  0.001370 -0.018838  0.000754   \n",
       "17  8.566427e-17  9.367920e-18  0.000358 -0.000018  0.010000  0.000104   \n",
       "\n",
       "          6         7   8         9         10  11        12        13  \\\n",
       "0   0.959241  0.961242 NaN  0.982748  0.963058 NaN  0.969113  0.953361   \n",
       "1   0.956371  0.958841 NaN  0.981161  0.960613 NaN  0.966975  0.950813   \n",
       "2   0.999177  0.991130 NaN  0.990227  0.998900 NaN  0.997582  0.996046   \n",
       "3   0.988625  0.979638 NaN  0.989278  0.995103 NaN  0.996035  0.994019   \n",
       "4   0.929593  0.939762 NaN  0.966659  0.937460 NaN  0.945938  0.924231   \n",
       "5   1.000000  0.985962 NaN  0.987369  0.998012 NaN  0.996172  0.996238   \n",
       "6   1.000000  0.985962 NaN  0.987369  0.998012 NaN  0.996172  0.996238   \n",
       "7   0.985962  1.000000 NaN  0.992308  0.989383 NaN  0.990463  0.980071   \n",
       "8        NaN       NaN NaN       NaN       NaN NaN       NaN       NaN   \n",
       "9   0.987369  0.992308 NaN  1.000000  0.991704 NaN  0.994373  0.983461   \n",
       "10  0.998012  0.989383 NaN  0.991704  1.000000 NaN  0.999401  0.997941   \n",
       "11       NaN       NaN NaN       NaN       NaN NaN       NaN       NaN   \n",
       "12  0.996172  0.990463 NaN  0.994373  0.999401 NaN  1.000000  0.996339   \n",
       "13  0.996238  0.980071 NaN  0.983461  0.997941 NaN  0.996339  1.000000   \n",
       "14  0.977468  0.969655 NaN  0.958711  0.975704 NaN  0.972109  0.974193   \n",
       "15  0.994366  0.986318 NaN  0.976453  0.992728 NaN  0.989260  0.990981   \n",
       "16  0.000754 -0.039625 NaN -0.047177  0.008168 NaN  0.008328  0.035285   \n",
       "17  0.000104 -0.038464 NaN -0.016855 -0.002718 NaN -0.018303  0.011794   \n",
       "\n",
       "          14        15            16            17  \n",
       "0   0.913631  0.931422  2.264405e-15  8.566427e-17  \n",
       "1   0.910014  0.927815  6.346298e-16  9.367920e-18  \n",
       "2   0.977871  0.995082  2.978258e-03  3.576383e-04  \n",
       "3   0.962341  0.980223  1.369908e-03 -1.776556e-05  \n",
       "4   0.879120  0.896959 -1.883800e-02  1.000011e-02  \n",
       "5   0.977468  0.994366  7.535000e-04  1.044235e-04  \n",
       "6   0.977468  0.994366  7.535000e-04  1.044235e-04  \n",
       "7   0.969655  0.986318 -3.962512e-02 -3.846390e-02  \n",
       "8        NaN       NaN           NaN           NaN  \n",
       "9   0.958711  0.976453 -4.717657e-02 -1.685505e-02  \n",
       "10  0.975704  0.992728  8.167586e-03 -2.718186e-03  \n",
       "11       NaN       NaN           NaN           NaN  \n",
       "12  0.972109  0.989260  8.327871e-03 -1.830336e-02  \n",
       "13  0.974193  0.990981  3.528524e-02  1.179423e-02  \n",
       "14  1.000000  0.985544 -3.203662e-02 -1.887184e-02  \n",
       "15  0.985544  1.000000 -1.366765e-02 -1.732675e-02  \n",
       "16 -0.032037 -0.013668  1.000000e+00  4.064242e-14  \n",
       "17 -0.018872 -0.017327  4.064242e-14  1.000000e+00  "
      ]
     },
     "execution_count": 15,
     "metadata": {},
     "output_type": "execute_result"
    }
   ],
   "source": [
    "data.corr()"
   ]
  },
  {
   "cell_type": "code",
   "execution_count": 16,
   "id": "a3ef3887",
   "metadata": {
    "scrolled": true
   },
   "outputs": [],
   "source": [
    "data.drop([6,8,11,17], axis=1, inplace=True)\n",
    "# удаляем столбец 17, т.к. он связан с целевым признаком\n",
    "# cтолбцы 8 и 11 удаляем, т.к. в них в каждой строке находятся одинаковые значения, они не будут оказывать влияние на итоговый результат\n",
    "# cтолбец 6 удаляем, т.к. он линейно зависим со столбцом 5, их коэффициент корреляции равен 1"
   ]
  },
  {
   "cell_type": "code",
   "execution_count": 17,
   "id": "7f6c16ab",
   "metadata": {
    "scrolled": true
   },
   "outputs": [],
   "source": [
    "y=data.pop(16)\n",
    "#присваиваем y целевой признак, удаляем его из датасета"
   ]
  },
  {
   "cell_type": "code",
   "execution_count": 18,
   "id": "643044b6",
   "metadata": {
    "scrolled": true
   },
   "outputs": [],
   "source": [
    "x=data\n",
    "#присваиваем датасет x"
   ]
  },
  {
   "cell_type": "code",
   "execution_count": 19,
   "id": "5945d4f0",
   "metadata": {
    "scrolled": true
   },
   "outputs": [],
   "source": [
    "from sklearn.linear_model import LinearRegression\n",
    "from sklearn.preprocessing import PolynomialFeatures\n",
    "from sklearn.pipeline import Pipeline\n",
    "from sklearn.model_selection import train_test_split, cross_val_score"
   ]
  },
  {
   "cell_type": "code",
   "execution_count": 20,
   "id": "112ae133",
   "metadata": {
    "scrolled": true
   },
   "outputs": [],
   "source": [
    "X_train, X_test, y_train, y_test = train_test_split(x, y, train_size = 0.7)\n",
    "# разбиваем датасет на выборки"
   ]
  },
  {
   "cell_type": "code",
   "execution_count": 21,
   "id": "c05e834d",
   "metadata": {
    "scrolled": true
   },
   "outputs": [],
   "source": [
    "#строим модель линейной регрессии\n",
    "lin_reg = LinearRegression()"
   ]
  },
  {
   "cell_type": "code",
   "execution_count": 22,
   "id": "6186e3c4",
   "metadata": {
    "scrolled": true
   },
   "outputs": [
    {
     "data": {
      "text/html": [
       "<style>#sk-container-id-1 {color: black;}#sk-container-id-1 pre{padding: 0;}#sk-container-id-1 div.sk-toggleable {background-color: white;}#sk-container-id-1 label.sk-toggleable__label {cursor: pointer;display: block;width: 100%;margin-bottom: 0;padding: 0.3em;box-sizing: border-box;text-align: center;}#sk-container-id-1 label.sk-toggleable__label-arrow:before {content: \"▸\";float: left;margin-right: 0.25em;color: #696969;}#sk-container-id-1 label.sk-toggleable__label-arrow:hover:before {color: black;}#sk-container-id-1 div.sk-estimator:hover label.sk-toggleable__label-arrow:before {color: black;}#sk-container-id-1 div.sk-toggleable__content {max-height: 0;max-width: 0;overflow: hidden;text-align: left;background-color: #f0f8ff;}#sk-container-id-1 div.sk-toggleable__content pre {margin: 0.2em;color: black;border-radius: 0.25em;background-color: #f0f8ff;}#sk-container-id-1 input.sk-toggleable__control:checked~div.sk-toggleable__content {max-height: 200px;max-width: 100%;overflow: auto;}#sk-container-id-1 input.sk-toggleable__control:checked~label.sk-toggleable__label-arrow:before {content: \"▾\";}#sk-container-id-1 div.sk-estimator input.sk-toggleable__control:checked~label.sk-toggleable__label {background-color: #d4ebff;}#sk-container-id-1 div.sk-label input.sk-toggleable__control:checked~label.sk-toggleable__label {background-color: #d4ebff;}#sk-container-id-1 input.sk-hidden--visually {border: 0;clip: rect(1px 1px 1px 1px);clip: rect(1px, 1px, 1px, 1px);height: 1px;margin: -1px;overflow: hidden;padding: 0;position: absolute;width: 1px;}#sk-container-id-1 div.sk-estimator {font-family: monospace;background-color: #f0f8ff;border: 1px dotted black;border-radius: 0.25em;box-sizing: border-box;margin-bottom: 0.5em;}#sk-container-id-1 div.sk-estimator:hover {background-color: #d4ebff;}#sk-container-id-1 div.sk-parallel-item::after {content: \"\";width: 100%;border-bottom: 1px solid gray;flex-grow: 1;}#sk-container-id-1 div.sk-label:hover label.sk-toggleable__label {background-color: #d4ebff;}#sk-container-id-1 div.sk-serial::before {content: \"\";position: absolute;border-left: 1px solid gray;box-sizing: border-box;top: 0;bottom: 0;left: 50%;z-index: 0;}#sk-container-id-1 div.sk-serial {display: flex;flex-direction: column;align-items: center;background-color: white;padding-right: 0.2em;padding-left: 0.2em;position: relative;}#sk-container-id-1 div.sk-item {position: relative;z-index: 1;}#sk-container-id-1 div.sk-parallel {display: flex;align-items: stretch;justify-content: center;background-color: white;position: relative;}#sk-container-id-1 div.sk-item::before, #sk-container-id-1 div.sk-parallel-item::before {content: \"\";position: absolute;border-left: 1px solid gray;box-sizing: border-box;top: 0;bottom: 0;left: 50%;z-index: -1;}#sk-container-id-1 div.sk-parallel-item {display: flex;flex-direction: column;z-index: 1;position: relative;background-color: white;}#sk-container-id-1 div.sk-parallel-item:first-child::after {align-self: flex-end;width: 50%;}#sk-container-id-1 div.sk-parallel-item:last-child::after {align-self: flex-start;width: 50%;}#sk-container-id-1 div.sk-parallel-item:only-child::after {width: 0;}#sk-container-id-1 div.sk-dashed-wrapped {border: 1px dashed gray;margin: 0 0.4em 0.5em 0.4em;box-sizing: border-box;padding-bottom: 0.4em;background-color: white;}#sk-container-id-1 div.sk-label label {font-family: monospace;font-weight: bold;display: inline-block;line-height: 1.2em;}#sk-container-id-1 div.sk-label-container {text-align: center;}#sk-container-id-1 div.sk-container {/* jupyter's `normalize.less` sets `[hidden] { display: none; }` but bootstrap.min.css set `[hidden] { display: none !important; }` so we also need the `!important` here to be able to override the default hidden behavior on the sphinx rendered scikit-learn.org. See: https://github.com/scikit-learn/scikit-learn/issues/21755 */display: inline-block !important;position: relative;}#sk-container-id-1 div.sk-text-repr-fallback {display: none;}</style><div id=\"sk-container-id-1\" class=\"sk-top-container\"><div class=\"sk-text-repr-fallback\"><pre>LinearRegression()</pre><b>In a Jupyter environment, please rerun this cell to show the HTML representation or trust the notebook. <br />On GitHub, the HTML representation is unable to render, please try loading this page with nbviewer.org.</b></div><div class=\"sk-container\" hidden><div class=\"sk-item\"><div class=\"sk-estimator sk-toggleable\"><input class=\"sk-toggleable__control sk-hidden--visually\" id=\"sk-estimator-id-1\" type=\"checkbox\" checked><label for=\"sk-estimator-id-1\" class=\"sk-toggleable__label sk-toggleable__label-arrow\">LinearRegression</label><div class=\"sk-toggleable__content\"><pre>LinearRegression()</pre></div></div></div></div></div>"
      ],
      "text/plain": [
       "LinearRegression()"
      ]
     },
     "execution_count": 22,
     "metadata": {},
     "output_type": "execute_result"
    }
   ],
   "source": [
    "lin_reg.fit(x,y)\n",
    "#обучаем"
   ]
  },
  {
   "cell_type": "code",
   "execution_count": 23,
   "id": "de65b097",
   "metadata": {
    "scrolled": true
   },
   "outputs": [
    {
     "name": "stdout",
     "output_type": "stream",
     "text": [
      "R2 на обучающем : 0.8414856416436725 ; на тестовом: 0.8465629135180461\n",
      "Cross-validation: -3.3756554142599047\n"
     ]
    }
   ],
   "source": [
    "print('R2 на обучающем :', lin_reg.score(X_train,y_train), '; на тестовом:', lin_reg.score(X_test,y_test))\n",
    "print('Cross-validation:', np.mean(cross_val_score(lin_reg, x, y, cv=4)))\n",
    "#смотрим метрику R2\n",
    "# модель показала неплохой результат на обучающей и тестовой выборке, но плохой на кросс-валидации, \n",
    "# которая позволяет дать более объективную оценку ее точности\n",
    "#R2 на обучающем : 0.8419665534695984 ; на тестовом: 0.845422993153675\n",
    "#Cross-validation: -3.3756554142599047"
   ]
  },
  {
   "cell_type": "code",
   "execution_count": 24,
   "id": "f2dcdc8a",
   "metadata": {
    "scrolled": true
   },
   "outputs": [
    {
     "name": "stdout",
     "output_type": "stream",
     "text": [
      "R^2 scores for each fold: [-5.32293644 -0.81533729 -1.23759505 -6.12675288]\n"
     ]
    }
   ],
   "source": [
    "scores = cross_val_score(lin_reg, x, y, cv=4)\n",
    "print('R^2 scores for each fold:', scores)"
   ]
  },
  {
   "cell_type": "code",
   "execution_count": 25,
   "id": "5c01d468",
   "metadata": {
    "scrolled": true
   },
   "outputs": [],
   "source": [
    "from sklearn.preprocessing import MinMaxScaler, StandardScaler"
   ]
  },
  {
   "cell_type": "code",
   "execution_count": 26,
   "id": "b9ee7990",
   "metadata": {
    "scrolled": true
   },
   "outputs": [],
   "source": [
    "mm_scaler = MinMaxScaler((-1,1))\n",
    "std_scaler = StandardScaler()"
   ]
  },
  {
   "cell_type": "code",
   "execution_count": 27,
   "id": "06f3dacc",
   "metadata": {
    "scrolled": true
   },
   "outputs": [],
   "source": [
    "#стандартизируем данные, т.к. значения в разных столбцах имеют сильно отличающиеся порядки\n",
    "X_mm_scaled = mm_scaler.fit_transform(x)\n",
    "X_std_scaled = std_scaler.fit_transform(x)"
   ]
  },
  {
   "cell_type": "code",
   "execution_count": 28,
   "id": "0151f03b",
   "metadata": {
    "scrolled": true
   },
   "outputs": [
    {
     "name": "stdout",
     "output_type": "stream",
     "text": [
      "Cross-validation: -3.375655414381872\n"
     ]
    }
   ],
   "source": [
    "print('Cross-validation:', np.mean(cross_val_score(lin_reg, X_mm_scaled, y, cv=4)))"
   ]
  },
  {
   "cell_type": "code",
   "execution_count": 29,
   "id": "36c3b942",
   "metadata": {
    "scrolled": true
   },
   "outputs": [
    {
     "name": "stdout",
     "output_type": "stream",
     "text": [
      "Cross-validation: -3.375655414381537\n"
     ]
    }
   ],
   "source": [
    "print('Cross-validation:', np.mean(cross_val_score(lin_reg, X_std_scaled, y, cv=4)))"
   ]
  },
  {
   "cell_type": "code",
   "execution_count": 30,
   "id": "c3e4dae1",
   "metadata": {
    "scrolled": true
   },
   "outputs": [],
   "source": [
    "#стандартизация не дала улучшения результатов на кросс-валидации\n",
    "#Cross-validation: -3.375655414381872\n",
    "#Cross-validation: -3.375655414381537\n",
    "#добавим полиномиальных признаков\n",
    "pol_lin = Pipeline([('poly', PolynomialFeatures(degree=2)),\n",
    "                    ('regr', LinearRegression())])"
   ]
  },
  {
   "cell_type": "code",
   "execution_count": 31,
   "id": "279f1b8b",
   "metadata": {},
   "outputs": [
    {
     "name": "stdout",
     "output_type": "stream",
     "text": [
      "Linear Cross-validation: 0.999342045973333\n"
     ]
    }
   ],
   "source": [
    "print('Linear Cross-validation:', np.mean(cross_val_score(pol_lin, x, y, cv=4)))"
   ]
  },
  {
   "cell_type": "code",
   "execution_count": 32,
   "id": "61d76a9a",
   "metadata": {
    "scrolled": true
   },
   "outputs": [
    {
     "name": "stdout",
     "output_type": "stream",
     "text": [
      "Linear Cross-validation: 0.9995315255906575\n"
     ]
    }
   ],
   "source": [
    "print('Linear Cross-validation:', np.mean(cross_val_score(pol_lin,X_std_scaled , y, cv=4)))"
   ]
  },
  {
   "cell_type": "code",
   "execution_count": 33,
   "id": "0947f5a9",
   "metadata": {
    "scrolled": true
   },
   "outputs": [
    {
     "name": "stdout",
     "output_type": "stream",
     "text": [
      "Linear Cross-validation: 0.9995315255916939\n"
     ]
    }
   ],
   "source": [
    "print('Linear Cross-validation:', np.mean(cross_val_score(pol_lin, X_mm_scaled, y, cv=4)))"
   ]
  },
  {
   "cell_type": "markdown",
   "id": "d66d44d5",
   "metadata": {},
   "source": [
    "результат улучшился\n",
    "Linear Cross-validation: 0.9995315255906575\n",
    "Linear Cross-validation: 0.9995315255916939\n",
    "Применим регуляризацию, для избежания переобучения и борьбы с мультиколлинеарностью"
   ]
  },
  {
   "cell_type": "code",
   "execution_count": 34,
   "id": "2c1b2a5f",
   "metadata": {
    "scrolled": true
   },
   "outputs": [
    {
     "name": "stdout",
     "output_type": "stream",
     "text": [
      "Lasso R2 на обучающем : 0.0 ; на тестовом: -0.00012750119962490203\n",
      "Lasso Cross-validation: -26.60533276197\n",
      "Ridge R2 на обучающем : 0.8223849666644593 ; на тестовом: 0.8223799371575544\n",
      "Ridge Cross-validation: -3.6073133789205443\n"
     ]
    }
   ],
   "source": [
    "from sklearn.linear_model import Lasso, Ridge\n",
    "las = Lasso()\n",
    "rid = Ridge()\n",
    "\n",
    "las.fit(X_train, y_train)\n",
    "rid.fit(X_train, y_train)\n",
    "\n",
    "print('Lasso R2 на обучающем :', las.score(X_train,y_train), '; на тестовом:', las.score(X_test,y_test))\n",
    "print('Lasso Cross-validation:', np.mean(cross_val_score(las, x, y, cv=4)))\n",
    "\n",
    "print('Ridge R2 на обучающем :', rid.score(X_train,y_train), '; на тестовом:', rid.score(X_test,y_test))\n",
    "print('Ridge Cross-validation:', np.mean(cross_val_score(rid, x, y, cv=4)))\n",
    "#Для модели линейной регриссии без полиномиальных признаков применение регуляризации не дает улучшения результатов"
   ]
  },
  {
   "cell_type": "code",
   "execution_count": 35,
   "id": "a68e86f0",
   "metadata": {
    "scrolled": true
   },
   "outputs": [],
   "source": [
    "#прменим регуляризацию и полиномиальные признаки\n",
    "\n",
    "pol_las = Pipeline([('poly', PolynomialFeatures(degree=2)),\n",
    "                    ('regr', Lasso(alpha=0.0000001, max_iter=1000000))])\n",
    "\n",
    "pol_rid = Pipeline([('poly', PolynomialFeatures(degree=3)),\n",
    "                   ('regr', Ridge(alpha=0.1, max_iter=1000))])\n",
    "# для модели с регуляризацией типа L1(lasso) увеличино количество итераций, и уменьшен коэффициент alpha для сходимости алшоритма,\n",
    "# но при данных значениях все еще было предупреждение о несходимости алгоритма, хотя результат на кросс-валидации улучшился\n",
    "# по сравнению с результатом применения регуляризации типа L1 к линейной модели без добавления полиномиальных признаков\n",
    "# в сравнении с моделью, где использовалась регуляризацией типа L1(lasso), но не использовались полиномиальные признаки\n",
    "# для модели с регуляризацией типа L2(ridge) увеличина степень до 3 для решения проблемы с предупреждением о плохой обусловленности матрицы"
   ]
  },
  {
   "cell_type": "code",
   "execution_count": 100,
   "id": "3f03da33",
   "metadata": {
    "scrolled": true
   },
   "outputs": [
    {
     "name": "stderr",
     "output_type": "stream",
     "text": [
      "C:\\Users\\tat0e\\anaconda3\\Lib\\site-packages\\sklearn\\linear_model\\_coordinate_descent.py:628: ConvergenceWarning: Objective did not converge. You might want to increase the number of iterations, check the scale of the features or consider increasing regularisation. Duality gap: 2.188e-03, tolerance: 1.091e-04\n",
      "  model = cd_fast.enet_coordinate_descent(\n",
      "C:\\Users\\tat0e\\anaconda3\\Lib\\site-packages\\sklearn\\linear_model\\_coordinate_descent.py:628: ConvergenceWarning: Objective did not converge. You might want to increase the number of iterations, check the scale of the features or consider increasing regularisation. Duality gap: 2.662e-03, tolerance: 2.383e-04\n",
      "  model = cd_fast.enet_coordinate_descent(\n",
      "C:\\Users\\tat0e\\anaconda3\\Lib\\site-packages\\sklearn\\linear_model\\_coordinate_descent.py:628: ConvergenceWarning: Objective did not converge. You might want to increase the number of iterations, check the scale of the features or consider increasing regularisation. Duality gap: 2.615e-03, tolerance: 2.383e-04\n",
      "  model = cd_fast.enet_coordinate_descent(\n"
     ]
    },
    {
     "name": "stdout",
     "output_type": "stream",
     "text": [
      "Lasso Cross-validation: 0.9303057641219858\n"
     ]
    },
    {
     "name": "stderr",
     "output_type": "stream",
     "text": [
      "C:\\Users\\tat0e\\anaconda3\\Lib\\site-packages\\sklearn\\linear_model\\_coordinate_descent.py:628: ConvergenceWarning: Objective did not converge. You might want to increase the number of iterations, check the scale of the features or consider increasing regularisation. Duality gap: 1.953e-03, tolerance: 1.092e-04\n",
      "  model = cd_fast.enet_coordinate_descent(\n"
     ]
    }
   ],
   "source": [
    "print('Lasso Cross-validation:', np.mean(cross_val_score(pol_las, x, y, cv=4)))"
   ]
  },
  {
   "cell_type": "code",
   "execution_count": 36,
   "id": "975db6cc",
   "metadata": {
    "scrolled": true
   },
   "outputs": [
    {
     "name": "stdout",
     "output_type": "stream",
     "text": [
      "Ridge Cross-validation: 0.9998366990367242\n"
     ]
    }
   ],
   "source": [
    "print('Ridge Cross-validation:', np.mean(cross_val_score(pol_rid, x, y, cv=4)))\n",
    "# проверка модели с L2 регуляризацией показала хороший результат на кросс-валидации\n",
    "# Ridge Cross-validation: 0.9998366990367242"
   ]
  },
  {
   "cell_type": "code",
   "execution_count": 37,
   "id": "66af2770",
   "metadata": {
    "scrolled": true
   },
   "outputs": [],
   "source": [
    "# проверим работу моделей с полиномиальными признаками и регуляризацией для стандартизованных данных\n",
    "pol_las_std = Pipeline([('poly', PolynomialFeatures(degree=2)),\n",
    "                    ('scaler', StandardScaler()),\n",
    "                    ('regr', Lasso(alpha=0.1, max_iter=1000))])\n",
    "pol_rid_std = Pipeline([('poly', PolynomialFeatures(degree=2)),\n",
    "                    ('scaler', StandardScaler()),\n",
    "                    ('regr', Ridge(alpha=0.1, max_iter=1000))])\n",
    "\n",
    "pol_las_mm = Pipeline([('poly', PolynomialFeatures(degree=2)),\n",
    "                    ('scaler', MinMaxScaler((-1,1))),\n",
    "                    ('regr', Lasso(alpha=0.1, max_iter=1000))])\n",
    "pol_rid_mm = Pipeline([('poly', PolynomialFeatures(degree=2)),\n",
    "                    ('scaler', MinMaxScaler((-1,1))),\n",
    "                    ('regr', Ridge(alpha=0.1, max_iter=1000))])"
   ]
  },
  {
   "cell_type": "code",
   "execution_count": 38,
   "id": "08d29c6b",
   "metadata": {
    "scrolled": false
   },
   "outputs": [
    {
     "name": "stdout",
     "output_type": "stream",
     "text": [
      "Lasso Cross-validation mm: -26.605333999008934\n"
     ]
    }
   ],
   "source": [
    "print('Lasso Cross-validation mm:', np.mean(cross_val_score(pol_las_std, X_mm_scaled, y, cv=4)))"
   ]
  },
  {
   "cell_type": "code",
   "execution_count": 39,
   "id": "1dfd2d45",
   "metadata": {
    "scrolled": false
   },
   "outputs": [
    {
     "name": "stdout",
     "output_type": "stream",
     "text": [
      "Ridge Cross-validation mm: 0.9391659524121947\n"
     ]
    }
   ],
   "source": [
    "print('Ridge Cross-validation mm:', np.mean(cross_val_score(pol_rid_std, X_mm_scaled, y, cv=4)))"
   ]
  },
  {
   "cell_type": "code",
   "execution_count": 40,
   "id": "fcfbbfe3",
   "metadata": {
    "scrolled": false
   },
   "outputs": [
    {
     "name": "stdout",
     "output_type": "stream",
     "text": [
      "Lasso Cross-validation std: -26.605333999008934\n"
     ]
    }
   ],
   "source": [
    "print('Lasso Cross-validation std:', np.mean(cross_val_score(pol_las_mm, X_std_scaled, y, cv=4)))"
   ]
  },
  {
   "cell_type": "code",
   "execution_count": 41,
   "id": "f1fb2206",
   "metadata": {
    "scrolled": false
   },
   "outputs": [
    {
     "name": "stdout",
     "output_type": "stream",
     "text": [
      "Ridge Cross-validation std: 0.9036828732409331\n"
     ]
    }
   ],
   "source": [
    "print('Ridge Cross-validation std:', np.mean(cross_val_score(pol_rid_mm, X_std_scaled, y, cv=4)))"
   ]
  },
  {
   "cell_type": "code",
   "execution_count": 42,
   "id": "ba2f3614",
   "metadata": {
    "scrolled": true
   },
   "outputs": [],
   "source": [
    "from sklearn.model_selection import GridSearchCV"
   ]
  },
  {
   "cell_type": "code",
   "execution_count": 43,
   "id": "9aad8b14",
   "metadata": {},
   "outputs": [],
   "source": [
    "#Попробуем подобрать для моделей оптимальные параметры коэффициента регуляризации и степени полинома\n",
    "param_grid = {'poly__degree': range(1, 5),\n",
    "              'regr__alpha': [0.001, 0.01, 0.1, 5, 10]}"
   ]
  },
  {
   "cell_type": "code",
   "execution_count": 44,
   "id": "daf6631b",
   "metadata": {},
   "outputs": [],
   "source": [
    "grid_las_std = GridSearchCV(pol_las_std, param_grid, cv=4)"
   ]
  },
  {
   "cell_type": "code",
   "execution_count": 45,
   "id": "86cad3b2",
   "metadata": {},
   "outputs": [
    {
     "data": {
      "text/html": [
       "<style>#sk-container-id-2 {color: black;}#sk-container-id-2 pre{padding: 0;}#sk-container-id-2 div.sk-toggleable {background-color: white;}#sk-container-id-2 label.sk-toggleable__label {cursor: pointer;display: block;width: 100%;margin-bottom: 0;padding: 0.3em;box-sizing: border-box;text-align: center;}#sk-container-id-2 label.sk-toggleable__label-arrow:before {content: \"▸\";float: left;margin-right: 0.25em;color: #696969;}#sk-container-id-2 label.sk-toggleable__label-arrow:hover:before {color: black;}#sk-container-id-2 div.sk-estimator:hover label.sk-toggleable__label-arrow:before {color: black;}#sk-container-id-2 div.sk-toggleable__content {max-height: 0;max-width: 0;overflow: hidden;text-align: left;background-color: #f0f8ff;}#sk-container-id-2 div.sk-toggleable__content pre {margin: 0.2em;color: black;border-radius: 0.25em;background-color: #f0f8ff;}#sk-container-id-2 input.sk-toggleable__control:checked~div.sk-toggleable__content {max-height: 200px;max-width: 100%;overflow: auto;}#sk-container-id-2 input.sk-toggleable__control:checked~label.sk-toggleable__label-arrow:before {content: \"▾\";}#sk-container-id-2 div.sk-estimator input.sk-toggleable__control:checked~label.sk-toggleable__label {background-color: #d4ebff;}#sk-container-id-2 div.sk-label input.sk-toggleable__control:checked~label.sk-toggleable__label {background-color: #d4ebff;}#sk-container-id-2 input.sk-hidden--visually {border: 0;clip: rect(1px 1px 1px 1px);clip: rect(1px, 1px, 1px, 1px);height: 1px;margin: -1px;overflow: hidden;padding: 0;position: absolute;width: 1px;}#sk-container-id-2 div.sk-estimator {font-family: monospace;background-color: #f0f8ff;border: 1px dotted black;border-radius: 0.25em;box-sizing: border-box;margin-bottom: 0.5em;}#sk-container-id-2 div.sk-estimator:hover {background-color: #d4ebff;}#sk-container-id-2 div.sk-parallel-item::after {content: \"\";width: 100%;border-bottom: 1px solid gray;flex-grow: 1;}#sk-container-id-2 div.sk-label:hover label.sk-toggleable__label {background-color: #d4ebff;}#sk-container-id-2 div.sk-serial::before {content: \"\";position: absolute;border-left: 1px solid gray;box-sizing: border-box;top: 0;bottom: 0;left: 50%;z-index: 0;}#sk-container-id-2 div.sk-serial {display: flex;flex-direction: column;align-items: center;background-color: white;padding-right: 0.2em;padding-left: 0.2em;position: relative;}#sk-container-id-2 div.sk-item {position: relative;z-index: 1;}#sk-container-id-2 div.sk-parallel {display: flex;align-items: stretch;justify-content: center;background-color: white;position: relative;}#sk-container-id-2 div.sk-item::before, #sk-container-id-2 div.sk-parallel-item::before {content: \"\";position: absolute;border-left: 1px solid gray;box-sizing: border-box;top: 0;bottom: 0;left: 50%;z-index: -1;}#sk-container-id-2 div.sk-parallel-item {display: flex;flex-direction: column;z-index: 1;position: relative;background-color: white;}#sk-container-id-2 div.sk-parallel-item:first-child::after {align-self: flex-end;width: 50%;}#sk-container-id-2 div.sk-parallel-item:last-child::after {align-self: flex-start;width: 50%;}#sk-container-id-2 div.sk-parallel-item:only-child::after {width: 0;}#sk-container-id-2 div.sk-dashed-wrapped {border: 1px dashed gray;margin: 0 0.4em 0.5em 0.4em;box-sizing: border-box;padding-bottom: 0.4em;background-color: white;}#sk-container-id-2 div.sk-label label {font-family: monospace;font-weight: bold;display: inline-block;line-height: 1.2em;}#sk-container-id-2 div.sk-label-container {text-align: center;}#sk-container-id-2 div.sk-container {/* jupyter's `normalize.less` sets `[hidden] { display: none; }` but bootstrap.min.css set `[hidden] { display: none !important; }` so we also need the `!important` here to be able to override the default hidden behavior on the sphinx rendered scikit-learn.org. See: https://github.com/scikit-learn/scikit-learn/issues/21755 */display: inline-block !important;position: relative;}#sk-container-id-2 div.sk-text-repr-fallback {display: none;}</style><div id=\"sk-container-id-2\" class=\"sk-top-container\"><div class=\"sk-text-repr-fallback\"><pre>GridSearchCV(cv=4,\n",
       "             estimator=Pipeline(steps=[(&#x27;poly&#x27;, PolynomialFeatures()),\n",
       "                                       (&#x27;scaler&#x27;, StandardScaler()),\n",
       "                                       (&#x27;regr&#x27;, Lasso(alpha=0.1))]),\n",
       "             param_grid={&#x27;poly__degree&#x27;: range(1, 5),\n",
       "                         &#x27;regr__alpha&#x27;: [0.001, 0.01, 0.1, 5, 10]})</pre><b>In a Jupyter environment, please rerun this cell to show the HTML representation or trust the notebook. <br />On GitHub, the HTML representation is unable to render, please try loading this page with nbviewer.org.</b></div><div class=\"sk-container\" hidden><div class=\"sk-item sk-dashed-wrapped\"><div class=\"sk-label-container\"><div class=\"sk-label sk-toggleable\"><input class=\"sk-toggleable__control sk-hidden--visually\" id=\"sk-estimator-id-2\" type=\"checkbox\" ><label for=\"sk-estimator-id-2\" class=\"sk-toggleable__label sk-toggleable__label-arrow\">GridSearchCV</label><div class=\"sk-toggleable__content\"><pre>GridSearchCV(cv=4,\n",
       "             estimator=Pipeline(steps=[(&#x27;poly&#x27;, PolynomialFeatures()),\n",
       "                                       (&#x27;scaler&#x27;, StandardScaler()),\n",
       "                                       (&#x27;regr&#x27;, Lasso(alpha=0.1))]),\n",
       "             param_grid={&#x27;poly__degree&#x27;: range(1, 5),\n",
       "                         &#x27;regr__alpha&#x27;: [0.001, 0.01, 0.1, 5, 10]})</pre></div></div></div><div class=\"sk-parallel\"><div class=\"sk-parallel-item\"><div class=\"sk-item\"><div class=\"sk-label-container\"><div class=\"sk-label sk-toggleable\"><input class=\"sk-toggleable__control sk-hidden--visually\" id=\"sk-estimator-id-3\" type=\"checkbox\" ><label for=\"sk-estimator-id-3\" class=\"sk-toggleable__label sk-toggleable__label-arrow\">estimator: Pipeline</label><div class=\"sk-toggleable__content\"><pre>Pipeline(steps=[(&#x27;poly&#x27;, PolynomialFeatures()), (&#x27;scaler&#x27;, StandardScaler()),\n",
       "                (&#x27;regr&#x27;, Lasso(alpha=0.1))])</pre></div></div></div><div class=\"sk-serial\"><div class=\"sk-item\"><div class=\"sk-serial\"><div class=\"sk-item\"><div class=\"sk-estimator sk-toggleable\"><input class=\"sk-toggleable__control sk-hidden--visually\" id=\"sk-estimator-id-4\" type=\"checkbox\" ><label for=\"sk-estimator-id-4\" class=\"sk-toggleable__label sk-toggleable__label-arrow\">PolynomialFeatures</label><div class=\"sk-toggleable__content\"><pre>PolynomialFeatures()</pre></div></div></div><div class=\"sk-item\"><div class=\"sk-estimator sk-toggleable\"><input class=\"sk-toggleable__control sk-hidden--visually\" id=\"sk-estimator-id-5\" type=\"checkbox\" ><label for=\"sk-estimator-id-5\" class=\"sk-toggleable__label sk-toggleable__label-arrow\">StandardScaler</label><div class=\"sk-toggleable__content\"><pre>StandardScaler()</pre></div></div></div><div class=\"sk-item\"><div class=\"sk-estimator sk-toggleable\"><input class=\"sk-toggleable__control sk-hidden--visually\" id=\"sk-estimator-id-6\" type=\"checkbox\" ><label for=\"sk-estimator-id-6\" class=\"sk-toggleable__label sk-toggleable__label-arrow\">Lasso</label><div class=\"sk-toggleable__content\"><pre>Lasso(alpha=0.1)</pre></div></div></div></div></div></div></div></div></div></div></div></div>"
      ],
      "text/plain": [
       "GridSearchCV(cv=4,\n",
       "             estimator=Pipeline(steps=[('poly', PolynomialFeatures()),\n",
       "                                       ('scaler', StandardScaler()),\n",
       "                                       ('regr', Lasso(alpha=0.1))]),\n",
       "             param_grid={'poly__degree': range(1, 5),\n",
       "                         'regr__alpha': [0.001, 0.01, 0.1, 5, 10]})"
      ]
     },
     "execution_count": 45,
     "metadata": {},
     "output_type": "execute_result"
    }
   ],
   "source": [
    "grid_las_std.fit(X_std_scaled,y)"
   ]
  },
  {
   "cell_type": "code",
   "execution_count": 46,
   "id": "b86d9e46",
   "metadata": {},
   "outputs": [
    {
     "data": {
      "text/plain": [
       "-26.431905299826205"
      ]
     },
     "execution_count": 46,
     "metadata": {},
     "output_type": "execute_result"
    }
   ],
   "source": [
    "grid_las_std.best_score_"
   ]
  },
  {
   "cell_type": "code",
   "execution_count": 47,
   "id": "f73aeabe",
   "metadata": {},
   "outputs": [
    {
     "data": {
      "text/plain": [
       "{'poly__degree': 4, 'regr__alpha': 0.001}"
      ]
     },
     "execution_count": 47,
     "metadata": {},
     "output_type": "execute_result"
    }
   ],
   "source": [
    "grid_las_std.best_params_"
   ]
  },
  {
   "cell_type": "code",
   "execution_count": 48,
   "id": "2b0b548d",
   "metadata": {},
   "outputs": [],
   "source": [
    "grid_las_mm = GridSearchCV(pol_las_mm, param_grid, cv=4)"
   ]
  },
  {
   "cell_type": "code",
   "execution_count": 49,
   "id": "9d44b3e3",
   "metadata": {},
   "outputs": [
    {
     "data": {
      "text/html": [
       "<style>#sk-container-id-3 {color: black;}#sk-container-id-3 pre{padding: 0;}#sk-container-id-3 div.sk-toggleable {background-color: white;}#sk-container-id-3 label.sk-toggleable__label {cursor: pointer;display: block;width: 100%;margin-bottom: 0;padding: 0.3em;box-sizing: border-box;text-align: center;}#sk-container-id-3 label.sk-toggleable__label-arrow:before {content: \"▸\";float: left;margin-right: 0.25em;color: #696969;}#sk-container-id-3 label.sk-toggleable__label-arrow:hover:before {color: black;}#sk-container-id-3 div.sk-estimator:hover label.sk-toggleable__label-arrow:before {color: black;}#sk-container-id-3 div.sk-toggleable__content {max-height: 0;max-width: 0;overflow: hidden;text-align: left;background-color: #f0f8ff;}#sk-container-id-3 div.sk-toggleable__content pre {margin: 0.2em;color: black;border-radius: 0.25em;background-color: #f0f8ff;}#sk-container-id-3 input.sk-toggleable__control:checked~div.sk-toggleable__content {max-height: 200px;max-width: 100%;overflow: auto;}#sk-container-id-3 input.sk-toggleable__control:checked~label.sk-toggleable__label-arrow:before {content: \"▾\";}#sk-container-id-3 div.sk-estimator input.sk-toggleable__control:checked~label.sk-toggleable__label {background-color: #d4ebff;}#sk-container-id-3 div.sk-label input.sk-toggleable__control:checked~label.sk-toggleable__label {background-color: #d4ebff;}#sk-container-id-3 input.sk-hidden--visually {border: 0;clip: rect(1px 1px 1px 1px);clip: rect(1px, 1px, 1px, 1px);height: 1px;margin: -1px;overflow: hidden;padding: 0;position: absolute;width: 1px;}#sk-container-id-3 div.sk-estimator {font-family: monospace;background-color: #f0f8ff;border: 1px dotted black;border-radius: 0.25em;box-sizing: border-box;margin-bottom: 0.5em;}#sk-container-id-3 div.sk-estimator:hover {background-color: #d4ebff;}#sk-container-id-3 div.sk-parallel-item::after {content: \"\";width: 100%;border-bottom: 1px solid gray;flex-grow: 1;}#sk-container-id-3 div.sk-label:hover label.sk-toggleable__label {background-color: #d4ebff;}#sk-container-id-3 div.sk-serial::before {content: \"\";position: absolute;border-left: 1px solid gray;box-sizing: border-box;top: 0;bottom: 0;left: 50%;z-index: 0;}#sk-container-id-3 div.sk-serial {display: flex;flex-direction: column;align-items: center;background-color: white;padding-right: 0.2em;padding-left: 0.2em;position: relative;}#sk-container-id-3 div.sk-item {position: relative;z-index: 1;}#sk-container-id-3 div.sk-parallel {display: flex;align-items: stretch;justify-content: center;background-color: white;position: relative;}#sk-container-id-3 div.sk-item::before, #sk-container-id-3 div.sk-parallel-item::before {content: \"\";position: absolute;border-left: 1px solid gray;box-sizing: border-box;top: 0;bottom: 0;left: 50%;z-index: -1;}#sk-container-id-3 div.sk-parallel-item {display: flex;flex-direction: column;z-index: 1;position: relative;background-color: white;}#sk-container-id-3 div.sk-parallel-item:first-child::after {align-self: flex-end;width: 50%;}#sk-container-id-3 div.sk-parallel-item:last-child::after {align-self: flex-start;width: 50%;}#sk-container-id-3 div.sk-parallel-item:only-child::after {width: 0;}#sk-container-id-3 div.sk-dashed-wrapped {border: 1px dashed gray;margin: 0 0.4em 0.5em 0.4em;box-sizing: border-box;padding-bottom: 0.4em;background-color: white;}#sk-container-id-3 div.sk-label label {font-family: monospace;font-weight: bold;display: inline-block;line-height: 1.2em;}#sk-container-id-3 div.sk-label-container {text-align: center;}#sk-container-id-3 div.sk-container {/* jupyter's `normalize.less` sets `[hidden] { display: none; }` but bootstrap.min.css set `[hidden] { display: none !important; }` so we also need the `!important` here to be able to override the default hidden behavior on the sphinx rendered scikit-learn.org. See: https://github.com/scikit-learn/scikit-learn/issues/21755 */display: inline-block !important;position: relative;}#sk-container-id-3 div.sk-text-repr-fallback {display: none;}</style><div id=\"sk-container-id-3\" class=\"sk-top-container\"><div class=\"sk-text-repr-fallback\"><pre>GridSearchCV(cv=4,\n",
       "             estimator=Pipeline(steps=[(&#x27;poly&#x27;, PolynomialFeatures()),\n",
       "                                       (&#x27;scaler&#x27;,\n",
       "                                        MinMaxScaler(feature_range=(-1, 1))),\n",
       "                                       (&#x27;regr&#x27;, Lasso(alpha=0.1))]),\n",
       "             param_grid={&#x27;poly__degree&#x27;: range(1, 5),\n",
       "                         &#x27;regr__alpha&#x27;: [0.001, 0.01, 0.1, 5, 10]})</pre><b>In a Jupyter environment, please rerun this cell to show the HTML representation or trust the notebook. <br />On GitHub, the HTML representation is unable to render, please try loading this page with nbviewer.org.</b></div><div class=\"sk-container\" hidden><div class=\"sk-item sk-dashed-wrapped\"><div class=\"sk-label-container\"><div class=\"sk-label sk-toggleable\"><input class=\"sk-toggleable__control sk-hidden--visually\" id=\"sk-estimator-id-7\" type=\"checkbox\" ><label for=\"sk-estimator-id-7\" class=\"sk-toggleable__label sk-toggleable__label-arrow\">GridSearchCV</label><div class=\"sk-toggleable__content\"><pre>GridSearchCV(cv=4,\n",
       "             estimator=Pipeline(steps=[(&#x27;poly&#x27;, PolynomialFeatures()),\n",
       "                                       (&#x27;scaler&#x27;,\n",
       "                                        MinMaxScaler(feature_range=(-1, 1))),\n",
       "                                       (&#x27;regr&#x27;, Lasso(alpha=0.1))]),\n",
       "             param_grid={&#x27;poly__degree&#x27;: range(1, 5),\n",
       "                         &#x27;regr__alpha&#x27;: [0.001, 0.01, 0.1, 5, 10]})</pre></div></div></div><div class=\"sk-parallel\"><div class=\"sk-parallel-item\"><div class=\"sk-item\"><div class=\"sk-label-container\"><div class=\"sk-label sk-toggleable\"><input class=\"sk-toggleable__control sk-hidden--visually\" id=\"sk-estimator-id-8\" type=\"checkbox\" ><label for=\"sk-estimator-id-8\" class=\"sk-toggleable__label sk-toggleable__label-arrow\">estimator: Pipeline</label><div class=\"sk-toggleable__content\"><pre>Pipeline(steps=[(&#x27;poly&#x27;, PolynomialFeatures()),\n",
       "                (&#x27;scaler&#x27;, MinMaxScaler(feature_range=(-1, 1))),\n",
       "                (&#x27;regr&#x27;, Lasso(alpha=0.1))])</pre></div></div></div><div class=\"sk-serial\"><div class=\"sk-item\"><div class=\"sk-serial\"><div class=\"sk-item\"><div class=\"sk-estimator sk-toggleable\"><input class=\"sk-toggleable__control sk-hidden--visually\" id=\"sk-estimator-id-9\" type=\"checkbox\" ><label for=\"sk-estimator-id-9\" class=\"sk-toggleable__label sk-toggleable__label-arrow\">PolynomialFeatures</label><div class=\"sk-toggleable__content\"><pre>PolynomialFeatures()</pre></div></div></div><div class=\"sk-item\"><div class=\"sk-estimator sk-toggleable\"><input class=\"sk-toggleable__control sk-hidden--visually\" id=\"sk-estimator-id-10\" type=\"checkbox\" ><label for=\"sk-estimator-id-10\" class=\"sk-toggleable__label sk-toggleable__label-arrow\">MinMaxScaler</label><div class=\"sk-toggleable__content\"><pre>MinMaxScaler(feature_range=(-1, 1))</pre></div></div></div><div class=\"sk-item\"><div class=\"sk-estimator sk-toggleable\"><input class=\"sk-toggleable__control sk-hidden--visually\" id=\"sk-estimator-id-11\" type=\"checkbox\" ><label for=\"sk-estimator-id-11\" class=\"sk-toggleable__label sk-toggleable__label-arrow\">Lasso</label><div class=\"sk-toggleable__content\"><pre>Lasso(alpha=0.1)</pre></div></div></div></div></div></div></div></div></div></div></div></div>"
      ],
      "text/plain": [
       "GridSearchCV(cv=4,\n",
       "             estimator=Pipeline(steps=[('poly', PolynomialFeatures()),\n",
       "                                       ('scaler',\n",
       "                                        MinMaxScaler(feature_range=(-1, 1))),\n",
       "                                       ('regr', Lasso(alpha=0.1))]),\n",
       "             param_grid={'poly__degree': range(1, 5),\n",
       "                         'regr__alpha': [0.001, 0.01, 0.1, 5, 10]})"
      ]
     },
     "execution_count": 49,
     "metadata": {},
     "output_type": "execute_result"
    }
   ],
   "source": [
    "grid_las_mm.fit(X_mm_scaled,y)"
   ]
  },
  {
   "cell_type": "code",
   "execution_count": 50,
   "id": "45d99baa",
   "metadata": {},
   "outputs": [
    {
     "data": {
      "text/plain": [
       "-26.605333999008934"
      ]
     },
     "execution_count": 50,
     "metadata": {},
     "output_type": "execute_result"
    }
   ],
   "source": [
    "grid_las_mm.best_score_"
   ]
  },
  {
   "cell_type": "code",
   "execution_count": 51,
   "id": "ddcdf279",
   "metadata": {},
   "outputs": [
    {
     "data": {
      "text/plain": [
       "{'poly__degree': 1, 'regr__alpha': 0.001}"
      ]
     },
     "execution_count": 51,
     "metadata": {},
     "output_type": "execute_result"
    }
   ],
   "source": [
    "grid_las_mm.best_params_"
   ]
  },
  {
   "cell_type": "code",
   "execution_count": 60,
   "id": "f0d43944",
   "metadata": {},
   "outputs": [],
   "source": [
    "grid_las = GridSearchCV(pol_las, param_grid, cv=4)"
   ]
  },
  {
   "cell_type": "code",
   "execution_count": 52,
   "id": "5fc479d7",
   "metadata": {},
   "outputs": [],
   "source": [
    "grid_rid_std = GridSearchCV(pol_rid_std, param_grid, cv=4)"
   ]
  },
  {
   "cell_type": "code",
   "execution_count": 53,
   "id": "3114b8fe",
   "metadata": {},
   "outputs": [
    {
     "data": {
      "text/html": [
       "<style>#sk-container-id-4 {color: black;}#sk-container-id-4 pre{padding: 0;}#sk-container-id-4 div.sk-toggleable {background-color: white;}#sk-container-id-4 label.sk-toggleable__label {cursor: pointer;display: block;width: 100%;margin-bottom: 0;padding: 0.3em;box-sizing: border-box;text-align: center;}#sk-container-id-4 label.sk-toggleable__label-arrow:before {content: \"▸\";float: left;margin-right: 0.25em;color: #696969;}#sk-container-id-4 label.sk-toggleable__label-arrow:hover:before {color: black;}#sk-container-id-4 div.sk-estimator:hover label.sk-toggleable__label-arrow:before {color: black;}#sk-container-id-4 div.sk-toggleable__content {max-height: 0;max-width: 0;overflow: hidden;text-align: left;background-color: #f0f8ff;}#sk-container-id-4 div.sk-toggleable__content pre {margin: 0.2em;color: black;border-radius: 0.25em;background-color: #f0f8ff;}#sk-container-id-4 input.sk-toggleable__control:checked~div.sk-toggleable__content {max-height: 200px;max-width: 100%;overflow: auto;}#sk-container-id-4 input.sk-toggleable__control:checked~label.sk-toggleable__label-arrow:before {content: \"▾\";}#sk-container-id-4 div.sk-estimator input.sk-toggleable__control:checked~label.sk-toggleable__label {background-color: #d4ebff;}#sk-container-id-4 div.sk-label input.sk-toggleable__control:checked~label.sk-toggleable__label {background-color: #d4ebff;}#sk-container-id-4 input.sk-hidden--visually {border: 0;clip: rect(1px 1px 1px 1px);clip: rect(1px, 1px, 1px, 1px);height: 1px;margin: -1px;overflow: hidden;padding: 0;position: absolute;width: 1px;}#sk-container-id-4 div.sk-estimator {font-family: monospace;background-color: #f0f8ff;border: 1px dotted black;border-radius: 0.25em;box-sizing: border-box;margin-bottom: 0.5em;}#sk-container-id-4 div.sk-estimator:hover {background-color: #d4ebff;}#sk-container-id-4 div.sk-parallel-item::after {content: \"\";width: 100%;border-bottom: 1px solid gray;flex-grow: 1;}#sk-container-id-4 div.sk-label:hover label.sk-toggleable__label {background-color: #d4ebff;}#sk-container-id-4 div.sk-serial::before {content: \"\";position: absolute;border-left: 1px solid gray;box-sizing: border-box;top: 0;bottom: 0;left: 50%;z-index: 0;}#sk-container-id-4 div.sk-serial {display: flex;flex-direction: column;align-items: center;background-color: white;padding-right: 0.2em;padding-left: 0.2em;position: relative;}#sk-container-id-4 div.sk-item {position: relative;z-index: 1;}#sk-container-id-4 div.sk-parallel {display: flex;align-items: stretch;justify-content: center;background-color: white;position: relative;}#sk-container-id-4 div.sk-item::before, #sk-container-id-4 div.sk-parallel-item::before {content: \"\";position: absolute;border-left: 1px solid gray;box-sizing: border-box;top: 0;bottom: 0;left: 50%;z-index: -1;}#sk-container-id-4 div.sk-parallel-item {display: flex;flex-direction: column;z-index: 1;position: relative;background-color: white;}#sk-container-id-4 div.sk-parallel-item:first-child::after {align-self: flex-end;width: 50%;}#sk-container-id-4 div.sk-parallel-item:last-child::after {align-self: flex-start;width: 50%;}#sk-container-id-4 div.sk-parallel-item:only-child::after {width: 0;}#sk-container-id-4 div.sk-dashed-wrapped {border: 1px dashed gray;margin: 0 0.4em 0.5em 0.4em;box-sizing: border-box;padding-bottom: 0.4em;background-color: white;}#sk-container-id-4 div.sk-label label {font-family: monospace;font-weight: bold;display: inline-block;line-height: 1.2em;}#sk-container-id-4 div.sk-label-container {text-align: center;}#sk-container-id-4 div.sk-container {/* jupyter's `normalize.less` sets `[hidden] { display: none; }` but bootstrap.min.css set `[hidden] { display: none !important; }` so we also need the `!important` here to be able to override the default hidden behavior on the sphinx rendered scikit-learn.org. See: https://github.com/scikit-learn/scikit-learn/issues/21755 */display: inline-block !important;position: relative;}#sk-container-id-4 div.sk-text-repr-fallback {display: none;}</style><div id=\"sk-container-id-4\" class=\"sk-top-container\"><div class=\"sk-text-repr-fallback\"><pre>GridSearchCV(cv=4,\n",
       "             estimator=Pipeline(steps=[(&#x27;poly&#x27;, PolynomialFeatures()),\n",
       "                                       (&#x27;scaler&#x27;, StandardScaler()),\n",
       "                                       (&#x27;regr&#x27;,\n",
       "                                        Ridge(alpha=0.1, max_iter=1000))]),\n",
       "             param_grid={&#x27;poly__degree&#x27;: range(1, 5),\n",
       "                         &#x27;regr__alpha&#x27;: [0.001, 0.01, 0.1, 5, 10]})</pre><b>In a Jupyter environment, please rerun this cell to show the HTML representation or trust the notebook. <br />On GitHub, the HTML representation is unable to render, please try loading this page with nbviewer.org.</b></div><div class=\"sk-container\" hidden><div class=\"sk-item sk-dashed-wrapped\"><div class=\"sk-label-container\"><div class=\"sk-label sk-toggleable\"><input class=\"sk-toggleable__control sk-hidden--visually\" id=\"sk-estimator-id-12\" type=\"checkbox\" ><label for=\"sk-estimator-id-12\" class=\"sk-toggleable__label sk-toggleable__label-arrow\">GridSearchCV</label><div class=\"sk-toggleable__content\"><pre>GridSearchCV(cv=4,\n",
       "             estimator=Pipeline(steps=[(&#x27;poly&#x27;, PolynomialFeatures()),\n",
       "                                       (&#x27;scaler&#x27;, StandardScaler()),\n",
       "                                       (&#x27;regr&#x27;,\n",
       "                                        Ridge(alpha=0.1, max_iter=1000))]),\n",
       "             param_grid={&#x27;poly__degree&#x27;: range(1, 5),\n",
       "                         &#x27;regr__alpha&#x27;: [0.001, 0.01, 0.1, 5, 10]})</pre></div></div></div><div class=\"sk-parallel\"><div class=\"sk-parallel-item\"><div class=\"sk-item\"><div class=\"sk-label-container\"><div class=\"sk-label sk-toggleable\"><input class=\"sk-toggleable__control sk-hidden--visually\" id=\"sk-estimator-id-13\" type=\"checkbox\" ><label for=\"sk-estimator-id-13\" class=\"sk-toggleable__label sk-toggleable__label-arrow\">estimator: Pipeline</label><div class=\"sk-toggleable__content\"><pre>Pipeline(steps=[(&#x27;poly&#x27;, PolynomialFeatures()), (&#x27;scaler&#x27;, StandardScaler()),\n",
       "                (&#x27;regr&#x27;, Ridge(alpha=0.1, max_iter=1000))])</pre></div></div></div><div class=\"sk-serial\"><div class=\"sk-item\"><div class=\"sk-serial\"><div class=\"sk-item\"><div class=\"sk-estimator sk-toggleable\"><input class=\"sk-toggleable__control sk-hidden--visually\" id=\"sk-estimator-id-14\" type=\"checkbox\" ><label for=\"sk-estimator-id-14\" class=\"sk-toggleable__label sk-toggleable__label-arrow\">PolynomialFeatures</label><div class=\"sk-toggleable__content\"><pre>PolynomialFeatures()</pre></div></div></div><div class=\"sk-item\"><div class=\"sk-estimator sk-toggleable\"><input class=\"sk-toggleable__control sk-hidden--visually\" id=\"sk-estimator-id-15\" type=\"checkbox\" ><label for=\"sk-estimator-id-15\" class=\"sk-toggleable__label sk-toggleable__label-arrow\">StandardScaler</label><div class=\"sk-toggleable__content\"><pre>StandardScaler()</pre></div></div></div><div class=\"sk-item\"><div class=\"sk-estimator sk-toggleable\"><input class=\"sk-toggleable__control sk-hidden--visually\" id=\"sk-estimator-id-16\" type=\"checkbox\" ><label for=\"sk-estimator-id-16\" class=\"sk-toggleable__label sk-toggleable__label-arrow\">Ridge</label><div class=\"sk-toggleable__content\"><pre>Ridge(alpha=0.1, max_iter=1000)</pre></div></div></div></div></div></div></div></div></div></div></div></div>"
      ],
      "text/plain": [
       "GridSearchCV(cv=4,\n",
       "             estimator=Pipeline(steps=[('poly', PolynomialFeatures()),\n",
       "                                       ('scaler', StandardScaler()),\n",
       "                                       ('regr',\n",
       "                                        Ridge(alpha=0.1, max_iter=1000))]),\n",
       "             param_grid={'poly__degree': range(1, 5),\n",
       "                         'regr__alpha': [0.001, 0.01, 0.1, 5, 10]})"
      ]
     },
     "execution_count": 53,
     "metadata": {},
     "output_type": "execute_result"
    }
   ],
   "source": [
    "grid_rid_std.fit(X_std_scaled,y)"
   ]
  },
  {
   "cell_type": "code",
   "execution_count": 54,
   "id": "286d8264",
   "metadata": {},
   "outputs": [
    {
     "data": {
      "text/plain": [
       "0.9983287824164235"
      ]
     },
     "execution_count": 54,
     "metadata": {},
     "output_type": "execute_result"
    }
   ],
   "source": [
    "grid_rid_std.best_score_"
   ]
  },
  {
   "cell_type": "code",
   "execution_count": 55,
   "id": "e0a56214",
   "metadata": {},
   "outputs": [
    {
     "data": {
      "text/plain": [
       "{'poly__degree': 4, 'regr__alpha': 0.001}"
      ]
     },
     "execution_count": 55,
     "metadata": {},
     "output_type": "execute_result"
    }
   ],
   "source": [
    "grid_rid_std.best_params_"
   ]
  },
  {
   "cell_type": "code",
   "execution_count": 56,
   "id": "4fda3660",
   "metadata": {},
   "outputs": [],
   "source": [
    "grid_rid_mm = GridSearchCV(pol_rid_mm, param_grid, cv=4)"
   ]
  },
  {
   "cell_type": "code",
   "execution_count": 57,
   "id": "b1c4039b",
   "metadata": {},
   "outputs": [
    {
     "data": {
      "text/html": [
       "<style>#sk-container-id-5 {color: black;}#sk-container-id-5 pre{padding: 0;}#sk-container-id-5 div.sk-toggleable {background-color: white;}#sk-container-id-5 label.sk-toggleable__label {cursor: pointer;display: block;width: 100%;margin-bottom: 0;padding: 0.3em;box-sizing: border-box;text-align: center;}#sk-container-id-5 label.sk-toggleable__label-arrow:before {content: \"▸\";float: left;margin-right: 0.25em;color: #696969;}#sk-container-id-5 label.sk-toggleable__label-arrow:hover:before {color: black;}#sk-container-id-5 div.sk-estimator:hover label.sk-toggleable__label-arrow:before {color: black;}#sk-container-id-5 div.sk-toggleable__content {max-height: 0;max-width: 0;overflow: hidden;text-align: left;background-color: #f0f8ff;}#sk-container-id-5 div.sk-toggleable__content pre {margin: 0.2em;color: black;border-radius: 0.25em;background-color: #f0f8ff;}#sk-container-id-5 input.sk-toggleable__control:checked~div.sk-toggleable__content {max-height: 200px;max-width: 100%;overflow: auto;}#sk-container-id-5 input.sk-toggleable__control:checked~label.sk-toggleable__label-arrow:before {content: \"▾\";}#sk-container-id-5 div.sk-estimator input.sk-toggleable__control:checked~label.sk-toggleable__label {background-color: #d4ebff;}#sk-container-id-5 div.sk-label input.sk-toggleable__control:checked~label.sk-toggleable__label {background-color: #d4ebff;}#sk-container-id-5 input.sk-hidden--visually {border: 0;clip: rect(1px 1px 1px 1px);clip: rect(1px, 1px, 1px, 1px);height: 1px;margin: -1px;overflow: hidden;padding: 0;position: absolute;width: 1px;}#sk-container-id-5 div.sk-estimator {font-family: monospace;background-color: #f0f8ff;border: 1px dotted black;border-radius: 0.25em;box-sizing: border-box;margin-bottom: 0.5em;}#sk-container-id-5 div.sk-estimator:hover {background-color: #d4ebff;}#sk-container-id-5 div.sk-parallel-item::after {content: \"\";width: 100%;border-bottom: 1px solid gray;flex-grow: 1;}#sk-container-id-5 div.sk-label:hover label.sk-toggleable__label {background-color: #d4ebff;}#sk-container-id-5 div.sk-serial::before {content: \"\";position: absolute;border-left: 1px solid gray;box-sizing: border-box;top: 0;bottom: 0;left: 50%;z-index: 0;}#sk-container-id-5 div.sk-serial {display: flex;flex-direction: column;align-items: center;background-color: white;padding-right: 0.2em;padding-left: 0.2em;position: relative;}#sk-container-id-5 div.sk-item {position: relative;z-index: 1;}#sk-container-id-5 div.sk-parallel {display: flex;align-items: stretch;justify-content: center;background-color: white;position: relative;}#sk-container-id-5 div.sk-item::before, #sk-container-id-5 div.sk-parallel-item::before {content: \"\";position: absolute;border-left: 1px solid gray;box-sizing: border-box;top: 0;bottom: 0;left: 50%;z-index: -1;}#sk-container-id-5 div.sk-parallel-item {display: flex;flex-direction: column;z-index: 1;position: relative;background-color: white;}#sk-container-id-5 div.sk-parallel-item:first-child::after {align-self: flex-end;width: 50%;}#sk-container-id-5 div.sk-parallel-item:last-child::after {align-self: flex-start;width: 50%;}#sk-container-id-5 div.sk-parallel-item:only-child::after {width: 0;}#sk-container-id-5 div.sk-dashed-wrapped {border: 1px dashed gray;margin: 0 0.4em 0.5em 0.4em;box-sizing: border-box;padding-bottom: 0.4em;background-color: white;}#sk-container-id-5 div.sk-label label {font-family: monospace;font-weight: bold;display: inline-block;line-height: 1.2em;}#sk-container-id-5 div.sk-label-container {text-align: center;}#sk-container-id-5 div.sk-container {/* jupyter's `normalize.less` sets `[hidden] { display: none; }` but bootstrap.min.css set `[hidden] { display: none !important; }` so we also need the `!important` here to be able to override the default hidden behavior on the sphinx rendered scikit-learn.org. See: https://github.com/scikit-learn/scikit-learn/issues/21755 */display: inline-block !important;position: relative;}#sk-container-id-5 div.sk-text-repr-fallback {display: none;}</style><div id=\"sk-container-id-5\" class=\"sk-top-container\"><div class=\"sk-text-repr-fallback\"><pre>GridSearchCV(cv=4,\n",
       "             estimator=Pipeline(steps=[(&#x27;poly&#x27;, PolynomialFeatures()),\n",
       "                                       (&#x27;scaler&#x27;,\n",
       "                                        MinMaxScaler(feature_range=(-1, 1))),\n",
       "                                       (&#x27;regr&#x27;,\n",
       "                                        Ridge(alpha=0.1, max_iter=1000))]),\n",
       "             param_grid={&#x27;poly__degree&#x27;: range(1, 5),\n",
       "                         &#x27;regr__alpha&#x27;: [0.001, 0.01, 0.1, 5, 10]})</pre><b>In a Jupyter environment, please rerun this cell to show the HTML representation or trust the notebook. <br />On GitHub, the HTML representation is unable to render, please try loading this page with nbviewer.org.</b></div><div class=\"sk-container\" hidden><div class=\"sk-item sk-dashed-wrapped\"><div class=\"sk-label-container\"><div class=\"sk-label sk-toggleable\"><input class=\"sk-toggleable__control sk-hidden--visually\" id=\"sk-estimator-id-17\" type=\"checkbox\" ><label for=\"sk-estimator-id-17\" class=\"sk-toggleable__label sk-toggleable__label-arrow\">GridSearchCV</label><div class=\"sk-toggleable__content\"><pre>GridSearchCV(cv=4,\n",
       "             estimator=Pipeline(steps=[(&#x27;poly&#x27;, PolynomialFeatures()),\n",
       "                                       (&#x27;scaler&#x27;,\n",
       "                                        MinMaxScaler(feature_range=(-1, 1))),\n",
       "                                       (&#x27;regr&#x27;,\n",
       "                                        Ridge(alpha=0.1, max_iter=1000))]),\n",
       "             param_grid={&#x27;poly__degree&#x27;: range(1, 5),\n",
       "                         &#x27;regr__alpha&#x27;: [0.001, 0.01, 0.1, 5, 10]})</pre></div></div></div><div class=\"sk-parallel\"><div class=\"sk-parallel-item\"><div class=\"sk-item\"><div class=\"sk-label-container\"><div class=\"sk-label sk-toggleable\"><input class=\"sk-toggleable__control sk-hidden--visually\" id=\"sk-estimator-id-18\" type=\"checkbox\" ><label for=\"sk-estimator-id-18\" class=\"sk-toggleable__label sk-toggleable__label-arrow\">estimator: Pipeline</label><div class=\"sk-toggleable__content\"><pre>Pipeline(steps=[(&#x27;poly&#x27;, PolynomialFeatures()),\n",
       "                (&#x27;scaler&#x27;, MinMaxScaler(feature_range=(-1, 1))),\n",
       "                (&#x27;regr&#x27;, Ridge(alpha=0.1, max_iter=1000))])</pre></div></div></div><div class=\"sk-serial\"><div class=\"sk-item\"><div class=\"sk-serial\"><div class=\"sk-item\"><div class=\"sk-estimator sk-toggleable\"><input class=\"sk-toggleable__control sk-hidden--visually\" id=\"sk-estimator-id-19\" type=\"checkbox\" ><label for=\"sk-estimator-id-19\" class=\"sk-toggleable__label sk-toggleable__label-arrow\">PolynomialFeatures</label><div class=\"sk-toggleable__content\"><pre>PolynomialFeatures()</pre></div></div></div><div class=\"sk-item\"><div class=\"sk-estimator sk-toggleable\"><input class=\"sk-toggleable__control sk-hidden--visually\" id=\"sk-estimator-id-20\" type=\"checkbox\" ><label for=\"sk-estimator-id-20\" class=\"sk-toggleable__label sk-toggleable__label-arrow\">MinMaxScaler</label><div class=\"sk-toggleable__content\"><pre>MinMaxScaler(feature_range=(-1, 1))</pre></div></div></div><div class=\"sk-item\"><div class=\"sk-estimator sk-toggleable\"><input class=\"sk-toggleable__control sk-hidden--visually\" id=\"sk-estimator-id-21\" type=\"checkbox\" ><label for=\"sk-estimator-id-21\" class=\"sk-toggleable__label sk-toggleable__label-arrow\">Ridge</label><div class=\"sk-toggleable__content\"><pre>Ridge(alpha=0.1, max_iter=1000)</pre></div></div></div></div></div></div></div></div></div></div></div></div>"
      ],
      "text/plain": [
       "GridSearchCV(cv=4,\n",
       "             estimator=Pipeline(steps=[('poly', PolynomialFeatures()),\n",
       "                                       ('scaler',\n",
       "                                        MinMaxScaler(feature_range=(-1, 1))),\n",
       "                                       ('regr',\n",
       "                                        Ridge(alpha=0.1, max_iter=1000))]),\n",
       "             param_grid={'poly__degree': range(1, 5),\n",
       "                         'regr__alpha': [0.001, 0.01, 0.1, 5, 10]})"
      ]
     },
     "execution_count": 57,
     "metadata": {},
     "output_type": "execute_result"
    }
   ],
   "source": [
    "grid_rid_mm.fit(X_mm_scaled,y)"
   ]
  },
  {
   "cell_type": "code",
   "execution_count": 58,
   "id": "e21fecd8",
   "metadata": {},
   "outputs": [
    {
     "data": {
      "text/plain": [
       "0.9980191719856956"
      ]
     },
     "execution_count": 58,
     "metadata": {},
     "output_type": "execute_result"
    }
   ],
   "source": [
    "grid_rid_mm.best_score_"
   ]
  },
  {
   "cell_type": "code",
   "execution_count": 59,
   "id": "ad18d1ea",
   "metadata": {},
   "outputs": [
    {
     "data": {
      "text/plain": [
       "{'poly__degree': 4, 'regr__alpha': 0.001}"
      ]
     },
     "execution_count": 59,
     "metadata": {},
     "output_type": "execute_result"
    }
   ],
   "source": [
    "grid_rid_mm.best_params_"
   ]
  },
  {
   "cell_type": "code",
   "execution_count": 62,
   "id": "89520d54",
   "metadata": {},
   "outputs": [],
   "source": [
    "grid_rid = GridSearchCV(pol_rid, param_grid, cv=4)"
   ]
  },
  {
   "cell_type": "code",
   "execution_count": 63,
   "id": "6380fbd5",
   "metadata": {},
   "outputs": [
    {
     "name": "stderr",
     "output_type": "stream",
     "text": [
      "C:\\Users\\tat0e\\anaconda3\\Lib\\site-packages\\sklearn\\linear_model\\_ridge.py:211: LinAlgWarning: Ill-conditioned matrix (rcond=2.50239e-26): result may not be accurate.\n",
      "  return linalg.solve(A, Xy, assume_a=\"pos\", overwrite_a=True).T\n",
      "C:\\Users\\tat0e\\anaconda3\\Lib\\site-packages\\sklearn\\linear_model\\_ridge.py:211: LinAlgWarning: Ill-conditioned matrix (rcond=2.53131e-26): result may not be accurate.\n",
      "  return linalg.solve(A, Xy, assume_a=\"pos\", overwrite_a=True).T\n",
      "C:\\Users\\tat0e\\anaconda3\\Lib\\site-packages\\sklearn\\linear_model\\_ridge.py:211: LinAlgWarning: Ill-conditioned matrix (rcond=2.49554e-26): result may not be accurate.\n",
      "  return linalg.solve(A, Xy, assume_a=\"pos\", overwrite_a=True).T\n",
      "C:\\Users\\tat0e\\anaconda3\\Lib\\site-packages\\sklearn\\linear_model\\_ridge.py:211: LinAlgWarning: Ill-conditioned matrix (rcond=2.55077e-26): result may not be accurate.\n",
      "  return linalg.solve(A, Xy, assume_a=\"pos\", overwrite_a=True).T\n",
      "C:\\Users\\tat0e\\anaconda3\\Lib\\site-packages\\sklearn\\linear_model\\_ridge.py:211: LinAlgWarning: Ill-conditioned matrix (rcond=2.4739e-25): result may not be accurate.\n",
      "  return linalg.solve(A, Xy, assume_a=\"pos\", overwrite_a=True).T\n",
      "C:\\Users\\tat0e\\anaconda3\\Lib\\site-packages\\sklearn\\linear_model\\_ridge.py:211: LinAlgWarning: Ill-conditioned matrix (rcond=2.48368e-25): result may not be accurate.\n",
      "  return linalg.solve(A, Xy, assume_a=\"pos\", overwrite_a=True).T\n",
      "C:\\Users\\tat0e\\anaconda3\\Lib\\site-packages\\sklearn\\linear_model\\_ridge.py:211: LinAlgWarning: Ill-conditioned matrix (rcond=2.47223e-25): result may not be accurate.\n",
      "  return linalg.solve(A, Xy, assume_a=\"pos\", overwrite_a=True).T\n",
      "C:\\Users\\tat0e\\anaconda3\\Lib\\site-packages\\sklearn\\linear_model\\_ridge.py:211: LinAlgWarning: Ill-conditioned matrix (rcond=2.4533e-25): result may not be accurate.\n",
      "  return linalg.solve(A, Xy, assume_a=\"pos\", overwrite_a=True).T\n",
      "C:\\Users\\tat0e\\anaconda3\\Lib\\site-packages\\sklearn\\linear_model\\_ridge.py:211: LinAlgWarning: Ill-conditioned matrix (rcond=1.71234e-24): result may not be accurate.\n",
      "  return linalg.solve(A, Xy, assume_a=\"pos\", overwrite_a=True).T\n",
      "C:\\Users\\tat0e\\anaconda3\\Lib\\site-packages\\sklearn\\linear_model\\_ridge.py:211: LinAlgWarning: Ill-conditioned matrix (rcond=1.63231e-24): result may not be accurate.\n",
      "  return linalg.solve(A, Xy, assume_a=\"pos\", overwrite_a=True).T\n",
      "C:\\Users\\tat0e\\anaconda3\\Lib\\site-packages\\sklearn\\linear_model\\_ridge.py:211: LinAlgWarning: Ill-conditioned matrix (rcond=1.59883e-24): result may not be accurate.\n",
      "  return linalg.solve(A, Xy, assume_a=\"pos\", overwrite_a=True).T\n",
      "C:\\Users\\tat0e\\anaconda3\\Lib\\site-packages\\sklearn\\linear_model\\_ridge.py:211: LinAlgWarning: Ill-conditioned matrix (rcond=1.55959e-24): result may not be accurate.\n",
      "  return linalg.solve(A, Xy, assume_a=\"pos\", overwrite_a=True).T\n",
      "C:\\Users\\tat0e\\anaconda3\\Lib\\site-packages\\sklearn\\linear_model\\_ridge.py:211: LinAlgWarning: Ill-conditioned matrix (rcond=1.21247e-22): result may not be accurate.\n",
      "  return linalg.solve(A, Xy, assume_a=\"pos\", overwrite_a=True).T\n",
      "C:\\Users\\tat0e\\anaconda3\\Lib\\site-packages\\sklearn\\linear_model\\_ridge.py:211: LinAlgWarning: Ill-conditioned matrix (rcond=9.37848e-23): result may not be accurate.\n",
      "  return linalg.solve(A, Xy, assume_a=\"pos\", overwrite_a=True).T\n",
      "C:\\Users\\tat0e\\anaconda3\\Lib\\site-packages\\sklearn\\linear_model\\_ridge.py:211: LinAlgWarning: Ill-conditioned matrix (rcond=9.2795e-23): result may not be accurate.\n",
      "  return linalg.solve(A, Xy, assume_a=\"pos\", overwrite_a=True).T\n",
      "C:\\Users\\tat0e\\anaconda3\\Lib\\site-packages\\sklearn\\linear_model\\_ridge.py:211: LinAlgWarning: Ill-conditioned matrix (rcond=1.16687e-22): result may not be accurate.\n",
      "  return linalg.solve(A, Xy, assume_a=\"pos\", overwrite_a=True).T\n",
      "C:\\Users\\tat0e\\anaconda3\\Lib\\site-packages\\sklearn\\linear_model\\_ridge.py:211: LinAlgWarning: Ill-conditioned matrix (rcond=2.47907e-22): result may not be accurate.\n",
      "  return linalg.solve(A, Xy, assume_a=\"pos\", overwrite_a=True).T\n",
      "C:\\Users\\tat0e\\anaconda3\\Lib\\site-packages\\sklearn\\linear_model\\_ridge.py:211: LinAlgWarning: Ill-conditioned matrix (rcond=2.45839e-22): result may not be accurate.\n",
      "  return linalg.solve(A, Xy, assume_a=\"pos\", overwrite_a=True).T\n",
      "C:\\Users\\tat0e\\anaconda3\\Lib\\site-packages\\sklearn\\linear_model\\_ridge.py:211: LinAlgWarning: Ill-conditioned matrix (rcond=2.43951e-22): result may not be accurate.\n",
      "  return linalg.solve(A, Xy, assume_a=\"pos\", overwrite_a=True).T\n",
      "C:\\Users\\tat0e\\anaconda3\\Lib\\site-packages\\sklearn\\linear_model\\_ridge.py:211: LinAlgWarning: Ill-conditioned matrix (rcond=2.40985e-22): result may not be accurate.\n",
      "  return linalg.solve(A, Xy, assume_a=\"pos\", overwrite_a=True).T\n"
     ]
    },
    {
     "data": {
      "text/html": [
       "<style>#sk-container-id-6 {color: black;}#sk-container-id-6 pre{padding: 0;}#sk-container-id-6 div.sk-toggleable {background-color: white;}#sk-container-id-6 label.sk-toggleable__label {cursor: pointer;display: block;width: 100%;margin-bottom: 0;padding: 0.3em;box-sizing: border-box;text-align: center;}#sk-container-id-6 label.sk-toggleable__label-arrow:before {content: \"▸\";float: left;margin-right: 0.25em;color: #696969;}#sk-container-id-6 label.sk-toggleable__label-arrow:hover:before {color: black;}#sk-container-id-6 div.sk-estimator:hover label.sk-toggleable__label-arrow:before {color: black;}#sk-container-id-6 div.sk-toggleable__content {max-height: 0;max-width: 0;overflow: hidden;text-align: left;background-color: #f0f8ff;}#sk-container-id-6 div.sk-toggleable__content pre {margin: 0.2em;color: black;border-radius: 0.25em;background-color: #f0f8ff;}#sk-container-id-6 input.sk-toggleable__control:checked~div.sk-toggleable__content {max-height: 200px;max-width: 100%;overflow: auto;}#sk-container-id-6 input.sk-toggleable__control:checked~label.sk-toggleable__label-arrow:before {content: \"▾\";}#sk-container-id-6 div.sk-estimator input.sk-toggleable__control:checked~label.sk-toggleable__label {background-color: #d4ebff;}#sk-container-id-6 div.sk-label input.sk-toggleable__control:checked~label.sk-toggleable__label {background-color: #d4ebff;}#sk-container-id-6 input.sk-hidden--visually {border: 0;clip: rect(1px 1px 1px 1px);clip: rect(1px, 1px, 1px, 1px);height: 1px;margin: -1px;overflow: hidden;padding: 0;position: absolute;width: 1px;}#sk-container-id-6 div.sk-estimator {font-family: monospace;background-color: #f0f8ff;border: 1px dotted black;border-radius: 0.25em;box-sizing: border-box;margin-bottom: 0.5em;}#sk-container-id-6 div.sk-estimator:hover {background-color: #d4ebff;}#sk-container-id-6 div.sk-parallel-item::after {content: \"\";width: 100%;border-bottom: 1px solid gray;flex-grow: 1;}#sk-container-id-6 div.sk-label:hover label.sk-toggleable__label {background-color: #d4ebff;}#sk-container-id-6 div.sk-serial::before {content: \"\";position: absolute;border-left: 1px solid gray;box-sizing: border-box;top: 0;bottom: 0;left: 50%;z-index: 0;}#sk-container-id-6 div.sk-serial {display: flex;flex-direction: column;align-items: center;background-color: white;padding-right: 0.2em;padding-left: 0.2em;position: relative;}#sk-container-id-6 div.sk-item {position: relative;z-index: 1;}#sk-container-id-6 div.sk-parallel {display: flex;align-items: stretch;justify-content: center;background-color: white;position: relative;}#sk-container-id-6 div.sk-item::before, #sk-container-id-6 div.sk-parallel-item::before {content: \"\";position: absolute;border-left: 1px solid gray;box-sizing: border-box;top: 0;bottom: 0;left: 50%;z-index: -1;}#sk-container-id-6 div.sk-parallel-item {display: flex;flex-direction: column;z-index: 1;position: relative;background-color: white;}#sk-container-id-6 div.sk-parallel-item:first-child::after {align-self: flex-end;width: 50%;}#sk-container-id-6 div.sk-parallel-item:last-child::after {align-self: flex-start;width: 50%;}#sk-container-id-6 div.sk-parallel-item:only-child::after {width: 0;}#sk-container-id-6 div.sk-dashed-wrapped {border: 1px dashed gray;margin: 0 0.4em 0.5em 0.4em;box-sizing: border-box;padding-bottom: 0.4em;background-color: white;}#sk-container-id-6 div.sk-label label {font-family: monospace;font-weight: bold;display: inline-block;line-height: 1.2em;}#sk-container-id-6 div.sk-label-container {text-align: center;}#sk-container-id-6 div.sk-container {/* jupyter's `normalize.less` sets `[hidden] { display: none; }` but bootstrap.min.css set `[hidden] { display: none !important; }` so we also need the `!important` here to be able to override the default hidden behavior on the sphinx rendered scikit-learn.org. See: https://github.com/scikit-learn/scikit-learn/issues/21755 */display: inline-block !important;position: relative;}#sk-container-id-6 div.sk-text-repr-fallback {display: none;}</style><div id=\"sk-container-id-6\" class=\"sk-top-container\"><div class=\"sk-text-repr-fallback\"><pre>GridSearchCV(cv=4,\n",
       "             estimator=Pipeline(steps=[(&#x27;poly&#x27;, PolynomialFeatures(degree=3)),\n",
       "                                       (&#x27;regr&#x27;,\n",
       "                                        Ridge(alpha=0.1, max_iter=1000))]),\n",
       "             param_grid={&#x27;poly__degree&#x27;: range(1, 5),\n",
       "                         &#x27;regr__alpha&#x27;: [0.001, 0.01, 0.1, 5, 10]})</pre><b>In a Jupyter environment, please rerun this cell to show the HTML representation or trust the notebook. <br />On GitHub, the HTML representation is unable to render, please try loading this page with nbviewer.org.</b></div><div class=\"sk-container\" hidden><div class=\"sk-item sk-dashed-wrapped\"><div class=\"sk-label-container\"><div class=\"sk-label sk-toggleable\"><input class=\"sk-toggleable__control sk-hidden--visually\" id=\"sk-estimator-id-22\" type=\"checkbox\" ><label for=\"sk-estimator-id-22\" class=\"sk-toggleable__label sk-toggleable__label-arrow\">GridSearchCV</label><div class=\"sk-toggleable__content\"><pre>GridSearchCV(cv=4,\n",
       "             estimator=Pipeline(steps=[(&#x27;poly&#x27;, PolynomialFeatures(degree=3)),\n",
       "                                       (&#x27;regr&#x27;,\n",
       "                                        Ridge(alpha=0.1, max_iter=1000))]),\n",
       "             param_grid={&#x27;poly__degree&#x27;: range(1, 5),\n",
       "                         &#x27;regr__alpha&#x27;: [0.001, 0.01, 0.1, 5, 10]})</pre></div></div></div><div class=\"sk-parallel\"><div class=\"sk-parallel-item\"><div class=\"sk-item\"><div class=\"sk-label-container\"><div class=\"sk-label sk-toggleable\"><input class=\"sk-toggleable__control sk-hidden--visually\" id=\"sk-estimator-id-23\" type=\"checkbox\" ><label for=\"sk-estimator-id-23\" class=\"sk-toggleable__label sk-toggleable__label-arrow\">estimator: Pipeline</label><div class=\"sk-toggleable__content\"><pre>Pipeline(steps=[(&#x27;poly&#x27;, PolynomialFeatures(degree=3)),\n",
       "                (&#x27;regr&#x27;, Ridge(alpha=0.1, max_iter=1000))])</pre></div></div></div><div class=\"sk-serial\"><div class=\"sk-item\"><div class=\"sk-serial\"><div class=\"sk-item\"><div class=\"sk-estimator sk-toggleable\"><input class=\"sk-toggleable__control sk-hidden--visually\" id=\"sk-estimator-id-24\" type=\"checkbox\" ><label for=\"sk-estimator-id-24\" class=\"sk-toggleable__label sk-toggleable__label-arrow\">PolynomialFeatures</label><div class=\"sk-toggleable__content\"><pre>PolynomialFeatures(degree=3)</pre></div></div></div><div class=\"sk-item\"><div class=\"sk-estimator sk-toggleable\"><input class=\"sk-toggleable__control sk-hidden--visually\" id=\"sk-estimator-id-25\" type=\"checkbox\" ><label for=\"sk-estimator-id-25\" class=\"sk-toggleable__label sk-toggleable__label-arrow\">Ridge</label><div class=\"sk-toggleable__content\"><pre>Ridge(alpha=0.1, max_iter=1000)</pre></div></div></div></div></div></div></div></div></div></div></div></div>"
      ],
      "text/plain": [
       "GridSearchCV(cv=4,\n",
       "             estimator=Pipeline(steps=[('poly', PolynomialFeatures(degree=3)),\n",
       "                                       ('regr',\n",
       "                                        Ridge(alpha=0.1, max_iter=1000))]),\n",
       "             param_grid={'poly__degree': range(1, 5),\n",
       "                         'regr__alpha': [0.001, 0.01, 0.1, 5, 10]})"
      ]
     },
     "execution_count": 63,
     "metadata": {},
     "output_type": "execute_result"
    }
   ],
   "source": [
    "grid_rid.fit(x,y)"
   ]
  },
  {
   "cell_type": "code",
   "execution_count": 64,
   "id": "137d7f02",
   "metadata": {},
   "outputs": [
    {
     "data": {
      "text/plain": [
       "0.9998710375978237"
      ]
     },
     "execution_count": 64,
     "metadata": {},
     "output_type": "execute_result"
    }
   ],
   "source": [
    "grid_rid.best_score_"
   ]
  },
  {
   "cell_type": "code",
   "execution_count": 65,
   "id": "d2c2b6c0",
   "metadata": {},
   "outputs": [
    {
     "data": {
      "text/plain": [
       "{'poly__degree': 3, 'regr__alpha': 10}"
      ]
     },
     "execution_count": 65,
     "metadata": {},
     "output_type": "execute_result"
    }
   ],
   "source": [
    "grid_rid.best_params_"
   ]
  },
  {
   "cell_type": "markdown",
   "id": "c317ce43",
   "metadata": {},
   "source": [
    "вывод: лучшую точность на кросс-валидации показала модель линейной регрессии с добавлением полиномиальных признаков 3-ей степени, которые увеличивают сложность модели и позволяют ей лучше аппроксимировать данные, и L2 регуляризацией с коэффициентом регуляризации 10, который немного снижает её влияние на итоговый результат, но при этом помогает предотвратить переобучение модели.Т.к. входные признаки достаточно сильно коррелирующие, то использование L2 регуляризации более предпочтительно, чем L1 регуляризация. L1 регуляризация склонна оставить только один из входных признаков, занулив веса других признаков. Это может привести к потере информации и ухудшению точности модели. L2 регуляризация стремиться распределить веса равномерно между коррелирующими признаками, что поможет уменьшить их влияние и снизить переобучение."
   ]
  }
 ],
 "metadata": {
  "kernelspec": {
   "display_name": "Python 3 (ipykernel)",
   "language": "python",
   "name": "python3"
  },
  "language_info": {
   "codemirror_mode": {
    "name": "ipython",
    "version": 3
   },
   "file_extension": ".py",
   "mimetype": "text/x-python",
   "name": "python",
   "nbconvert_exporter": "python",
   "pygments_lexer": "ipython3",
   "version": "3.11.5"
  }
 },
 "nbformat": 4,
 "nbformat_minor": 5
}
