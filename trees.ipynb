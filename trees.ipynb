{
 "cells": [
  {
   "cell_type": "markdown",
   "id": "41177991",
   "metadata": {},
   "source": [
    "датасет PhishingData"
   ]
  },
  {
   "cell_type": "code",
   "execution_count": 13,
   "id": "159438a7",
   "metadata": {},
   "outputs": [],
   "source": [
    "import numpy as np\n",
    "import pandas as pd"
   ]
  },
  {
   "cell_type": "code",
   "execution_count": 14,
   "id": "e65669d8",
   "metadata": {},
   "outputs": [],
   "source": [
    "#загружаем датасет,указываем разделитель ','\n",
    "data = pd.read_csv('PhishingData.csv', sep=',')"
   ]
  },
  {
   "cell_type": "code",
   "execution_count": 15,
   "id": "d8f1b963",
   "metadata": {},
   "outputs": [
    {
     "name": "stdout",
     "output_type": "stream",
     "text": [
      "      Unnamed: 0  SFH  popUpWidnow  SSLfinal_State  Request_URL  \\\n",
      "0              0    1           -1               1           -1   \n",
      "1              1   -1           -1              -1           -1   \n",
      "2              2    1           -1               0            0   \n",
      "3              3    1            0               1           -1   \n",
      "4              4   -1           -1               1           -1   \n",
      "...          ...  ...          ...             ...          ...   \n",
      "1348        1348   -1           -1              -1           -1   \n",
      "1349        1349   -1            0               1            0   \n",
      "1350        1350   -1            0              -1           -1   \n",
      "1351        1351    0            0               1            0   \n",
      "1352        1352    1            0               1            1   \n",
      "\n",
      "      URL_of_Anchor  web_traffic  URL_Length  age_of_domain  \\\n",
      "0                -1            1           1              1   \n",
      "1                -1            0           1              1   \n",
      "2                -1            0          -1              1   \n",
      "3                -1            0           1              1   \n",
      "4                 0            0          -1              1   \n",
      "...             ...          ...         ...            ...   \n",
      "1348             -1           -1           0              1   \n",
      "1349             -1            0           0              1   \n",
      "1350             -1            0          -1             -1   \n",
      "1351              0            0          -1              1   \n",
      "1352              1            0          -1             -1   \n",
      "\n",
      "      having_IP_Address  Result  \n",
      "0                     0       0  \n",
      "1                     1       1  \n",
      "2                     0       1  \n",
      "3                     0       0  \n",
      "4                     0       1  \n",
      "...                 ...     ...  \n",
      "1348                  0       1  \n",
      "1349                  0      -1  \n",
      "1350                  0       1  \n",
      "1351                  0       1  \n",
      "1352                  0      -1  \n",
      "\n",
      "[1353 rows x 11 columns]\n"
     ]
    }
   ],
   "source": [
    "print(data)\n",
    "#смотрим данные"
   ]
  },
  {
   "cell_type": "code",
   "execution_count": 16,
   "id": "a2034031",
   "metadata": {},
   "outputs": [
    {
     "name": "stdout",
     "output_type": "stream",
     "text": [
      "<class 'pandas.core.frame.DataFrame'>\n",
      "RangeIndex: 1353 entries, 0 to 1352\n",
      "Data columns (total 11 columns):\n",
      " #   Column             Non-Null Count  Dtype\n",
      "---  ------             --------------  -----\n",
      " 0   Unnamed: 0         1353 non-null   int64\n",
      " 1   SFH                1353 non-null   int64\n",
      " 2   popUpWidnow        1353 non-null   int64\n",
      " 3   SSLfinal_State     1353 non-null   int64\n",
      " 4   Request_URL        1353 non-null   int64\n",
      " 5   URL_of_Anchor      1353 non-null   int64\n",
      " 6   web_traffic        1353 non-null   int64\n",
      " 7   URL_Length         1353 non-null   int64\n",
      " 8   age_of_domain      1353 non-null   int64\n",
      " 9   having_IP_Address  1353 non-null   int64\n",
      " 10  Result             1353 non-null   int64\n",
      "dtypes: int64(11)\n",
      "memory usage: 116.4 KB\n"
     ]
    }
   ],
   "source": [
    "data.info()\n",
    "# смотрим информацию о датасете\n",
    "# все столбцы имеют числовой тип и не содержат пропусков"
   ]
  },
  {
   "cell_type": "code",
   "execution_count": 17,
   "id": "1be4b6f3",
   "metadata": {
    "scrolled": true
   },
   "outputs": [
    {
     "data": {
      "text/html": [
       "<div>\n",
       "<style scoped>\n",
       "    .dataframe tbody tr th:only-of-type {\n",
       "        vertical-align: middle;\n",
       "    }\n",
       "\n",
       "    .dataframe tbody tr th {\n",
       "        vertical-align: top;\n",
       "    }\n",
       "\n",
       "    .dataframe thead th {\n",
       "        text-align: right;\n",
       "    }\n",
       "</style>\n",
       "<table border=\"1\" class=\"dataframe\">\n",
       "  <thead>\n",
       "    <tr style=\"text-align: right;\">\n",
       "      <th></th>\n",
       "      <th>Unnamed: 0</th>\n",
       "      <th>SFH</th>\n",
       "      <th>popUpWidnow</th>\n",
       "      <th>SSLfinal_State</th>\n",
       "      <th>Request_URL</th>\n",
       "      <th>URL_of_Anchor</th>\n",
       "      <th>web_traffic</th>\n",
       "      <th>URL_Length</th>\n",
       "      <th>age_of_domain</th>\n",
       "      <th>having_IP_Address</th>\n",
       "      <th>Result</th>\n",
       "    </tr>\n",
       "  </thead>\n",
       "  <tbody>\n",
       "    <tr>\n",
       "      <th>count</th>\n",
       "      <td>1353.000000</td>\n",
       "      <td>1353.000000</td>\n",
       "      <td>1353.000000</td>\n",
       "      <td>1353.000000</td>\n",
       "      <td>1353.000000</td>\n",
       "      <td>1353.000000</td>\n",
       "      <td>1353.000000</td>\n",
       "      <td>1353.000000</td>\n",
       "      <td>1353.000000</td>\n",
       "      <td>1353.000000</td>\n",
       "      <td>1353.000000</td>\n",
       "    </tr>\n",
       "    <tr>\n",
       "      <th>mean</th>\n",
       "      <td>676.000000</td>\n",
       "      <td>0.237990</td>\n",
       "      <td>-0.258684</td>\n",
       "      <td>0.327421</td>\n",
       "      <td>-0.223208</td>\n",
       "      <td>-0.025129</td>\n",
       "      <td>0.000000</td>\n",
       "      <td>-0.053215</td>\n",
       "      <td>0.219512</td>\n",
       "      <td>0.114560</td>\n",
       "      <td>-0.113821</td>\n",
       "    </tr>\n",
       "    <tr>\n",
       "      <th>std</th>\n",
       "      <td>390.721768</td>\n",
       "      <td>0.916389</td>\n",
       "      <td>0.679072</td>\n",
       "      <td>0.822193</td>\n",
       "      <td>0.799682</td>\n",
       "      <td>0.936262</td>\n",
       "      <td>0.806776</td>\n",
       "      <td>0.762552</td>\n",
       "      <td>0.975970</td>\n",
       "      <td>0.318608</td>\n",
       "      <td>0.954773</td>\n",
       "    </tr>\n",
       "    <tr>\n",
       "      <th>min</th>\n",
       "      <td>0.000000</td>\n",
       "      <td>-1.000000</td>\n",
       "      <td>-1.000000</td>\n",
       "      <td>-1.000000</td>\n",
       "      <td>-1.000000</td>\n",
       "      <td>-1.000000</td>\n",
       "      <td>-1.000000</td>\n",
       "      <td>-1.000000</td>\n",
       "      <td>-1.000000</td>\n",
       "      <td>0.000000</td>\n",
       "      <td>-1.000000</td>\n",
       "    </tr>\n",
       "    <tr>\n",
       "      <th>25%</th>\n",
       "      <td>338.000000</td>\n",
       "      <td>-1.000000</td>\n",
       "      <td>-1.000000</td>\n",
       "      <td>0.000000</td>\n",
       "      <td>-1.000000</td>\n",
       "      <td>-1.000000</td>\n",
       "      <td>-1.000000</td>\n",
       "      <td>-1.000000</td>\n",
       "      <td>-1.000000</td>\n",
       "      <td>0.000000</td>\n",
       "      <td>-1.000000</td>\n",
       "    </tr>\n",
       "    <tr>\n",
       "      <th>50%</th>\n",
       "      <td>676.000000</td>\n",
       "      <td>1.000000</td>\n",
       "      <td>0.000000</td>\n",
       "      <td>1.000000</td>\n",
       "      <td>0.000000</td>\n",
       "      <td>0.000000</td>\n",
       "      <td>0.000000</td>\n",
       "      <td>0.000000</td>\n",
       "      <td>1.000000</td>\n",
       "      <td>0.000000</td>\n",
       "      <td>-1.000000</td>\n",
       "    </tr>\n",
       "    <tr>\n",
       "      <th>75%</th>\n",
       "      <td>1014.000000</td>\n",
       "      <td>1.000000</td>\n",
       "      <td>0.000000</td>\n",
       "      <td>1.000000</td>\n",
       "      <td>0.000000</td>\n",
       "      <td>1.000000</td>\n",
       "      <td>1.000000</td>\n",
       "      <td>1.000000</td>\n",
       "      <td>1.000000</td>\n",
       "      <td>0.000000</td>\n",
       "      <td>1.000000</td>\n",
       "    </tr>\n",
       "    <tr>\n",
       "      <th>max</th>\n",
       "      <td>1352.000000</td>\n",
       "      <td>1.000000</td>\n",
       "      <td>1.000000</td>\n",
       "      <td>1.000000</td>\n",
       "      <td>1.000000</td>\n",
       "      <td>1.000000</td>\n",
       "      <td>1.000000</td>\n",
       "      <td>1.000000</td>\n",
       "      <td>1.000000</td>\n",
       "      <td>1.000000</td>\n",
       "      <td>1.000000</td>\n",
       "    </tr>\n",
       "  </tbody>\n",
       "</table>\n",
       "</div>"
      ],
      "text/plain": [
       "        Unnamed: 0          SFH  popUpWidnow  SSLfinal_State  Request_URL  \\\n",
       "count  1353.000000  1353.000000  1353.000000     1353.000000  1353.000000   \n",
       "mean    676.000000     0.237990    -0.258684        0.327421    -0.223208   \n",
       "std     390.721768     0.916389     0.679072        0.822193     0.799682   \n",
       "min       0.000000    -1.000000    -1.000000       -1.000000    -1.000000   \n",
       "25%     338.000000    -1.000000    -1.000000        0.000000    -1.000000   \n",
       "50%     676.000000     1.000000     0.000000        1.000000     0.000000   \n",
       "75%    1014.000000     1.000000     0.000000        1.000000     0.000000   \n",
       "max    1352.000000     1.000000     1.000000        1.000000     1.000000   \n",
       "\n",
       "       URL_of_Anchor  web_traffic   URL_Length  age_of_domain  \\\n",
       "count    1353.000000  1353.000000  1353.000000    1353.000000   \n",
       "mean       -0.025129     0.000000    -0.053215       0.219512   \n",
       "std         0.936262     0.806776     0.762552       0.975970   \n",
       "min        -1.000000    -1.000000    -1.000000      -1.000000   \n",
       "25%        -1.000000    -1.000000    -1.000000      -1.000000   \n",
       "50%         0.000000     0.000000     0.000000       1.000000   \n",
       "75%         1.000000     1.000000     1.000000       1.000000   \n",
       "max         1.000000     1.000000     1.000000       1.000000   \n",
       "\n",
       "       having_IP_Address       Result  \n",
       "count        1353.000000  1353.000000  \n",
       "mean            0.114560    -0.113821  \n",
       "std             0.318608     0.954773  \n",
       "min             0.000000    -1.000000  \n",
       "25%             0.000000    -1.000000  \n",
       "50%             0.000000    -1.000000  \n",
       "75%             0.000000     1.000000  \n",
       "max             1.000000     1.000000  "
      ]
     },
     "execution_count": 17,
     "metadata": {},
     "output_type": "execute_result"
    }
   ],
   "source": [
    "data.describe()\n",
    "# смотрим статистические данные о столбцах\n",
    "# в столбце Unnamed: 0 содержится просто нумерация строк, его нужно удалить "
   ]
  },
  {
   "cell_type": "code",
   "execution_count": 18,
   "id": "f5063946",
   "metadata": {},
   "outputs": [
    {
     "data": {
      "text/plain": [
       "155"
      ]
     },
     "execution_count": 18,
     "metadata": {},
     "output_type": "execute_result"
    }
   ],
   "source": [
    "len(data[data['having_IP_Address']>0])\n",
    "# смотрим количество отличных от 0 значений в столбце having_IP_Address, чтобы понять насколько он информативен\n",
    "# в столбце having_IP_Address 155 отличных от 0, что составляет около 10% от общего числа строк,"
   ]
  },
  {
   "cell_type": "code",
   "execution_count": 19,
   "id": "906d5d7a",
   "metadata": {},
   "outputs": [],
   "source": [
    "data.drop('Unnamed: 0',axis=1, inplace=True)\n",
    "#удаляем столбец"
   ]
  },
  {
   "cell_type": "code",
   "execution_count": 20,
   "id": "13b792d2",
   "metadata": {},
   "outputs": [
    {
     "data": {
      "text/html": [
       "<div>\n",
       "<style scoped>\n",
       "    .dataframe tbody tr th:only-of-type {\n",
       "        vertical-align: middle;\n",
       "    }\n",
       "\n",
       "    .dataframe tbody tr th {\n",
       "        vertical-align: top;\n",
       "    }\n",
       "\n",
       "    .dataframe thead th {\n",
       "        text-align: right;\n",
       "    }\n",
       "</style>\n",
       "<table border=\"1\" class=\"dataframe\">\n",
       "  <thead>\n",
       "    <tr style=\"text-align: right;\">\n",
       "      <th></th>\n",
       "      <th>SFH</th>\n",
       "      <th>popUpWidnow</th>\n",
       "      <th>SSLfinal_State</th>\n",
       "      <th>Request_URL</th>\n",
       "      <th>URL_of_Anchor</th>\n",
       "      <th>web_traffic</th>\n",
       "      <th>URL_Length</th>\n",
       "      <th>age_of_domain</th>\n",
       "      <th>having_IP_Address</th>\n",
       "      <th>Result</th>\n",
       "    </tr>\n",
       "  </thead>\n",
       "  <tbody>\n",
       "    <tr>\n",
       "      <th>SFH</th>\n",
       "      <td>1.000000</td>\n",
       "      <td>0.375943</td>\n",
       "      <td>0.368690</td>\n",
       "      <td>0.257247</td>\n",
       "      <td>0.333703</td>\n",
       "      <td>-0.187082</td>\n",
       "      <td>0.151503</td>\n",
       "      <td>0.163182</td>\n",
       "      <td>0.043349</td>\n",
       "      <td>-0.678277</td>\n",
       "    </tr>\n",
       "    <tr>\n",
       "      <th>popUpWidnow</th>\n",
       "      <td>0.375943</td>\n",
       "      <td>1.000000</td>\n",
       "      <td>0.218050</td>\n",
       "      <td>0.111520</td>\n",
       "      <td>0.167760</td>\n",
       "      <td>-0.140407</td>\n",
       "      <td>0.136229</td>\n",
       "      <td>0.076815</td>\n",
       "      <td>0.123399</td>\n",
       "      <td>-0.509749</td>\n",
       "    </tr>\n",
       "    <tr>\n",
       "      <th>SSLfinal_State</th>\n",
       "      <td>0.368690</td>\n",
       "      <td>0.218050</td>\n",
       "      <td>1.000000</td>\n",
       "      <td>0.057239</td>\n",
       "      <td>0.088525</td>\n",
       "      <td>-0.171719</td>\n",
       "      <td>0.095055</td>\n",
       "      <td>0.208091</td>\n",
       "      <td>0.108000</td>\n",
       "      <td>-0.518762</td>\n",
       "    </tr>\n",
       "    <tr>\n",
       "      <th>Request_URL</th>\n",
       "      <td>0.257247</td>\n",
       "      <td>0.111520</td>\n",
       "      <td>0.057239</td>\n",
       "      <td>1.000000</td>\n",
       "      <td>0.337277</td>\n",
       "      <td>-0.045858</td>\n",
       "      <td>0.048431</td>\n",
       "      <td>0.053348</td>\n",
       "      <td>0.013346</td>\n",
       "      <td>-0.271609</td>\n",
       "    </tr>\n",
       "    <tr>\n",
       "      <th>URL_of_Anchor</th>\n",
       "      <td>0.333703</td>\n",
       "      <td>0.167760</td>\n",
       "      <td>0.088525</td>\n",
       "      <td>0.337277</td>\n",
       "      <td>1.000000</td>\n",
       "      <td>-0.092045</td>\n",
       "      <td>0.097581</td>\n",
       "      <td>0.069178</td>\n",
       "      <td>0.039412</td>\n",
       "      <td>-0.287007</td>\n",
       "    </tr>\n",
       "    <tr>\n",
       "      <th>web_traffic</th>\n",
       "      <td>-0.187082</td>\n",
       "      <td>-0.140407</td>\n",
       "      <td>-0.171719</td>\n",
       "      <td>-0.045858</td>\n",
       "      <td>-0.092045</td>\n",
       "      <td>1.000000</td>\n",
       "      <td>-0.108204</td>\n",
       "      <td>-0.683857</td>\n",
       "      <td>-0.094957</td>\n",
       "      <td>0.243896</td>\n",
       "    </tr>\n",
       "    <tr>\n",
       "      <th>URL_Length</th>\n",
       "      <td>0.151503</td>\n",
       "      <td>0.136229</td>\n",
       "      <td>0.095055</td>\n",
       "      <td>0.048431</td>\n",
       "      <td>0.097581</td>\n",
       "      <td>-0.108204</td>\n",
       "      <td>1.000000</td>\n",
       "      <td>0.075338</td>\n",
       "      <td>0.165152</td>\n",
       "      <td>-0.183061</td>\n",
       "    </tr>\n",
       "    <tr>\n",
       "      <th>age_of_domain</th>\n",
       "      <td>0.163182</td>\n",
       "      <td>0.076815</td>\n",
       "      <td>0.208091</td>\n",
       "      <td>0.053348</td>\n",
       "      <td>0.069178</td>\n",
       "      <td>-0.683857</td>\n",
       "      <td>0.075338</td>\n",
       "      <td>1.000000</td>\n",
       "      <td>0.040379</td>\n",
       "      <td>-0.231931</td>\n",
       "    </tr>\n",
       "    <tr>\n",
       "      <th>having_IP_Address</th>\n",
       "      <td>0.043349</td>\n",
       "      <td>0.123399</td>\n",
       "      <td>0.108000</td>\n",
       "      <td>0.013346</td>\n",
       "      <td>0.039412</td>\n",
       "      <td>-0.094957</td>\n",
       "      <td>0.165152</td>\n",
       "      <td>0.040379</td>\n",
       "      <td>1.000000</td>\n",
       "      <td>-0.059225</td>\n",
       "    </tr>\n",
       "    <tr>\n",
       "      <th>Result</th>\n",
       "      <td>-0.678277</td>\n",
       "      <td>-0.509749</td>\n",
       "      <td>-0.518762</td>\n",
       "      <td>-0.271609</td>\n",
       "      <td>-0.287007</td>\n",
       "      <td>0.243896</td>\n",
       "      <td>-0.183061</td>\n",
       "      <td>-0.231931</td>\n",
       "      <td>-0.059225</td>\n",
       "      <td>1.000000</td>\n",
       "    </tr>\n",
       "  </tbody>\n",
       "</table>\n",
       "</div>"
      ],
      "text/plain": [
       "                        SFH  popUpWidnow  SSLfinal_State  Request_URL  \\\n",
       "SFH                1.000000     0.375943        0.368690     0.257247   \n",
       "popUpWidnow        0.375943     1.000000        0.218050     0.111520   \n",
       "SSLfinal_State     0.368690     0.218050        1.000000     0.057239   \n",
       "Request_URL        0.257247     0.111520        0.057239     1.000000   \n",
       "URL_of_Anchor      0.333703     0.167760        0.088525     0.337277   \n",
       "web_traffic       -0.187082    -0.140407       -0.171719    -0.045858   \n",
       "URL_Length         0.151503     0.136229        0.095055     0.048431   \n",
       "age_of_domain      0.163182     0.076815        0.208091     0.053348   \n",
       "having_IP_Address  0.043349     0.123399        0.108000     0.013346   \n",
       "Result            -0.678277    -0.509749       -0.518762    -0.271609   \n",
       "\n",
       "                   URL_of_Anchor  web_traffic  URL_Length  age_of_domain  \\\n",
       "SFH                     0.333703    -0.187082    0.151503       0.163182   \n",
       "popUpWidnow             0.167760    -0.140407    0.136229       0.076815   \n",
       "SSLfinal_State          0.088525    -0.171719    0.095055       0.208091   \n",
       "Request_URL             0.337277    -0.045858    0.048431       0.053348   \n",
       "URL_of_Anchor           1.000000    -0.092045    0.097581       0.069178   \n",
       "web_traffic            -0.092045     1.000000   -0.108204      -0.683857   \n",
       "URL_Length              0.097581    -0.108204    1.000000       0.075338   \n",
       "age_of_domain           0.069178    -0.683857    0.075338       1.000000   \n",
       "having_IP_Address       0.039412    -0.094957    0.165152       0.040379   \n",
       "Result                 -0.287007     0.243896   -0.183061      -0.231931   \n",
       "\n",
       "                   having_IP_Address    Result  \n",
       "SFH                         0.043349 -0.678277  \n",
       "popUpWidnow                 0.123399 -0.509749  \n",
       "SSLfinal_State              0.108000 -0.518762  \n",
       "Request_URL                 0.013346 -0.271609  \n",
       "URL_of_Anchor               0.039412 -0.287007  \n",
       "web_traffic                -0.094957  0.243896  \n",
       "URL_Length                  0.165152 -0.183061  \n",
       "age_of_domain               0.040379 -0.231931  \n",
       "having_IP_Address           1.000000 -0.059225  \n",
       "Result                     -0.059225  1.000000  "
      ]
     },
     "execution_count": 20,
     "metadata": {},
     "output_type": "execute_result"
    }
   ],
   "source": [
    "data.corr()\n",
    "# проверяем коэфициенты корреляции признаков\n",
    "# сильно коррелирующих признаков нет"
   ]
  },
  {
   "cell_type": "code",
   "execution_count": 21,
   "id": "64ece079",
   "metadata": {},
   "outputs": [
    {
     "data": {
      "text/plain": [
       "<Axes: >"
      ]
     },
     "execution_count": 21,
     "metadata": {},
     "output_type": "execute_result"
    },
    {
     "data": {
      "image/png": "[encoded data removed]",
      "text/plain": [
       "<Figure size 640x480 with 2 Axes>"
      ]
     },
     "metadata": {},
     "output_type": "display_data"
    }
   ],
   "source": [
    "import seaborn as sns\n",
    "\n",
    "sns.heatmap(data.corr())"
   ]
  },
  {
   "cell_type": "code",
   "execution_count": 22,
   "id": "37af144b",
   "metadata": {},
   "outputs": [],
   "source": [
    "from sklearn.model_selection import train_test_split, cross_val_score, GridSearchCV\n",
    "from sklearn.pipeline import Pipeline\n",
    "from sklearn.preprocessing import MinMaxScaler, PolynomialFeatures"
   ]
  },
  {
   "cell_type": "code",
   "execution_count": 23,
   "id": "b05e4d14",
   "metadata": {},
   "outputs": [],
   "source": [
    "y=data.pop('Result')\n",
    "#присваиваем y целевой признак, удаляем его из датасета"
   ]
  },
  {
   "cell_type": "code",
   "execution_count": 24,
   "id": "52fd4e81",
   "metadata": {},
   "outputs": [],
   "source": [
    "x=data\n",
    "#присваиваем датасет x"
   ]
  },
  {
   "cell_type": "code",
   "execution_count": 25,
   "id": "35f7de5b",
   "metadata": {},
   "outputs": [
    {
     "name": "stdout",
     "output_type": "stream",
     "text": [
      "<class 'pandas.core.frame.DataFrame'>\n",
      "RangeIndex: 1353 entries, 0 to 1352\n",
      "Data columns (total 9 columns):\n",
      " #   Column             Non-Null Count  Dtype\n",
      "---  ------             --------------  -----\n",
      " 0   SFH                1353 non-null   int64\n",
      " 1   popUpWidnow        1353 non-null   int64\n",
      " 2   SSLfinal_State     1353 non-null   int64\n",
      " 3   Request_URL        1353 non-null   int64\n",
      " 4   URL_of_Anchor      1353 non-null   int64\n",
      " 5   web_traffic        1353 non-null   int64\n",
      " 6   URL_Length         1353 non-null   int64\n",
      " 7   age_of_domain      1353 non-null   int64\n",
      " 8   having_IP_Address  1353 non-null   int64\n",
      "dtypes: int64(9)\n",
      "memory usage: 95.3 KB\n"
     ]
    }
   ],
   "source": [
    "x.info()"
   ]
  },
  {
   "cell_type": "code",
   "execution_count": 26,
   "id": "f99de3a0",
   "metadata": {},
   "outputs": [
    {
     "data": {
      "image/png": "[encoded data removed]",
      "text/plain": [
       "<Figure size 1000x1000 with 9 Axes>"
      ]
     },
     "metadata": {},
     "output_type": "display_data"
    }
   ],
   "source": [
    "#Визуализируем распределения признаков в датасете\n",
    "_ =x.hist(x.columns, figsize=(10, 10))"
   ]
  },
  {
   "cell_type": "code",
   "execution_count": 27,
   "id": "e1cc292e",
   "metadata": {},
   "outputs": [],
   "source": [
    "X_train, X_test, y_train, y_test = train_test_split(x, y, test_size=0.2)\n",
    "# разбиваем датасет на выборки"
   ]
  },
  {
   "cell_type": "code",
   "execution_count": 53,
   "id": "c557b1e8",
   "metadata": {},
   "outputs": [],
   "source": [
    "from sklearn.linear_model import LogisticRegression"
   ]
  },
  {
   "cell_type": "code",
   "execution_count": 29,
   "id": "4d4de52b",
   "metadata": {},
   "outputs": [
    {
     "name": "stdout",
     "output_type": "stream",
     "text": [
      "Accuracy for train set: 0.8308687615526802 ; for test set: 0.8450184501845018 ; cross-validation: 0.8285581522481891\n"
     ]
    }
   ],
   "source": [
    "#строим и обучаем модель логистической регрессии\n",
    "log_reg = LogisticRegression()\n",
    "log_reg.fit(X_train, y_train)\n",
    "# cмотрим метрику Accuracy для тренировочных и тестовых данных, делаем проверку на кросс-валидации\n",
    "print('Accuracy for train set:', log_reg.score(X_train, y_train), \n",
    "      '; for test set:', log_reg.score(X_test, y_test), \n",
    "      '; cross-validation:', np.mean(cross_val_score(log_reg, x, y, cv=5)))"
   ]
  },
  {
   "cell_type": "code",
   "execution_count": 33,
   "id": "a90edf4e",
   "metadata": {},
   "outputs": [
    {
     "name": "stdout",
     "output_type": "stream",
     "text": [
      "Accuracy for train set: 0.9408502772643254 ; for test set: 0.8708487084870848 ; cross-validation: 0.8898947656143228\n"
     ]
    }
   ],
   "source": [
    "# пробуем повысить точность\n",
    "# добавляем полиномиальные признаки\n",
    "# наиболее высокую точность дает 5 степень\n",
    "# увеличиваем максимальное число итераций до 500\n",
    "# уменьшаем значение c до 0.01 для усиления регуляризации и борьбы с переобучением, \n",
    "# т.к. точность на тренировочных данных значительно превышает точность на тестовой выборке и кросс-валидации и близка к единице\n",
    "pol_log_reg = Pipeline([('poly', PolynomialFeatures(degree = 5)),\n",
    "                        ('regr', LogisticRegression(C=0.01, max_iter=500))])\n",
    "pol_log_reg.fit(X_train, y_train)\n",
    "print('Accuracy for train set:', pol_log_reg.score(X_train, y_train), \n",
    "      '; for test set:', pol_log_reg.score(X_test, y_test), \n",
    "      '; cross-validation:', np.mean(cross_val_score(pol_log_reg, x, y, cv=5)))\n",
    "# после добавления полиномиальных признаков точность на кросс-валидации улучшилась до 0.8898947656143228"
   ]
  },
  {
   "cell_type": "code",
   "execution_count": 34,
   "id": "f30ea4aa",
   "metadata": {},
   "outputs": [],
   "source": [
    "param_grid = {'poly__degree': range(1, 7),\n",
    "              'regr__C': [0.001, 0.01, 0.1, 1, 5, 10],\n",
    "              'regr__max_iter': [3000]}\n",
    "grid_log_reg = GridSearchCV(pol_log_reg, param_grid, cv=5)\n",
    "#подберем оптимальные параметры, увеличим максимальное число итераций для сходимости метода."
   ]
  },
  {
   "cell_type": "code",
   "execution_count": 35,
   "id": "6f8b375b",
   "metadata": {},
   "outputs": [
    {
     "data": {
      "text/html": [
       "<style>#sk-container-id-1 {color: black;}#sk-container-id-1 pre{padding: 0;}#sk-container-id-1 div.sk-toggleable {background-color: white;}#sk-container-id-1 label.sk-toggleable__label {cursor: pointer;display: block;width: 100%;margin-bottom: 0;padding: 0.3em;box-sizing: border-box;text-align: center;}#sk-container-id-1 label.sk-toggleable__label-arrow:before {content: \"▸\";float: left;margin-right: 0.25em;color: #696969;}#sk-container-id-1 label.sk-toggleable__label-arrow:hover:before {color: black;}#sk-container-id-1 div.sk-estimator:hover label.sk-toggleable__label-arrow:before {color: black;}#sk-container-id-1 div.sk-toggleable__content {max-height: 0;max-width: 0;overflow: hidden;text-align: left;background-color: #f0f8ff;}#sk-container-id-1 div.sk-toggleable__content pre {margin: 0.2em;color: black;border-radius: 0.25em;background-color: #f0f8ff;}#sk-container-id-1 input.sk-toggleable__control:checked~div.sk-toggleable__content {max-height: 200px;max-width: 100%;overflow: auto;}#sk-container-id-1 input.sk-toggleable__control:checked~label.sk-toggleable__label-arrow:before {content: \"▾\";}#sk-container-id-1 div.sk-estimator input.sk-toggleable__control:checked~label.sk-toggleable__label {background-color: #d4ebff;}#sk-container-id-1 div.sk-label input.sk-toggleable__control:checked~label.sk-toggleable__label {background-color: #d4ebff;}#sk-container-id-1 input.sk-hidden--visually {border: 0;clip: rect(1px 1px 1px 1px);clip: rect(1px, 1px, 1px, 1px);height: 1px;margin: -1px;overflow: hidden;padding: 0;position: absolute;width: 1px;}#sk-container-id-1 div.sk-estimator {font-family: monospace;background-color: #f0f8ff;border: 1px dotted black;border-radius: 0.25em;box-sizing: border-box;margin-bottom: 0.5em;}#sk-container-id-1 div.sk-estimator:hover {background-color: #d4ebff;}#sk-container-id-1 div.sk-parallel-item::after {content: \"\";width: 100%;border-bottom: 1px solid gray;flex-grow: 1;}#sk-container-id-1 div.sk-label:hover label.sk-toggleable__label {background-color: #d4ebff;}#sk-container-id-1 div.sk-serial::before {content: \"\";position: absolute;border-left: 1px solid gray;box-sizing: border-box;top: 0;bottom: 0;left: 50%;z-index: 0;}#sk-container-id-1 div.sk-serial {display: flex;flex-direction: column;align-items: center;background-color: white;padding-right: 0.2em;padding-left: 0.2em;position: relative;}#sk-container-id-1 div.sk-item {position: relative;z-index: 1;}#sk-container-id-1 div.sk-parallel {display: flex;align-items: stretch;justify-content: center;background-color: white;position: relative;}#sk-container-id-1 div.sk-item::before, #sk-container-id-1 div.sk-parallel-item::before {content: \"\";position: absolute;border-left: 1px solid gray;box-sizing: border-box;top: 0;bottom: 0;left: 50%;z-index: -1;}#sk-container-id-1 div.sk-parallel-item {display: flex;flex-direction: column;z-index: 1;position: relative;background-color: white;}#sk-container-id-1 div.sk-parallel-item:first-child::after {align-self: flex-end;width: 50%;}#sk-container-id-1 div.sk-parallel-item:last-child::after {align-self: flex-start;width: 50%;}#sk-container-id-1 div.sk-parallel-item:only-child::after {width: 0;}#sk-container-id-1 div.sk-dashed-wrapped {border: 1px dashed gray;margin: 0 0.4em 0.5em 0.4em;box-sizing: border-box;padding-bottom: 0.4em;background-color: white;}#sk-container-id-1 div.sk-label label {font-family: monospace;font-weight: bold;display: inline-block;line-height: 1.2em;}#sk-container-id-1 div.sk-label-container {text-align: center;}#sk-container-id-1 div.sk-container {/* jupyter's `normalize.less` sets `[hidden] { display: none; }` but bootstrap.min.css set `[hidden] { display: none !important; }` so we also need the `!important` here to be able to override the default hidden behavior on the sphinx rendered scikit-learn.org. See: https://github.com/scikit-learn/scikit-learn/issues/21755 */display: inline-block !important;position: relative;}#sk-container-id-1 div.sk-text-repr-fallback {display: none;}</style><div id=\"sk-container-id-1\" class=\"sk-top-container\"><div class=\"sk-text-repr-fallback\"><pre>GridSearchCV(cv=5,\n",
       "             estimator=Pipeline(steps=[(&#x27;poly&#x27;, PolynomialFeatures(degree=5)),\n",
       "                                       (&#x27;regr&#x27;,\n",
       "                                        LogisticRegression(C=0.01,\n",
       "                                                           max_iter=500))]),\n",
       "             param_grid={&#x27;poly__degree&#x27;: range(1, 7),\n",
       "                         &#x27;regr__C&#x27;: [0.001, 0.01, 0.1, 1, 5, 10],\n",
       "                         &#x27;regr__max_iter&#x27;: [3000]})</pre><b>In a Jupyter environment, please rerun this cell to show the HTML representation or trust the notebook. <br />On GitHub, the HTML representation is unable to render, please try loading this page with nbviewer.org.</b></div><div class=\"sk-container\" hidden><div class=\"sk-item sk-dashed-wrapped\"><div class=\"sk-label-container\"><div class=\"sk-label sk-toggleable\"><input class=\"sk-toggleable__control sk-hidden--visually\" id=\"sk-estimator-id-1\" type=\"checkbox\" ><label for=\"sk-estimator-id-1\" class=\"sk-toggleable__label sk-toggleable__label-arrow\">GridSearchCV</label><div class=\"sk-toggleable__content\"><pre>GridSearchCV(cv=5,\n",
       "             estimator=Pipeline(steps=[(&#x27;poly&#x27;, PolynomialFeatures(degree=5)),\n",
       "                                       (&#x27;regr&#x27;,\n",
       "                                        LogisticRegression(C=0.01,\n",
       "                                                           max_iter=500))]),\n",
       "             param_grid={&#x27;poly__degree&#x27;: range(1, 7),\n",
       "                         &#x27;regr__C&#x27;: [0.001, 0.01, 0.1, 1, 5, 10],\n",
       "                         &#x27;regr__max_iter&#x27;: [3000]})</pre></div></div></div><div class=\"sk-parallel\"><div class=\"sk-parallel-item\"><div class=\"sk-item\"><div class=\"sk-label-container\"><div class=\"sk-label sk-toggleable\"><input class=\"sk-toggleable__control sk-hidden--visually\" id=\"sk-estimator-id-2\" type=\"checkbox\" ><label for=\"sk-estimator-id-2\" class=\"sk-toggleable__label sk-toggleable__label-arrow\">estimator: Pipeline</label><div class=\"sk-toggleable__content\"><pre>Pipeline(steps=[(&#x27;poly&#x27;, PolynomialFeatures(degree=5)),\n",
       "                (&#x27;regr&#x27;, LogisticRegression(C=0.01, max_iter=500))])</pre></div></div></div><div class=\"sk-serial\"><div class=\"sk-item\"><div class=\"sk-serial\"><div class=\"sk-item\"><div class=\"sk-estimator sk-toggleable\"><input class=\"sk-toggleable__control sk-hidden--visually\" id=\"sk-estimator-id-3\" type=\"checkbox\" ><label for=\"sk-estimator-id-3\" class=\"sk-toggleable__label sk-toggleable__label-arrow\">PolynomialFeatures</label><div class=\"sk-toggleable__content\"><pre>PolynomialFeatures(degree=5)</pre></div></div></div><div class=\"sk-item\"><div class=\"sk-estimator sk-toggleable\"><input class=\"sk-toggleable__control sk-hidden--visually\" id=\"sk-estimator-id-4\" type=\"checkbox\" ><label for=\"sk-estimator-id-4\" class=\"sk-toggleable__label sk-toggleable__label-arrow\">LogisticRegression</label><div class=\"sk-toggleable__content\"><pre>LogisticRegression(C=0.01, max_iter=500)</pre></div></div></div></div></div></div></div></div></div></div></div></div>"
      ],
      "text/plain": [
       "GridSearchCV(cv=5,\n",
       "             estimator=Pipeline(steps=[('poly', PolynomialFeatures(degree=5)),\n",
       "                                       ('regr',\n",
       "                                        LogisticRegression(C=0.01,\n",
       "                                                           max_iter=500))]),\n",
       "             param_grid={'poly__degree': range(1, 7),\n",
       "                         'regr__C': [0.001, 0.01, 0.1, 1, 5, 10],\n",
       "                         'regr__max_iter': [3000]})"
      ]
     },
     "execution_count": 35,
     "metadata": {},
     "output_type": "execute_result"
    }
   ],
   "source": [
    "grid_log_reg.fit(x,y)"
   ]
  },
  {
   "cell_type": "code",
   "execution_count": 36,
   "id": "d054c456",
   "metadata": {},
   "outputs": [
    {
     "data": {
      "text/plain": [
       "0.8906382397157305"
      ]
     },
     "execution_count": 36,
     "metadata": {},
     "output_type": "execute_result"
    }
   ],
   "source": [
    "grid_log_reg.best_score_"
   ]
  },
  {
   "cell_type": "code",
   "execution_count": 37,
   "id": "00bf4c5a",
   "metadata": {},
   "outputs": [
    {
     "data": {
      "text/plain": [
       "{'poly__degree': 4, 'regr__C': 0.1, 'regr__max_iter': 3000}"
      ]
     },
     "execution_count": 37,
     "metadata": {},
     "output_type": "execute_result"
    }
   ],
   "source": [
    "grid_log_reg.best_params_"
   ]
  },
  {
   "cell_type": "code",
   "execution_count": 38,
   "id": "8ce93e20",
   "metadata": {},
   "outputs": [
    {
     "name": "stdout",
     "output_type": "stream",
     "text": [
      "Accuracy for train set: 0.9565619223659889 ; for test set: 0.8671586715867159 ; cross-validation: 0.8921142544758782\n"
     ]
    }
   ],
   "source": [
    "#добавим масштабатор MinMaxScaler, чтобы все значения были в промежутке [0,1]\n",
    "#было увеличино число итераций для сходимости метода\n",
    "#с увеличено до 0.1\n",
    "pol_log_reg_mm = Pipeline([('poly', PolynomialFeatures(degree = 5)),\n",
    "                        ('scaler', MinMaxScaler()),\n",
    "                        ('regr', LogisticRegression(C=0.1, max_iter=1000))])\n",
    "pol_log_reg_mm.fit(X_train, y_train)\n",
    "print('Accuracy for train set:', pol_log_reg_mm.score(X_train, y_train), \n",
    "      '; for test set:', pol_log_reg_mm.score(X_test, y_test), \n",
    "      '; cross-validation:', np.mean(cross_val_score(pol_log_reg_mm, x, y, cv=5)))\n",
    "# точность на кросс-валидации улучшилась до 0.8921142544758782"
   ]
  },
  {
   "cell_type": "code",
   "execution_count": 39,
   "id": "d2de3009",
   "metadata": {},
   "outputs": [],
   "source": [
    "param_grid = {'poly__degree': range(1, 7),\n",
    "              'regr__C': [0.001, 0.01, 0.1, 1, 5, 10],\n",
    "              'regr__max_iter': [3000]}\n",
    "grid_log_reg_mm = GridSearchCV(pol_log_reg_mm, param_grid, cv=5)\n",
    "#подберем оптимальные параметры, увеличим максимальное число итераций для сходимости метода."
   ]
  },
  {
   "cell_type": "code",
   "execution_count": 40,
   "id": "681ae171",
   "metadata": {},
   "outputs": [
    {
     "data": {
      "text/html": [
       "<style>#sk-container-id-2 {color: black;}#sk-container-id-2 pre{padding: 0;}#sk-container-id-2 div.sk-toggleable {background-color: white;}#sk-container-id-2 label.sk-toggleable__label {cursor: pointer;display: block;width: 100%;margin-bottom: 0;padding: 0.3em;box-sizing: border-box;text-align: center;}#sk-container-id-2 label.sk-toggleable__label-arrow:before {content: \"▸\";float: left;margin-right: 0.25em;color: #696969;}#sk-container-id-2 label.sk-toggleable__label-arrow:hover:before {color: black;}#sk-container-id-2 div.sk-estimator:hover label.sk-toggleable__label-arrow:before {color: black;}#sk-container-id-2 div.sk-toggleable__content {max-height: 0;max-width: 0;overflow: hidden;text-align: left;background-color: #f0f8ff;}#sk-container-id-2 div.sk-toggleable__content pre {margin: 0.2em;color: black;border-radius: 0.25em;background-color: #f0f8ff;}#sk-container-id-2 input.sk-toggleable__control:checked~div.sk-toggleable__content {max-height: 200px;max-width: 100%;overflow: auto;}#sk-container-id-2 input.sk-toggleable__control:checked~label.sk-toggleable__label-arrow:before {content: \"▾\";}#sk-container-id-2 div.sk-estimator input.sk-toggleable__control:checked~label.sk-toggleable__label {background-color: #d4ebff;}#sk-container-id-2 div.sk-label input.sk-toggleable__control:checked~label.sk-toggleable__label {background-color: #d4ebff;}#sk-container-id-2 input.sk-hidden--visually {border: 0;clip: rect(1px 1px 1px 1px);clip: rect(1px, 1px, 1px, 1px);height: 1px;margin: -1px;overflow: hidden;padding: 0;position: absolute;width: 1px;}#sk-container-id-2 div.sk-estimator {font-family: monospace;background-color: #f0f8ff;border: 1px dotted black;border-radius: 0.25em;box-sizing: border-box;margin-bottom: 0.5em;}#sk-container-id-2 div.sk-estimator:hover {background-color: #d4ebff;}#sk-container-id-2 div.sk-parallel-item::after {content: \"\";width: 100%;border-bottom: 1px solid gray;flex-grow: 1;}#sk-container-id-2 div.sk-label:hover label.sk-toggleable__label {background-color: #d4ebff;}#sk-container-id-2 div.sk-serial::before {content: \"\";position: absolute;border-left: 1px solid gray;box-sizing: border-box;top: 0;bottom: 0;left: 50%;z-index: 0;}#sk-container-id-2 div.sk-serial {display: flex;flex-direction: column;align-items: center;background-color: white;padding-right: 0.2em;padding-left: 0.2em;position: relative;}#sk-container-id-2 div.sk-item {position: relative;z-index: 1;}#sk-container-id-2 div.sk-parallel {display: flex;align-items: stretch;justify-content: center;background-color: white;position: relative;}#sk-container-id-2 div.sk-item::before, #sk-container-id-2 div.sk-parallel-item::before {content: \"\";position: absolute;border-left: 1px solid gray;box-sizing: border-box;top: 0;bottom: 0;left: 50%;z-index: -1;}#sk-container-id-2 div.sk-parallel-item {display: flex;flex-direction: column;z-index: 1;position: relative;background-color: white;}#sk-container-id-2 div.sk-parallel-item:first-child::after {align-self: flex-end;width: 50%;}#sk-container-id-2 div.sk-parallel-item:last-child::after {align-self: flex-start;width: 50%;}#sk-container-id-2 div.sk-parallel-item:only-child::after {width: 0;}#sk-container-id-2 div.sk-dashed-wrapped {border: 1px dashed gray;margin: 0 0.4em 0.5em 0.4em;box-sizing: border-box;padding-bottom: 0.4em;background-color: white;}#sk-container-id-2 div.sk-label label {font-family: monospace;font-weight: bold;display: inline-block;line-height: 1.2em;}#sk-container-id-2 div.sk-label-container {text-align: center;}#sk-container-id-2 div.sk-container {/* jupyter's `normalize.less` sets `[hidden] { display: none; }` but bootstrap.min.css set `[hidden] { display: none !important; }` so we also need the `!important` here to be able to override the default hidden behavior on the sphinx rendered scikit-learn.org. See: https://github.com/scikit-learn/scikit-learn/issues/21755 */display: inline-block !important;position: relative;}#sk-container-id-2 div.sk-text-repr-fallback {display: none;}</style><div id=\"sk-container-id-2\" class=\"sk-top-container\"><div class=\"sk-text-repr-fallback\"><pre>GridSearchCV(cv=5,\n",
       "             estimator=Pipeline(steps=[(&#x27;poly&#x27;, PolynomialFeatures(degree=5)),\n",
       "                                       (&#x27;scaler&#x27;, MinMaxScaler()),\n",
       "                                       (&#x27;regr&#x27;,\n",
       "                                        LogisticRegression(C=0.1,\n",
       "                                                           max_iter=1000))]),\n",
       "             param_grid={&#x27;poly__degree&#x27;: range(1, 7),\n",
       "                         &#x27;regr__C&#x27;: [0.001, 0.01, 0.1, 1, 5, 10],\n",
       "                         &#x27;regr__max_iter&#x27;: [3000]})</pre><b>In a Jupyter environment, please rerun this cell to show the HTML representation or trust the notebook. <br />On GitHub, the HTML representation is unable to render, please try loading this page with nbviewer.org.</b></div><div class=\"sk-container\" hidden><div class=\"sk-item sk-dashed-wrapped\"><div class=\"sk-label-container\"><div class=\"sk-label sk-toggleable\"><input class=\"sk-toggleable__control sk-hidden--visually\" id=\"sk-estimator-id-5\" type=\"checkbox\" ><label for=\"sk-estimator-id-5\" class=\"sk-toggleable__label sk-toggleable__label-arrow\">GridSearchCV</label><div class=\"sk-toggleable__content\"><pre>GridSearchCV(cv=5,\n",
       "             estimator=Pipeline(steps=[(&#x27;poly&#x27;, PolynomialFeatures(degree=5)),\n",
       "                                       (&#x27;scaler&#x27;, MinMaxScaler()),\n",
       "                                       (&#x27;regr&#x27;,\n",
       "                                        LogisticRegression(C=0.1,\n",
       "                                                           max_iter=1000))]),\n",
       "             param_grid={&#x27;poly__degree&#x27;: range(1, 7),\n",
       "                         &#x27;regr__C&#x27;: [0.001, 0.01, 0.1, 1, 5, 10],\n",
       "                         &#x27;regr__max_iter&#x27;: [3000]})</pre></div></div></div><div class=\"sk-parallel\"><div class=\"sk-parallel-item\"><div class=\"sk-item\"><div class=\"sk-label-container\"><div class=\"sk-label sk-toggleable\"><input class=\"sk-toggleable__control sk-hidden--visually\" id=\"sk-estimator-id-6\" type=\"checkbox\" ><label for=\"sk-estimator-id-6\" class=\"sk-toggleable__label sk-toggleable__label-arrow\">estimator: Pipeline</label><div class=\"sk-toggleable__content\"><pre>Pipeline(steps=[(&#x27;poly&#x27;, PolynomialFeatures(degree=5)),\n",
       "                (&#x27;scaler&#x27;, MinMaxScaler()),\n",
       "                (&#x27;regr&#x27;, LogisticRegression(C=0.1, max_iter=1000))])</pre></div></div></div><div class=\"sk-serial\"><div class=\"sk-item\"><div class=\"sk-serial\"><div class=\"sk-item\"><div class=\"sk-estimator sk-toggleable\"><input class=\"sk-toggleable__control sk-hidden--visually\" id=\"sk-estimator-id-7\" type=\"checkbox\" ><label for=\"sk-estimator-id-7\" class=\"sk-toggleable__label sk-toggleable__label-arrow\">PolynomialFeatures</label><div class=\"sk-toggleable__content\"><pre>PolynomialFeatures(degree=5)</pre></div></div></div><div class=\"sk-item\"><div class=\"sk-estimator sk-toggleable\"><input class=\"sk-toggleable__control sk-hidden--visually\" id=\"sk-estimator-id-8\" type=\"checkbox\" ><label for=\"sk-estimator-id-8\" class=\"sk-toggleable__label sk-toggleable__label-arrow\">MinMaxScaler</label><div class=\"sk-toggleable__content\"><pre>MinMaxScaler()</pre></div></div></div><div class=\"sk-item\"><div class=\"sk-estimator sk-toggleable\"><input class=\"sk-toggleable__control sk-hidden--visually\" id=\"sk-estimator-id-9\" type=\"checkbox\" ><label for=\"sk-estimator-id-9\" class=\"sk-toggleable__label sk-toggleable__label-arrow\">LogisticRegression</label><div class=\"sk-toggleable__content\"><pre>LogisticRegression(C=0.1, max_iter=1000)</pre></div></div></div></div></div></div></div></div></div></div></div></div>"
      ],
      "text/plain": [
       "GridSearchCV(cv=5,\n",
       "             estimator=Pipeline(steps=[('poly', PolynomialFeatures(degree=5)),\n",
       "                                       ('scaler', MinMaxScaler()),\n",
       "                                       ('regr',\n",
       "                                        LogisticRegression(C=0.1,\n",
       "                                                           max_iter=1000))]),\n",
       "             param_grid={'poly__degree': range(1, 7),\n",
       "                         'regr__C': [0.001, 0.01, 0.1, 1, 5, 10],\n",
       "                         'regr__max_iter': [3000]})"
      ]
     },
     "execution_count": 40,
     "metadata": {},
     "output_type": "execute_result"
    }
   ],
   "source": [
    "grid_log_reg_mm.fit(x,y)"
   ]
  },
  {
   "cell_type": "code",
   "execution_count": 41,
   "id": "55512211",
   "metadata": {},
   "outputs": [
    {
     "data": {
      "text/plain": [
       "0.8950635506355062"
      ]
     },
     "execution_count": 41,
     "metadata": {},
     "output_type": "execute_result"
    }
   ],
   "source": [
    "grid_log_reg_mm.best_score_"
   ]
  },
  {
   "cell_type": "code",
   "execution_count": 42,
   "id": "7a441bb6",
   "metadata": {},
   "outputs": [
    {
     "data": {
      "text/plain": [
       "{'poly__degree': 3, 'regr__C': 1, 'regr__max_iter': 3000}"
      ]
     },
     "execution_count": 42,
     "metadata": {},
     "output_type": "execute_result"
    }
   ],
   "source": [
    "grid_log_reg_mm.best_params_"
   ]
  },
  {
   "cell_type": "markdown",
   "id": "1d6c4322",
   "metadata": {},
   "source": [
    "Лучший результат для модели логистической регрессии - 0.8950635506355062, достигнут при степени полинома - 3, коэффициенте регуляризации 1 и использовании масштабатора MinMaxScaler"
   ]
  },
  {
   "cell_type": "code",
   "execution_count": 43,
   "id": "5d43553c",
   "metadata": {},
   "outputs": [],
   "source": [
    "from sklearn.naive_bayes import GaussianNB, MultinomialNB, CategoricalNB, BernoulliNB"
   ]
  },
  {
   "cell_type": "code",
   "execution_count": 44,
   "id": "9f2d3367",
   "metadata": {},
   "outputs": [
    {
     "name": "stdout",
     "output_type": "stream",
     "text": [
      "Accuracy for train set: 0.8299445471349353 ; for test set: 0.7933579335793358 ; cross-validation: 0.8248407817411507\n"
     ]
    }
   ],
   "source": [
    "# попробуем использовать наивный Байесовский классификатор\n",
    "# используем Гаусовский наивный Байес с параметром сглаживания 0.1\n",
    "gnb = Pipeline([('nb', GaussianNB(var_smoothing=0.1))])\n",
    "gnb.fit(X_train, y_train)\n",
    "print('Accuracy for train set:', gnb.score(X_train, y_train), \n",
    "      '; for test set:', gnb.score(X_test, y_test), \n",
    "      '; cross-validation:', np.mean(cross_val_score(gnb, x, y, cv=5)))\n",
    "# его точность ниже чем у регрессии с полиномиальными признаками\n",
    "# данный вариант Байесовского классификатора не очень хорошо подходит к данному датасету,\n",
    "# т.к. он хорошо работает на числовых признаках с нормальным распределением,\n",
    "# а в данном датасете большинство признаков представлены значениями -1, 0 и 1, которые не распределены по нормальному закону.\n",
    "# В таком случае, может быть более подходящим использование классификатора наивного Байеса с мультиномиальным распределением"
   ]
  },
  {
   "cell_type": "code",
   "execution_count": 45,
   "id": "f3ac2fb5",
   "metadata": {},
   "outputs": [
    {
     "name": "stdout",
     "output_type": "stream",
     "text": [
      "Accuracy for train set: 0.7495378927911276 ; for test set: 0.7011070110701108 ; cross-validation: 0.7413502801694685\n"
     ]
    }
   ],
   "source": [
    "# используем MinMaxScaler для приведения данных в промежуток [0,1] \n",
    "#т.к. данный классификатор на работает с отрицательлными значениями\n",
    "mnb = Pipeline([('scaler', MinMaxScaler()),\n",
    "                ('nb', MultinomialNB(alpha=0.1))])\n",
    "mnb.fit(X_train, y_train)\n",
    "print('Accuracy for train set:', mnb.score(X_train, y_train), \n",
    "      '; for test set:', mnb.score(X_test, y_test), \n",
    "      '; cross-validation:', np.mean(cross_val_score(mnb, x, y, cv=5)))\n",
    "# его точность ниже чем у регрессии с полиномиальными признаками"
   ]
  },
  {
   "cell_type": "code",
   "execution_count": 46,
   "id": "f2c2c44d",
   "metadata": {},
   "outputs": [
    {
     "name": "stdout",
     "output_type": "stream",
     "text": [
      "Accuracy for train set: 0.8253234750462107 ; for test set: 0.7933579335793358 ; cross-validation: 0.8196774634413011\n"
     ]
    }
   ],
   "source": [
    "# Используем категориальный Байесовский классификатор\n",
    "# используем MinMaxScaler для приведения данных в промежуток [0,1] \n",
    "#т.к. данный классификатор на работает с отрицательлными значениями\n",
    "cnb = Pipeline([('scaler', MinMaxScaler()),\n",
    "                ('nb', CategoricalNB(alpha=0.1))])\n",
    "cnb.fit(X_train, y_train)\n",
    "print('Accuracy for train set:', cnb.score(X_train, y_train), \n",
    "      '; for test set:', cnb.score(X_test, y_test), \n",
    "      '; cross-validation:', np.mean(cross_val_score(cnb, x, y, cv=5)))\n",
    "# его точность ниже чем у регрессии с полиномиальными признаками"
   ]
  },
  {
   "cell_type": "code",
   "execution_count": 47,
   "id": "48a1e70c",
   "metadata": {},
   "outputs": [
    {
     "name": "stdout",
     "output_type": "stream",
     "text": [
      "Accuracy for train set: 0.8253234750462107 ; for test set: 0.7933579335793358 ; cross-validation: 0.8196774634413011\n"
     ]
    }
   ],
   "source": [
    "# Попробуем использовать Байесовкский классификатор с распределением Бернулли,\n",
    "# т.к.в датасете встречаются бинарные признаки\n",
    "bnb = Pipeline([('nb', BernoulliNB(alpha=0.1))])\n",
    "bnb.fit(X_train, y_train)\n",
    "print('Accuracy for train set:', bnb.score(X_train, y_train), \n",
    "      '; for test set:', bnb.score(X_test, y_test), \n",
    "      '; cross-validation:', np.mean(cross_val_score(bnb, x, y, cv=5)))\n",
    "# его точность ниже чем у регрессии с полиномиальными признаками"
   ]
  },
  {
   "cell_type": "code",
   "execution_count": 48,
   "id": "3ce5c21b",
   "metadata": {},
   "outputs": [],
   "source": [
    "from sklearn.svm import LinearSVC"
   ]
  },
  {
   "cell_type": "code",
   "execution_count": 99,
   "id": "9bbddd34",
   "metadata": {},
   "outputs": [
    {
     "name": "stdout",
     "output_type": "stream",
     "text": [
      "Accuracy for train set: 0.8345656192236599 ; for test set: 0.8228782287822878 ; cross-validation: 0.8315101817684842\n"
     ]
    },
    {
     "name": "stderr",
     "output_type": "stream",
     "text": [
      "C:\\Users\\tat0e\\anaconda3\\Lib\\site-packages\\sklearn\\svm\\_classes.py:32: FutureWarning: The default value of `dual` will change from `True` to `'auto'` in 1.5. Set the value of `dual` explicitly to suppress the warning.\n",
      "  warnings.warn(\n",
      "C:\\Users\\tat0e\\anaconda3\\Lib\\site-packages\\sklearn\\svm\\_classes.py:32: FutureWarning: The default value of `dual` will change from `True` to `'auto'` in 1.5. Set the value of `dual` explicitly to suppress the warning.\n",
      "  warnings.warn(\n",
      "C:\\Users\\tat0e\\anaconda3\\Lib\\site-packages\\sklearn\\svm\\_classes.py:32: FutureWarning: The default value of `dual` will change from `True` to `'auto'` in 1.5. Set the value of `dual` explicitly to suppress the warning.\n",
      "  warnings.warn(\n",
      "C:\\Users\\tat0e\\anaconda3\\Lib\\site-packages\\sklearn\\svm\\_classes.py:32: FutureWarning: The default value of `dual` will change from `True` to `'auto'` in 1.5. Set the value of `dual` explicitly to suppress the warning.\n",
      "  warnings.warn(\n",
      "C:\\Users\\tat0e\\anaconda3\\Lib\\site-packages\\sklearn\\svm\\_classes.py:32: FutureWarning: The default value of `dual` will change from `True` to `'auto'` in 1.5. Set the value of `dual` explicitly to suppress the warning.\n",
      "  warnings.warn(\n",
      "C:\\Users\\tat0e\\anaconda3\\Lib\\site-packages\\sklearn\\svm\\_classes.py:32: FutureWarning: The default value of `dual` will change from `True` to `'auto'` in 1.5. Set the value of `dual` explicitly to suppress the warning.\n",
      "  warnings.warn(\n"
     ]
    }
   ],
   "source": [
    "# Попробуем использовать метод опорных векторов\n",
    "rbf = LinearSVC(C=1)\n",
    "rbf.fit(X_train, y_train)\n",
    "print('Accuracy for train set:', rbf.score(X_train, y_train), \n",
    "      '; for test set:', rbf.score(X_test, y_test), \n",
    "      '; cross-validation:', np.mean(cross_val_score(rbf, x, y, cv=5)))\n",
    "# результат лучше чем при использовании наивного Байесовского классификатора,\n",
    "# но хуже чем у логистической регрессии с добавлением полиномиальных признаков"
   ]
  },
  {
   "cell_type": "code",
   "execution_count": 49,
   "id": "13a15d07",
   "metadata": {},
   "outputs": [],
   "source": [
    "from sklearn.svm import SVC"
   ]
  },
  {
   "cell_type": "code",
   "execution_count": 97,
   "id": "b21bb1af",
   "metadata": {},
   "outputs": [
    {
     "name": "stdout",
     "output_type": "stream",
     "text": [
      "Accuracy for train set: 0.9473197781885397 ; for test set: 0.8929889298892989 ; cross-validation: 0.9046849801831351\n"
     ]
    }
   ],
   "source": [
    "# Метод опорных векторов с выбором нелинейного ядра\n",
    "# увеличим коэффициент с для снижения влияния регуляризации\n",
    "rbfn = SVC(C=8)\n",
    "rbfn.fit(X_train, y_train)\n",
    "print('Accuracy for train set:', rbfn.score(X_train, y_train), \n",
    "      '; for test set:', rbfn.score(X_test, y_test), \n",
    "      '; cross-validation:', np.mean(cross_val_score(rbfn, x, y, cv=5)))\n",
    "# на данный момент получена самая высокая точность на кросс-валидации - 0.9046849801831351"
   ]
  },
  {
   "cell_type": "code",
   "execution_count": 39,
   "id": "f855404c",
   "metadata": {},
   "outputs": [
    {
     "name": "stdout",
     "output_type": "stream",
     "text": [
      "Accuracy for train set: 0.944547134935305 ; for test set: 0.8671586715867159 ; cross-validation: 0.8751209512095122\n"
     ]
    }
   ],
   "source": [
    "# попробуем изменить ядро на полиномиальное и установить степень 5\n",
    "poly_svc = SVC(C=8, kernel='poly', degree=5, max_iter=3000)\n",
    "poly_svc.fit(X_train, y_train)\n",
    "print('Accuracy for train set:', poly_svc.score(X_train, y_train), \n",
    "      '; for test set:', poly_svc.score(X_test, y_test), \n",
    "      '; cross-validation:', np.mean(cross_val_score(poly_svc, x, y, cv=5)))\n",
    "# точность на кросс-валидации немного снизилась"
   ]
  },
  {
   "cell_type": "code",
   "execution_count": 130,
   "id": "8a802269",
   "metadata": {},
   "outputs": [],
   "source": [
    "# попробуем подобрать оптимальные параметры\n",
    "param_grid_svc = {'degree': range(1, 7),\n",
    "                  'C': [0.001, 0.01, 0.1, 1, 5, 10],\n",
    "                  'max_iter': [15000]}\n",
    "grid_poly_svc = GridSearchCV(poly_svc, param_grid_svc, cv=5)"
   ]
  },
  {
   "cell_type": "code",
   "execution_count": 131,
   "id": "edfdf253",
   "metadata": {},
   "outputs": [
    {
     "data": {
      "text/html": [
       "<style>#sk-container-id-12 {color: black;}#sk-container-id-12 pre{padding: 0;}#sk-container-id-12 div.sk-toggleable {background-color: white;}#sk-container-id-12 label.sk-toggleable__label {cursor: pointer;display: block;width: 100%;margin-bottom: 0;padding: 0.3em;box-sizing: border-box;text-align: center;}#sk-container-id-12 label.sk-toggleable__label-arrow:before {content: \"▸\";float: left;margin-right: 0.25em;color: #696969;}#sk-container-id-12 label.sk-toggleable__label-arrow:hover:before {color: black;}#sk-container-id-12 div.sk-estimator:hover label.sk-toggleable__label-arrow:before {color: black;}#sk-container-id-12 div.sk-toggleable__content {max-height: 0;max-width: 0;overflow: hidden;text-align: left;background-color: #f0f8ff;}#sk-container-id-12 div.sk-toggleable__content pre {margin: 0.2em;color: black;border-radius: 0.25em;background-color: #f0f8ff;}#sk-container-id-12 input.sk-toggleable__control:checked~div.sk-toggleable__content {max-height: 200px;max-width: 100%;overflow: auto;}#sk-container-id-12 input.sk-toggleable__control:checked~label.sk-toggleable__label-arrow:before {content: \"▾\";}#sk-container-id-12 div.sk-estimator input.sk-toggleable__control:checked~label.sk-toggleable__label {background-color: #d4ebff;}#sk-container-id-12 div.sk-label input.sk-toggleable__control:checked~label.sk-toggleable__label {background-color: #d4ebff;}#sk-container-id-12 input.sk-hidden--visually {border: 0;clip: rect(1px 1px 1px 1px);clip: rect(1px, 1px, 1px, 1px);height: 1px;margin: -1px;overflow: hidden;padding: 0;position: absolute;width: 1px;}#sk-container-id-12 div.sk-estimator {font-family: monospace;background-color: #f0f8ff;border: 1px dotted black;border-radius: 0.25em;box-sizing: border-box;margin-bottom: 0.5em;}#sk-container-id-12 div.sk-estimator:hover {background-color: #d4ebff;}#sk-container-id-12 div.sk-parallel-item::after {content: \"\";width: 100%;border-bottom: 1px solid gray;flex-grow: 1;}#sk-container-id-12 div.sk-label:hover label.sk-toggleable__label {background-color: #d4ebff;}#sk-container-id-12 div.sk-serial::before {content: \"\";position: absolute;border-left: 1px solid gray;box-sizing: border-box;top: 0;bottom: 0;left: 50%;z-index: 0;}#sk-container-id-12 div.sk-serial {display: flex;flex-direction: column;align-items: center;background-color: white;padding-right: 0.2em;padding-left: 0.2em;position: relative;}#sk-container-id-12 div.sk-item {position: relative;z-index: 1;}#sk-container-id-12 div.sk-parallel {display: flex;align-items: stretch;justify-content: center;background-color: white;position: relative;}#sk-container-id-12 div.sk-item::before, #sk-container-id-12 div.sk-parallel-item::before {content: \"\";position: absolute;border-left: 1px solid gray;box-sizing: border-box;top: 0;bottom: 0;left: 50%;z-index: -1;}#sk-container-id-12 div.sk-parallel-item {display: flex;flex-direction: column;z-index: 1;position: relative;background-color: white;}#sk-container-id-12 div.sk-parallel-item:first-child::after {align-self: flex-end;width: 50%;}#sk-container-id-12 div.sk-parallel-item:last-child::after {align-self: flex-start;width: 50%;}#sk-container-id-12 div.sk-parallel-item:only-child::after {width: 0;}#sk-container-id-12 div.sk-dashed-wrapped {border: 1px dashed gray;margin: 0 0.4em 0.5em 0.4em;box-sizing: border-box;padding-bottom: 0.4em;background-color: white;}#sk-container-id-12 div.sk-label label {font-family: monospace;font-weight: bold;display: inline-block;line-height: 1.2em;}#sk-container-id-12 div.sk-label-container {text-align: center;}#sk-container-id-12 div.sk-container {/* jupyter's `normalize.less` sets `[hidden] { display: none; }` but bootstrap.min.css set `[hidden] { display: none !important; }` so we also need the `!important` here to be able to override the default hidden behavior on the sphinx rendered scikit-learn.org. See: https://github.com/scikit-learn/scikit-learn/issues/21755 */display: inline-block !important;position: relative;}#sk-container-id-12 div.sk-text-repr-fallback {display: none;}</style><div id=\"sk-container-id-12\" class=\"sk-top-container\"><div class=\"sk-text-repr-fallback\"><pre>GridSearchCV(cv=5, estimator=SVC(C=8, degree=5, kernel=&#x27;poly&#x27;, max_iter=3000),\n",
       "             param_grid={&#x27;C&#x27;: [0.001, 0.01, 0.1, 1, 5, 10],\n",
       "                         &#x27;degree&#x27;: range(1, 7), &#x27;max_iter&#x27;: [15000]})</pre><b>In a Jupyter environment, please rerun this cell to show the HTML representation or trust the notebook. <br />On GitHub, the HTML representation is unable to render, please try loading this page with nbviewer.org.</b></div><div class=\"sk-container\" hidden><div class=\"sk-item sk-dashed-wrapped\"><div class=\"sk-label-container\"><div class=\"sk-label sk-toggleable\"><input class=\"sk-toggleable__control sk-hidden--visually\" id=\"sk-estimator-id-37\" type=\"checkbox\" ><label for=\"sk-estimator-id-37\" class=\"sk-toggleable__label sk-toggleable__label-arrow\">GridSearchCV</label><div class=\"sk-toggleable__content\"><pre>GridSearchCV(cv=5, estimator=SVC(C=8, degree=5, kernel=&#x27;poly&#x27;, max_iter=3000),\n",
       "             param_grid={&#x27;C&#x27;: [0.001, 0.01, 0.1, 1, 5, 10],\n",
       "                         &#x27;degree&#x27;: range(1, 7), &#x27;max_iter&#x27;: [15000]})</pre></div></div></div><div class=\"sk-parallel\"><div class=\"sk-parallel-item\"><div class=\"sk-item\"><div class=\"sk-label-container\"><div class=\"sk-label sk-toggleable\"><input class=\"sk-toggleable__control sk-hidden--visually\" id=\"sk-estimator-id-38\" type=\"checkbox\" ><label for=\"sk-estimator-id-38\" class=\"sk-toggleable__label sk-toggleable__label-arrow\">estimator: SVC</label><div class=\"sk-toggleable__content\"><pre>SVC(C=8, degree=5, kernel=&#x27;poly&#x27;, max_iter=3000)</pre></div></div></div><div class=\"sk-serial\"><div class=\"sk-item\"><div class=\"sk-estimator sk-toggleable\"><input class=\"sk-toggleable__control sk-hidden--visually\" id=\"sk-estimator-id-39\" type=\"checkbox\" ><label for=\"sk-estimator-id-39\" class=\"sk-toggleable__label sk-toggleable__label-arrow\">SVC</label><div class=\"sk-toggleable__content\"><pre>SVC(C=8, degree=5, kernel=&#x27;poly&#x27;, max_iter=3000)</pre></div></div></div></div></div></div></div></div></div></div>"
      ],
      "text/plain": [
       "GridSearchCV(cv=5, estimator=SVC(C=8, degree=5, kernel='poly', max_iter=3000),\n",
       "             param_grid={'C': [0.001, 0.01, 0.1, 1, 5, 10],\n",
       "                         'degree': range(1, 7), 'max_iter': [15000]})"
      ]
     },
     "execution_count": 131,
     "metadata": {},
     "output_type": "execute_result"
    }
   ],
   "source": [
    "grid_poly_svc.fit(x,y)"
   ]
  },
  {
   "cell_type": "code",
   "execution_count": 132,
   "id": "90ac4c32",
   "metadata": {},
   "outputs": [
    {
     "data": {
      "text/plain": [
       "0.8906355063550635"
      ]
     },
     "execution_count": 132,
     "metadata": {},
     "output_type": "execute_result"
    }
   ],
   "source": [
    "grid_poly_svc.best_score_\n",
    "# точность на кросс-валидации - 0.8906355063550635, что ниже чем 0.9046849801831351"
   ]
  },
  {
   "cell_type": "code",
   "execution_count": 133,
   "id": "7634e998",
   "metadata": {},
   "outputs": [
    {
     "data": {
      "text/plain": [
       "{'C': 10, 'degree': 3, 'max_iter': 15000}"
      ]
     },
     "execution_count": 133,
     "metadata": {},
     "output_type": "execute_result"
    }
   ],
   "source": [
    "grid_poly_svc.best_params_"
   ]
  },
  {
   "cell_type": "code",
   "execution_count": 55,
   "id": "e0daf74f",
   "metadata": {},
   "outputs": [],
   "source": [
    "from sklearn.tree import DecisionTreeClassifier"
   ]
  },
  {
   "cell_type": "code",
   "execution_count": 162,
   "id": "4800350c",
   "metadata": {},
   "outputs": [
    {
     "name": "stdout",
     "output_type": "stream",
     "text": [
      "Accuracy for train set: 0.9399260628465804 ; for test set: 0.8487084870848709 ; cross-validation: 0.8906382397157305\n"
     ]
    }
   ],
   "source": [
    "# воспользуемся деревом решений\n",
    "# установим максимальную глубину 8 и минимальный размер конечного узла 2 для предотвращения переобучения\n",
    "dtc = DecisionTreeClassifier(min_samples_leaf=2, max_depth=8)\n",
    "dtc.fit(X_train, y_train)\n",
    "print('Accuracy for train set:', dtc.score(X_train, y_train), \n",
    "      '; for test set:', dtc.score(X_test, y_test), \n",
    "      '; cross-validation:', np.mean(cross_val_score(dtc, x, y, cv=5)))\n",
    "# точность на кросс-валидации не улучшилась - 0.8906382397157305"
   ]
  },
  {
   "cell_type": "code",
   "execution_count": 166,
   "id": "5343e742",
   "metadata": {},
   "outputs": [
    {
     "data": {
      "text/html": [
       "<style>#sk-container-id-13 {color: black;}#sk-container-id-13 pre{padding: 0;}#sk-container-id-13 div.sk-toggleable {background-color: white;}#sk-container-id-13 label.sk-toggleable__label {cursor: pointer;display: block;width: 100%;margin-bottom: 0;padding: 0.3em;box-sizing: border-box;text-align: center;}#sk-container-id-13 label.sk-toggleable__label-arrow:before {content: \"▸\";float: left;margin-right: 0.25em;color: #696969;}#sk-container-id-13 label.sk-toggleable__label-arrow:hover:before {color: black;}#sk-container-id-13 div.sk-estimator:hover label.sk-toggleable__label-arrow:before {color: black;}#sk-container-id-13 div.sk-toggleable__content {max-height: 0;max-width: 0;overflow: hidden;text-align: left;background-color: #f0f8ff;}#sk-container-id-13 div.sk-toggleable__content pre {margin: 0.2em;color: black;border-radius: 0.25em;background-color: #f0f8ff;}#sk-container-id-13 input.sk-toggleable__control:checked~div.sk-toggleable__content {max-height: 200px;max-width: 100%;overflow: auto;}#sk-container-id-13 input.sk-toggleable__control:checked~label.sk-toggleable__label-arrow:before {content: \"▾\";}#sk-container-id-13 div.sk-estimator input.sk-toggleable__control:checked~label.sk-toggleable__label {background-color: #d4ebff;}#sk-container-id-13 div.sk-label input.sk-toggleable__control:checked~label.sk-toggleable__label {background-color: #d4ebff;}#sk-container-id-13 input.sk-hidden--visually {border: 0;clip: rect(1px 1px 1px 1px);clip: rect(1px, 1px, 1px, 1px);height: 1px;margin: -1px;overflow: hidden;padding: 0;position: absolute;width: 1px;}#sk-container-id-13 div.sk-estimator {font-family: monospace;background-color: #f0f8ff;border: 1px dotted black;border-radius: 0.25em;box-sizing: border-box;margin-bottom: 0.5em;}#sk-container-id-13 div.sk-estimator:hover {background-color: #d4ebff;}#sk-container-id-13 div.sk-parallel-item::after {content: \"\";width: 100%;border-bottom: 1px solid gray;flex-grow: 1;}#sk-container-id-13 div.sk-label:hover label.sk-toggleable__label {background-color: #d4ebff;}#sk-container-id-13 div.sk-serial::before {content: \"\";position: absolute;border-left: 1px solid gray;box-sizing: border-box;top: 0;bottom: 0;left: 50%;z-index: 0;}#sk-container-id-13 div.sk-serial {display: flex;flex-direction: column;align-items: center;background-color: white;padding-right: 0.2em;padding-left: 0.2em;position: relative;}#sk-container-id-13 div.sk-item {position: relative;z-index: 1;}#sk-container-id-13 div.sk-parallel {display: flex;align-items: stretch;justify-content: center;background-color: white;position: relative;}#sk-container-id-13 div.sk-item::before, #sk-container-id-13 div.sk-parallel-item::before {content: \"\";position: absolute;border-left: 1px solid gray;box-sizing: border-box;top: 0;bottom: 0;left: 50%;z-index: -1;}#sk-container-id-13 div.sk-parallel-item {display: flex;flex-direction: column;z-index: 1;position: relative;background-color: white;}#sk-container-id-13 div.sk-parallel-item:first-child::after {align-self: flex-end;width: 50%;}#sk-container-id-13 div.sk-parallel-item:last-child::after {align-self: flex-start;width: 50%;}#sk-container-id-13 div.sk-parallel-item:only-child::after {width: 0;}#sk-container-id-13 div.sk-dashed-wrapped {border: 1px dashed gray;margin: 0 0.4em 0.5em 0.4em;box-sizing: border-box;padding-bottom: 0.4em;background-color: white;}#sk-container-id-13 div.sk-label label {font-family: monospace;font-weight: bold;display: inline-block;line-height: 1.2em;}#sk-container-id-13 div.sk-label-container {text-align: center;}#sk-container-id-13 div.sk-container {/* jupyter's `normalize.less` sets `[hidden] { display: none; }` but bootstrap.min.css set `[hidden] { display: none !important; }` so we also need the `!important` here to be able to override the default hidden behavior on the sphinx rendered scikit-learn.org. See: https://github.com/scikit-learn/scikit-learn/issues/21755 */display: inline-block !important;position: relative;}#sk-container-id-13 div.sk-text-repr-fallback {display: none;}</style><div id=\"sk-container-id-13\" class=\"sk-top-container\"><div class=\"sk-text-repr-fallback\"><pre>GridSearchCV(cv=5,\n",
       "             estimator=DecisionTreeClassifier(max_depth=8, min_samples_leaf=2),\n",
       "             param_grid={&#x27;max_depth&#x27;: [None, 2, 4, 6, 8, 10, 12],\n",
       "                         &#x27;min_samples_leaf&#x27;: [1, 2, 3, 4, 5]})</pre><b>In a Jupyter environment, please rerun this cell to show the HTML representation or trust the notebook. <br />On GitHub, the HTML representation is unable to render, please try loading this page with nbviewer.org.</b></div><div class=\"sk-container\" hidden><div class=\"sk-item sk-dashed-wrapped\"><div class=\"sk-label-container\"><div class=\"sk-label sk-toggleable\"><input class=\"sk-toggleable__control sk-hidden--visually\" id=\"sk-estimator-id-40\" type=\"checkbox\" ><label for=\"sk-estimator-id-40\" class=\"sk-toggleable__label sk-toggleable__label-arrow\">GridSearchCV</label><div class=\"sk-toggleable__content\"><pre>GridSearchCV(cv=5,\n",
       "             estimator=DecisionTreeClassifier(max_depth=8, min_samples_leaf=2),\n",
       "             param_grid={&#x27;max_depth&#x27;: [None, 2, 4, 6, 8, 10, 12],\n",
       "                         &#x27;min_samples_leaf&#x27;: [1, 2, 3, 4, 5]})</pre></div></div></div><div class=\"sk-parallel\"><div class=\"sk-parallel-item\"><div class=\"sk-item\"><div class=\"sk-label-container\"><div class=\"sk-label sk-toggleable\"><input class=\"sk-toggleable__control sk-hidden--visually\" id=\"sk-estimator-id-41\" type=\"checkbox\" ><label for=\"sk-estimator-id-41\" class=\"sk-toggleable__label sk-toggleable__label-arrow\">estimator: DecisionTreeClassifier</label><div class=\"sk-toggleable__content\"><pre>DecisionTreeClassifier(max_depth=8, min_samples_leaf=2)</pre></div></div></div><div class=\"sk-serial\"><div class=\"sk-item\"><div class=\"sk-estimator sk-toggleable\"><input class=\"sk-toggleable__control sk-hidden--visually\" id=\"sk-estimator-id-42\" type=\"checkbox\" ><label for=\"sk-estimator-id-42\" class=\"sk-toggleable__label sk-toggleable__label-arrow\">DecisionTreeClassifier</label><div class=\"sk-toggleable__content\"><pre>DecisionTreeClassifier(max_depth=8, min_samples_leaf=2)</pre></div></div></div></div></div></div></div></div></div></div>"
      ],
      "text/plain": [
       "GridSearchCV(cv=5,\n",
       "             estimator=DecisionTreeClassifier(max_depth=8, min_samples_leaf=2),\n",
       "             param_grid={'max_depth': [None, 2, 4, 6, 8, 10, 12],\n",
       "                         'min_samples_leaf': [1, 2, 3, 4, 5]})"
      ]
     },
     "execution_count": 166,
     "metadata": {},
     "output_type": "execute_result"
    }
   ],
   "source": [
    "# подберем оптимальные параметры\n",
    "param_grid_tr = {\n",
    "    'min_samples_leaf': [1, 2, 3, 4, 5],\n",
    "    'max_depth': [None, 2, 4, 6, 8, 10, 12]\n",
    "}\n",
    "grid_search_tr = GridSearchCV(dtc, param_grid_tr, cv=5)\n",
    "\n",
    "grid_search_tr.fit(x, y)"
   ]
  },
  {
   "cell_type": "code",
   "execution_count": 167,
   "id": "9d70a7f5",
   "metadata": {},
   "outputs": [
    {
     "data": {
      "text/plain": [
       "0.8958070247369141"
      ]
     },
     "execution_count": 167,
     "metadata": {},
     "output_type": "execute_result"
    }
   ],
   "source": [
    "grid_search_tr.best_score_"
   ]
  },
  {
   "cell_type": "code",
   "execution_count": 168,
   "id": "ad33a4bd",
   "metadata": {},
   "outputs": [
    {
     "data": {
      "text/plain": [
       "{'max_depth': 8, 'min_samples_leaf': 1}"
      ]
     },
     "execution_count": 168,
     "metadata": {},
     "output_type": "execute_result"
    }
   ],
   "source": [
    "grid_search_tr.best_params_"
   ]
  },
  {
   "cell_type": "markdown",
   "id": "4a1cfeb3",
   "metadata": {},
   "source": [
    "На данный момент лучшую точность на кросс валидации дал метод опорных векторов с выбором нелинейного ядра - 0.9046849801831351.\n",
    "Данный метод хорошо себя показывает на данных, в которых много входных признаков."
   ]
  },
  {
   "cell_type": "code",
   "execution_count": 202,
   "id": "a25db9b9",
   "metadata": {},
   "outputs": [],
   "source": [
    "from sklearn.ensemble import RandomForestClassifier"
   ]
  },
  {
   "cell_type": "code",
   "execution_count": 242,
   "id": "8e69801f",
   "metadata": {},
   "outputs": [
    {
     "name": "stdout",
     "output_type": "stream",
     "text": [
      "Accuracy for train set:  0.9537892791127541 ; for test set:  0.8634686346863468 ; cross-validation:  0.9024627579609129\n"
     ]
    }
   ],
   "source": [
    "# Попробуем использовать ансамбли моделей\n",
    "# случайный лес\n",
    "rfc=RandomForestClassifier(n_estimators=200, max_samples=0.9, max_depth=8, min_samples_leaf=1)\n",
    "rfc.fit(X_train, y_train)\n",
    "print('Accuracy for train set: ', rfc.score(X_train, y_train),\n",
    "     '; for test set: ', rfc.score(X_test, y_test),\n",
    "     '; cross-validation: ', np.mean(cross_val_score(rfc, x, y, cv=5)))\n",
    "# точность на кросс-валидации немного ниже чем при использовании метода опорных векторов с выбором нелинейного ядра - 0,9024627579609129"
   ]
  },
  {
   "cell_type": "code",
   "execution_count": 243,
   "id": "42abc2e0",
   "metadata": {},
   "outputs": [
    {
     "data": {
      "text/html": [
       "<style>#sk-container-id-15 {color: black;}#sk-container-id-15 pre{padding: 0;}#sk-container-id-15 div.sk-toggleable {background-color: white;}#sk-container-id-15 label.sk-toggleable__label {cursor: pointer;display: block;width: 100%;margin-bottom: 0;padding: 0.3em;box-sizing: border-box;text-align: center;}#sk-container-id-15 label.sk-toggleable__label-arrow:before {content: \"▸\";float: left;margin-right: 0.25em;color: #696969;}#sk-container-id-15 label.sk-toggleable__label-arrow:hover:before {color: black;}#sk-container-id-15 div.sk-estimator:hover label.sk-toggleable__label-arrow:before {color: black;}#sk-container-id-15 div.sk-toggleable__content {max-height: 0;max-width: 0;overflow: hidden;text-align: left;background-color: #f0f8ff;}#sk-container-id-15 div.sk-toggleable__content pre {margin: 0.2em;color: black;border-radius: 0.25em;background-color: #f0f8ff;}#sk-container-id-15 input.sk-toggleable__control:checked~div.sk-toggleable__content {max-height: 200px;max-width: 100%;overflow: auto;}#sk-container-id-15 input.sk-toggleable__control:checked~label.sk-toggleable__label-arrow:before {content: \"▾\";}#sk-container-id-15 div.sk-estimator input.sk-toggleable__control:checked~label.sk-toggleable__label {background-color: #d4ebff;}#sk-container-id-15 div.sk-label input.sk-toggleable__control:checked~label.sk-toggleable__label {background-color: #d4ebff;}#sk-container-id-15 input.sk-hidden--visually {border: 0;clip: rect(1px 1px 1px 1px);clip: rect(1px, 1px, 1px, 1px);height: 1px;margin: -1px;overflow: hidden;padding: 0;position: absolute;width: 1px;}#sk-container-id-15 div.sk-estimator {font-family: monospace;background-color: #f0f8ff;border: 1px dotted black;border-radius: 0.25em;box-sizing: border-box;margin-bottom: 0.5em;}#sk-container-id-15 div.sk-estimator:hover {background-color: #d4ebff;}#sk-container-id-15 div.sk-parallel-item::after {content: \"\";width: 100%;border-bottom: 1px solid gray;flex-grow: 1;}#sk-container-id-15 div.sk-label:hover label.sk-toggleable__label {background-color: #d4ebff;}#sk-container-id-15 div.sk-serial::before {content: \"\";position: absolute;border-left: 1px solid gray;box-sizing: border-box;top: 0;bottom: 0;left: 50%;z-index: 0;}#sk-container-id-15 div.sk-serial {display: flex;flex-direction: column;align-items: center;background-color: white;padding-right: 0.2em;padding-left: 0.2em;position: relative;}#sk-container-id-15 div.sk-item {position: relative;z-index: 1;}#sk-container-id-15 div.sk-parallel {display: flex;align-items: stretch;justify-content: center;background-color: white;position: relative;}#sk-container-id-15 div.sk-item::before, #sk-container-id-15 div.sk-parallel-item::before {content: \"\";position: absolute;border-left: 1px solid gray;box-sizing: border-box;top: 0;bottom: 0;left: 50%;z-index: -1;}#sk-container-id-15 div.sk-parallel-item {display: flex;flex-direction: column;z-index: 1;position: relative;background-color: white;}#sk-container-id-15 div.sk-parallel-item:first-child::after {align-self: flex-end;width: 50%;}#sk-container-id-15 div.sk-parallel-item:last-child::after {align-self: flex-start;width: 50%;}#sk-container-id-15 div.sk-parallel-item:only-child::after {width: 0;}#sk-container-id-15 div.sk-dashed-wrapped {border: 1px dashed gray;margin: 0 0.4em 0.5em 0.4em;box-sizing: border-box;padding-bottom: 0.4em;background-color: white;}#sk-container-id-15 div.sk-label label {font-family: monospace;font-weight: bold;display: inline-block;line-height: 1.2em;}#sk-container-id-15 div.sk-label-container {text-align: center;}#sk-container-id-15 div.sk-container {/* jupyter's `normalize.less` sets `[hidden] { display: none; }` but bootstrap.min.css set `[hidden] { display: none !important; }` so we also need the `!important` here to be able to override the default hidden behavior on the sphinx rendered scikit-learn.org. See: https://github.com/scikit-learn/scikit-learn/issues/21755 */display: inline-block !important;position: relative;}#sk-container-id-15 div.sk-text-repr-fallback {display: none;}</style><div id=\"sk-container-id-15\" class=\"sk-top-container\"><div class=\"sk-text-repr-fallback\"><pre>GridSearchCV(cv=5,\n",
       "             estimator=RandomForestClassifier(max_depth=8, max_samples=0.9,\n",
       "                                              n_estimators=200),\n",
       "             param_grid={&#x27;max_depth&#x27;: [2, 4, 6, 8, 10, 12, 14, 16],\n",
       "                         &#x27;max_samples&#x27;: [0.1, 0.5, 0.9, 1, 3, 5, 10],\n",
       "                         &#x27;min_samples_leaf&#x27;: [1, 2, 4],\n",
       "                         &#x27;n_estimators&#x27;: [3, 5, 10, 50, 100, 150, 200, 300,\n",
       "                                          500]})</pre><b>In a Jupyter environment, please rerun this cell to show the HTML representation or trust the notebook. <br />On GitHub, the HTML representation is unable to render, please try loading this page with nbviewer.org.</b></div><div class=\"sk-container\" hidden><div class=\"sk-item sk-dashed-wrapped\"><div class=\"sk-label-container\"><div class=\"sk-label sk-toggleable\"><input class=\"sk-toggleable__control sk-hidden--visually\" id=\"sk-estimator-id-46\" type=\"checkbox\" ><label for=\"sk-estimator-id-46\" class=\"sk-toggleable__label sk-toggleable__label-arrow\">GridSearchCV</label><div class=\"sk-toggleable__content\"><pre>GridSearchCV(cv=5,\n",
       "             estimator=RandomForestClassifier(max_depth=8, max_samples=0.9,\n",
       "                                              n_estimators=200),\n",
       "             param_grid={&#x27;max_depth&#x27;: [2, 4, 6, 8, 10, 12, 14, 16],\n",
       "                         &#x27;max_samples&#x27;: [0.1, 0.5, 0.9, 1, 3, 5, 10],\n",
       "                         &#x27;min_samples_leaf&#x27;: [1, 2, 4],\n",
       "                         &#x27;n_estimators&#x27;: [3, 5, 10, 50, 100, 150, 200, 300,\n",
       "                                          500]})</pre></div></div></div><div class=\"sk-parallel\"><div class=\"sk-parallel-item\"><div class=\"sk-item\"><div class=\"sk-label-container\"><div class=\"sk-label sk-toggleable\"><input class=\"sk-toggleable__control sk-hidden--visually\" id=\"sk-estimator-id-47\" type=\"checkbox\" ><label for=\"sk-estimator-id-47\" class=\"sk-toggleable__label sk-toggleable__label-arrow\">estimator: RandomForestClassifier</label><div class=\"sk-toggleable__content\"><pre>RandomForestClassifier(max_depth=8, max_samples=0.9, n_estimators=200)</pre></div></div></div><div class=\"sk-serial\"><div class=\"sk-item\"><div class=\"sk-estimator sk-toggleable\"><input class=\"sk-toggleable__control sk-hidden--visually\" id=\"sk-estimator-id-48\" type=\"checkbox\" ><label for=\"sk-estimator-id-48\" class=\"sk-toggleable__label sk-toggleable__label-arrow\">RandomForestClassifier</label><div class=\"sk-toggleable__content\"><pre>RandomForestClassifier(max_depth=8, max_samples=0.9, n_estimators=200)</pre></div></div></div></div></div></div></div></div></div></div>"
      ],
      "text/plain": [
       "GridSearchCV(cv=5,\n",
       "             estimator=RandomForestClassifier(max_depth=8, max_samples=0.9,\n",
       "                                              n_estimators=200),\n",
       "             param_grid={'max_depth': [2, 4, 6, 8, 10, 12, 14, 16],\n",
       "                         'max_samples': [0.1, 0.5, 0.9, 1, 3, 5, 10],\n",
       "                         'min_samples_leaf': [1, 2, 4],\n",
       "                         'n_estimators': [3, 5, 10, 50, 100, 150, 200, 300,\n",
       "                                          500]})"
      ]
     },
     "execution_count": 243,
     "metadata": {},
     "output_type": "execute_result"
    }
   ],
   "source": [
    "# подбор оптимальных параметров\n",
    "param_grid_rf = {\n",
    "    'n_estimators': [3, 5, 10, 50, 100, 150, 200, 300, 500],\n",
    "    'max_depth': [2, 4, 6, 8, 10, 12, 14, 16],\n",
    "    'max_samples': [0.1, 0.5, 0.9, 1, 3, 5, 10],\n",
    "    'min_samples_leaf': [1, 2, 4],\n",
    "}\n",
    "\n",
    "grid_search_rf = GridSearchCV(rfc, param_grid_rf, cv=5)\n",
    "\n",
    "grid_search_rf.fit(x, y)"
   ]
  },
  {
   "cell_type": "code",
   "execution_count": 244,
   "id": "7acfef0e",
   "metadata": {},
   "outputs": [
    {
     "data": {
      "text/plain": [
       "0.9024600246002459"
      ]
     },
     "execution_count": 244,
     "metadata": {},
     "output_type": "execute_result"
    }
   ],
   "source": [
    "grid_search_rf.best_score_\n",
    "# точность на кросс-валидации немного ниже чем при использовании метода опорных векторов с выбором нелинейного ядра - 0.9024600246002459"
   ]
  },
  {
   "cell_type": "code",
   "execution_count": 245,
   "id": "ae7d4146",
   "metadata": {},
   "outputs": [
    {
     "data": {
      "text/plain": [
       "{'max_depth': 10,\n",
       " 'max_samples': 0.9,\n",
       " 'min_samples_leaf': 1,\n",
       " 'n_estimators': 50}"
      ]
     },
     "execution_count": 245,
     "metadata": {},
     "output_type": "execute_result"
    }
   ],
   "source": [
    "grid_search_rf.best_params_"
   ]
  },
  {
   "cell_type": "code",
   "execution_count": 35,
   "id": "8dad98dd",
   "metadata": {},
   "outputs": [],
   "source": [
    "from catboost import CatBoostClassifier"
   ]
  },
  {
   "cell_type": "code",
   "execution_count": 36,
   "id": "1f78187f",
   "metadata": {},
   "outputs": [
    {
     "name": "stdout",
     "output_type": "stream",
     "text": [
      "Accuracy for train set:  0.8613678373382625 ; for test set:  0.8376383763837638 ; cross-validation:  0.8692168921689216\n"
     ]
    }
   ],
   "source": [
    "# Используем модель градиентного бустинга (CatBoost)\n",
    "#количество деревьев 3, глубина деревьев 15, скорость обучения 0.5 для лучшей точности и предотвращения переобучения\n",
    "cb=CatBoostClassifier(n_estimators=3, depth=15, learning_rate=0.5, verbose=False)\n",
    "cb.fit(X_train, y_train)\n",
    "print('Accuracy for train set: ',cb.score(X_train, y_train),\n",
    "     '; for test set: ', cb.score(X_test, y_test),\n",
    "     '; cross-validation: ', np.mean(cross_val_score(cb, x, y, cv=5)))\n",
    "# точность на кросс-валидации уступает точности метода опорных векторов с выбором нелинейного ядра"
   ]
  },
  {
   "cell_type": "code",
   "execution_count": 295,
   "id": "f5fc8b53",
   "metadata": {},
   "outputs": [
    {
     "data": {
      "text/html": [
       "<style>#sk-container-id-17 {color: black;}#sk-container-id-17 pre{padding: 0;}#sk-container-id-17 div.sk-toggleable {background-color: white;}#sk-container-id-17 label.sk-toggleable__label {cursor: pointer;display: block;width: 100%;margin-bottom: 0;padding: 0.3em;box-sizing: border-box;text-align: center;}#sk-container-id-17 label.sk-toggleable__label-arrow:before {content: \"▸\";float: left;margin-right: 0.25em;color: #696969;}#sk-container-id-17 label.sk-toggleable__label-arrow:hover:before {color: black;}#sk-container-id-17 div.sk-estimator:hover label.sk-toggleable__label-arrow:before {color: black;}#sk-container-id-17 div.sk-toggleable__content {max-height: 0;max-width: 0;overflow: hidden;text-align: left;background-color: #f0f8ff;}#sk-container-id-17 div.sk-toggleable__content pre {margin: 0.2em;color: black;border-radius: 0.25em;background-color: #f0f8ff;}#sk-container-id-17 input.sk-toggleable__control:checked~div.sk-toggleable__content {max-height: 200px;max-width: 100%;overflow: auto;}#sk-container-id-17 input.sk-toggleable__control:checked~label.sk-toggleable__label-arrow:before {content: \"▾\";}#sk-container-id-17 div.sk-estimator input.sk-toggleable__control:checked~label.sk-toggleable__label {background-color: #d4ebff;}#sk-container-id-17 div.sk-label input.sk-toggleable__control:checked~label.sk-toggleable__label {background-color: #d4ebff;}#sk-container-id-17 input.sk-hidden--visually {border: 0;clip: rect(1px 1px 1px 1px);clip: rect(1px, 1px, 1px, 1px);height: 1px;margin: -1px;overflow: hidden;padding: 0;position: absolute;width: 1px;}#sk-container-id-17 div.sk-estimator {font-family: monospace;background-color: #f0f8ff;border: 1px dotted black;border-radius: 0.25em;box-sizing: border-box;margin-bottom: 0.5em;}#sk-container-id-17 div.sk-estimator:hover {background-color: #d4ebff;}#sk-container-id-17 div.sk-parallel-item::after {content: \"\";width: 100%;border-bottom: 1px solid gray;flex-grow: 1;}#sk-container-id-17 div.sk-label:hover label.sk-toggleable__label {background-color: #d4ebff;}#sk-container-id-17 div.sk-serial::before {content: \"\";position: absolute;border-left: 1px solid gray;box-sizing: border-box;top: 0;bottom: 0;left: 50%;z-index: 0;}#sk-container-id-17 div.sk-serial {display: flex;flex-direction: column;align-items: center;background-color: white;padding-right: 0.2em;padding-left: 0.2em;position: relative;}#sk-container-id-17 div.sk-item {position: relative;z-index: 1;}#sk-container-id-17 div.sk-parallel {display: flex;align-items: stretch;justify-content: center;background-color: white;position: relative;}#sk-container-id-17 div.sk-item::before, #sk-container-id-17 div.sk-parallel-item::before {content: \"\";position: absolute;border-left: 1px solid gray;box-sizing: border-box;top: 0;bottom: 0;left: 50%;z-index: -1;}#sk-container-id-17 div.sk-parallel-item {display: flex;flex-direction: column;z-index: 1;position: relative;background-color: white;}#sk-container-id-17 div.sk-parallel-item:first-child::after {align-self: flex-end;width: 50%;}#sk-container-id-17 div.sk-parallel-item:last-child::after {align-self: flex-start;width: 50%;}#sk-container-id-17 div.sk-parallel-item:only-child::after {width: 0;}#sk-container-id-17 div.sk-dashed-wrapped {border: 1px dashed gray;margin: 0 0.4em 0.5em 0.4em;box-sizing: border-box;padding-bottom: 0.4em;background-color: white;}#sk-container-id-17 div.sk-label label {font-family: monospace;font-weight: bold;display: inline-block;line-height: 1.2em;}#sk-container-id-17 div.sk-label-container {text-align: center;}#sk-container-id-17 div.sk-container {/* jupyter's `normalize.less` sets `[hidden] { display: none; }` but bootstrap.min.css set `[hidden] { display: none !important; }` so we also need the `!important` here to be able to override the default hidden behavior on the sphinx rendered scikit-learn.org. See: https://github.com/scikit-learn/scikit-learn/issues/21755 */display: inline-block !important;position: relative;}#sk-container-id-17 div.sk-text-repr-fallback {display: none;}</style><div id=\"sk-container-id-17\" class=\"sk-top-container\"><div class=\"sk-text-repr-fallback\"><pre>GridSearchCV(cv=5,\n",
       "             estimator=&lt;catboost.core.CatBoostClassifier object at 0x000001B5154AB6D0&gt;,\n",
       "             param_grid={&#x27;depth&#x27;: [3, 5, 8, 10, 12, 14, 16],\n",
       "                         &#x27;learning_rate&#x27;: [0.1, 0.5, 0.9, 1],\n",
       "                         &#x27;n_estimators&#x27;: [3, 5, 10, 50, 100, 150, 200, 300,\n",
       "                                          500]})</pre><b>In a Jupyter environment, please rerun this cell to show the HTML representation or trust the notebook. <br />On GitHub, the HTML representation is unable to render, please try loading this page with nbviewer.org.</b></div><div class=\"sk-container\" hidden><div class=\"sk-item sk-dashed-wrapped\"><div class=\"sk-label-container\"><div class=\"sk-label sk-toggleable\"><input class=\"sk-toggleable__control sk-hidden--visually\" id=\"sk-estimator-id-52\" type=\"checkbox\" ><label for=\"sk-estimator-id-52\" class=\"sk-toggleable__label sk-toggleable__label-arrow\">GridSearchCV</label><div class=\"sk-toggleable__content\"><pre>GridSearchCV(cv=5,\n",
       "             estimator=&lt;catboost.core.CatBoostClassifier object at 0x000001B5154AB6D0&gt;,\n",
       "             param_grid={&#x27;depth&#x27;: [3, 5, 8, 10, 12, 14, 16],\n",
       "                         &#x27;learning_rate&#x27;: [0.1, 0.5, 0.9, 1],\n",
       "                         &#x27;n_estimators&#x27;: [3, 5, 10, 50, 100, 150, 200, 300,\n",
       "                                          500]})</pre></div></div></div><div class=\"sk-parallel\"><div class=\"sk-parallel-item\"><div class=\"sk-item\"><div class=\"sk-label-container\"><div class=\"sk-label sk-toggleable\"><input class=\"sk-toggleable__control sk-hidden--visually\" id=\"sk-estimator-id-53\" type=\"checkbox\" ><label for=\"sk-estimator-id-53\" class=\"sk-toggleable__label sk-toggleable__label-arrow\">estimator: CatBoostClassifier</label><div class=\"sk-toggleable__content\"><pre>&lt;catboost.core.CatBoostClassifier object at 0x000001B5154AB6D0&gt;</pre></div></div></div><div class=\"sk-serial\"><div class=\"sk-item\"><div class=\"sk-estimator sk-toggleable\"><input class=\"sk-toggleable__control sk-hidden--visually\" id=\"sk-estimator-id-54\" type=\"checkbox\" ><label for=\"sk-estimator-id-54\" class=\"sk-toggleable__label sk-toggleable__label-arrow\">CatBoostClassifier</label><div class=\"sk-toggleable__content\"><pre>&lt;catboost.core.CatBoostClassifier object at 0x000001B5154AB6D0&gt;</pre></div></div></div></div></div></div></div></div></div></div>"
      ],
      "text/plain": [
       "GridSearchCV(cv=5,\n",
       "             estimator=<catboost.core.CatBoostClassifier object at 0x000001B5154AB6D0>,\n",
       "             param_grid={'depth': [3, 5, 8, 10, 12, 14, 16],\n",
       "                         'learning_rate': [0.1, 0.5, 0.9, 1],\n",
       "                         'n_estimators': [3, 5, 10, 50, 100, 150, 200, 300,\n",
       "                                          500]})"
      ]
     },
     "execution_count": 295,
     "metadata": {},
     "output_type": "execute_result"
    }
   ],
   "source": [
    "# подбор оптимальных параметров\n",
    "param_grid_cb = {\n",
    "    'n_estimators': [3, 5, 10, 50, 100, 150, 200, 300, 500],\n",
    "    'depth': [3, 5, 8, 10, 12, 14, 16],\n",
    "    'learning_rate': [0.1, 0.5, 0.9, 1]\n",
    "}\n",
    "\n",
    "grid_search_cb = GridSearchCV(cb, param_grid_cb, cv=5)\n",
    "\n",
    "grid_search_cb.fit(x, y)"
   ]
  },
  {
   "cell_type": "code",
   "execution_count": 296,
   "id": "d567e92c",
   "metadata": {},
   "outputs": [
    {
     "data": {
      "text/plain": [
       "0.9068962689626895"
      ]
     },
     "execution_count": 296,
     "metadata": {},
     "output_type": "execute_result"
    }
   ],
   "source": [
    "grid_search_cb.best_score_"
   ]
  },
  {
   "cell_type": "code",
   "execution_count": 297,
   "id": "ee99f4c2",
   "metadata": {},
   "outputs": [
    {
     "data": {
      "text/plain": [
       "{'depth': 3, 'learning_rate': 1, 'n_estimators': 100}"
      ]
     },
     "execution_count": 297,
     "metadata": {},
     "output_type": "execute_result"
    }
   ],
   "source": [
    "grid_search_cb.best_params_\n",
    "# Использование модели градиентного бустинга (CatBoost) с параметрами 'depth': 3, 'learning_rate': 1, 'n_estimators': 100\n",
    "# дало на данный момент максимальную точность - 0.9068962689626895"
   ]
  },
  {
   "cell_type": "code",
   "execution_count": 46,
   "id": "c25af0f1",
   "metadata": {},
   "outputs": [],
   "source": [
    "from xgboost import XGBClassifier"
   ]
  },
  {
   "cell_type": "code",
   "execution_count": 47,
   "id": "f7069971",
   "metadata": {},
   "outputs": [],
   "source": [
    "from sklearn.preprocessing import LabelEncoder"
   ]
  },
  {
   "cell_type": "code",
   "execution_count": 44,
   "id": "013bb0f1",
   "metadata": {},
   "outputs": [
    {
     "name": "stdout",
     "output_type": "stream",
     "text": [
      "Accuracy for train set:  0.94362292051756 ; for test set:  0.8892988929889298 ; cross-validation:  0.9032034987016537\n"
     ]
    }
   ],
   "source": [
    "# Используем модель градиентного бустинга (xgboost)\n",
    "#количество деревьев 3, глубина деревьев 8, гамма 0.1, скорость обучения 0.5, для лучшей точности предотвращения переобучения\n",
    "label_encoder = LabelEncoder()\n",
    "# перекодирование целевых меток -1, 0 и 1 в 0, 1, 2\n",
    "y_encoded_train = label_encoder.fit_transform(y_train)\n",
    "y_encoded_test = label_encoder.fit_transform(y_test)\n",
    "y_encoded = label_encoder.fit_transform(y)\n",
    "\n",
    "xgb=XGBClassifier(n_estimators=3, max_depth=8, gamma = 0.1, learning_rate=0.5)\n",
    "xgb.fit(X_train, y_encoded_train)\n",
    "print('Accuracy for train set: ',xgb.score(X_train, y_encoded_train),\n",
    "     '; for test set: ', xgb.score(X_test, y_encoded_test),\n",
    "     '; cross-validation: ', np.mean(cross_val_score(xgb, x, y_encoded, cv=5)))"
   ]
  },
  {
   "cell_type": "code",
   "execution_count": 48,
   "id": "a6c4333f",
   "metadata": {},
   "outputs": [
    {
     "data": {
      "text/html": [
       "<style>#sk-container-id-1 {color: black;}#sk-container-id-1 pre{padding: 0;}#sk-container-id-1 div.sk-toggleable {background-color: white;}#sk-container-id-1 label.sk-toggleable__label {cursor: pointer;display: block;width: 100%;margin-bottom: 0;padding: 0.3em;box-sizing: border-box;text-align: center;}#sk-container-id-1 label.sk-toggleable__label-arrow:before {content: \"▸\";float: left;margin-right: 0.25em;color: #696969;}#sk-container-id-1 label.sk-toggleable__label-arrow:hover:before {color: black;}#sk-container-id-1 div.sk-estimator:hover label.sk-toggleable__label-arrow:before {color: black;}#sk-container-id-1 div.sk-toggleable__content {max-height: 0;max-width: 0;overflow: hidden;text-align: left;background-color: #f0f8ff;}#sk-container-id-1 div.sk-toggleable__content pre {margin: 0.2em;color: black;border-radius: 0.25em;background-color: #f0f8ff;}#sk-container-id-1 input.sk-toggleable__control:checked~div.sk-toggleable__content {max-height: 200px;max-width: 100%;overflow: auto;}#sk-container-id-1 input.sk-toggleable__control:checked~label.sk-toggleable__label-arrow:before {content: \"▾\";}#sk-container-id-1 div.sk-estimator input.sk-toggleable__control:checked~label.sk-toggleable__label {background-color: #d4ebff;}#sk-container-id-1 div.sk-label input.sk-toggleable__control:checked~label.sk-toggleable__label {background-color: #d4ebff;}#sk-container-id-1 input.sk-hidden--visually {border: 0;clip: rect(1px 1px 1px 1px);clip: rect(1px, 1px, 1px, 1px);height: 1px;margin: -1px;overflow: hidden;padding: 0;position: absolute;width: 1px;}#sk-container-id-1 div.sk-estimator {font-family: monospace;background-color: #f0f8ff;border: 1px dotted black;border-radius: 0.25em;box-sizing: border-box;margin-bottom: 0.5em;}#sk-container-id-1 div.sk-estimator:hover {background-color: #d4ebff;}#sk-container-id-1 div.sk-parallel-item::after {content: \"\";width: 100%;border-bottom: 1px solid gray;flex-grow: 1;}#sk-container-id-1 div.sk-label:hover label.sk-toggleable__label {background-color: #d4ebff;}#sk-container-id-1 div.sk-serial::before {content: \"\";position: absolute;border-left: 1px solid gray;box-sizing: border-box;top: 0;bottom: 0;left: 50%;z-index: 0;}#sk-container-id-1 div.sk-serial {display: flex;flex-direction: column;align-items: center;background-color: white;padding-right: 0.2em;padding-left: 0.2em;position: relative;}#sk-container-id-1 div.sk-item {position: relative;z-index: 1;}#sk-container-id-1 div.sk-parallel {display: flex;align-items: stretch;justify-content: center;background-color: white;position: relative;}#sk-container-id-1 div.sk-item::before, #sk-container-id-1 div.sk-parallel-item::before {content: \"\";position: absolute;border-left: 1px solid gray;box-sizing: border-box;top: 0;bottom: 0;left: 50%;z-index: -1;}#sk-container-id-1 div.sk-parallel-item {display: flex;flex-direction: column;z-index: 1;position: relative;background-color: white;}#sk-container-id-1 div.sk-parallel-item:first-child::after {align-self: flex-end;width: 50%;}#sk-container-id-1 div.sk-parallel-item:last-child::after {align-self: flex-start;width: 50%;}#sk-container-id-1 div.sk-parallel-item:only-child::after {width: 0;}#sk-container-id-1 div.sk-dashed-wrapped {border: 1px dashed gray;margin: 0 0.4em 0.5em 0.4em;box-sizing: border-box;padding-bottom: 0.4em;background-color: white;}#sk-container-id-1 div.sk-label label {font-family: monospace;font-weight: bold;display: inline-block;line-height: 1.2em;}#sk-container-id-1 div.sk-label-container {text-align: center;}#sk-container-id-1 div.sk-container {/* jupyter's `normalize.less` sets `[hidden] { display: none; }` but bootstrap.min.css set `[hidden] { display: none !important; }` so we also need the `!important` here to be able to override the default hidden behavior on the sphinx rendered scikit-learn.org. See: https://github.com/scikit-learn/scikit-learn/issues/21755 */display: inline-block !important;position: relative;}#sk-container-id-1 div.sk-text-repr-fallback {display: none;}</style><div id=\"sk-container-id-1\" class=\"sk-top-container\"><div class=\"sk-text-repr-fallback\"><pre>GridSearchCV(cv=5,\n",
       "             estimator=XGBClassifier(base_score=None, booster=None,\n",
       "                                     callbacks=None, colsample_bylevel=None,\n",
       "                                     colsample_bynode=None,\n",
       "                                     colsample_bytree=None, device=None,\n",
       "                                     early_stopping_rounds=None,\n",
       "                                     enable_categorical=False, eval_metric=None,\n",
       "                                     feature_types=None, gamma=0.1,\n",
       "                                     grow_policy=None, importance_type=None,\n",
       "                                     interaction_constraints=None,\n",
       "                                     learning_rate=0.5, ma...\n",
       "                                     max_delta_step=None, max_depth=8,\n",
       "                                     max_leaves=None, min_child_weight=None,\n",
       "                                     missing=nan, monotone_constraints=None,\n",
       "                                     multi_strategy=None, n_estimators=3,\n",
       "                                     n_jobs=None, num_parallel_tree=None,\n",
       "                                     objective=&#x27;multi:softprob&#x27;, ...),\n",
       "             param_grid={&#x27;gamma&#x27;: [0.05, 0.1, 0.5, 0.9, 1, 10],\n",
       "                         &#x27;learning_rate&#x27;: [0.1, 0.5, 0.9, 1],\n",
       "                         &#x27;max_depth&#x27;: [3, 5, 8, 10, 15, 20, 25],\n",
       "                         &#x27;n_estimators&#x27;: [3, 5, 10, 50, 100, 150, 200, 300,\n",
       "                                          500]})</pre><b>In a Jupyter environment, please rerun this cell to show the HTML representation or trust the notebook. <br />On GitHub, the HTML representation is unable to render, please try loading this page with nbviewer.org.</b></div><div class=\"sk-container\" hidden><div class=\"sk-item sk-dashed-wrapped\"><div class=\"sk-label-container\"><div class=\"sk-label sk-toggleable\"><input class=\"sk-toggleable__control sk-hidden--visually\" id=\"sk-estimator-id-1\" type=\"checkbox\" ><label for=\"sk-estimator-id-1\" class=\"sk-toggleable__label sk-toggleable__label-arrow\">GridSearchCV</label><div class=\"sk-toggleable__content\"><pre>GridSearchCV(cv=5,\n",
       "             estimator=XGBClassifier(base_score=None, booster=None,\n",
       "                                     callbacks=None, colsample_bylevel=None,\n",
       "                                     colsample_bynode=None,\n",
       "                                     colsample_bytree=None, device=None,\n",
       "                                     early_stopping_rounds=None,\n",
       "                                     enable_categorical=False, eval_metric=None,\n",
       "                                     feature_types=None, gamma=0.1,\n",
       "                                     grow_policy=None, importance_type=None,\n",
       "                                     interaction_constraints=None,\n",
       "                                     learning_rate=0.5, ma...\n",
       "                                     max_delta_step=None, max_depth=8,\n",
       "                                     max_leaves=None, min_child_weight=None,\n",
       "                                     missing=nan, monotone_constraints=None,\n",
       "                                     multi_strategy=None, n_estimators=3,\n",
       "                                     n_jobs=None, num_parallel_tree=None,\n",
       "                                     objective=&#x27;multi:softprob&#x27;, ...),\n",
       "             param_grid={&#x27;gamma&#x27;: [0.05, 0.1, 0.5, 0.9, 1, 10],\n",
       "                         &#x27;learning_rate&#x27;: [0.1, 0.5, 0.9, 1],\n",
       "                         &#x27;max_depth&#x27;: [3, 5, 8, 10, 15, 20, 25],\n",
       "                         &#x27;n_estimators&#x27;: [3, 5, 10, 50, 100, 150, 200, 300,\n",
       "                                          500]})</pre></div></div></div><div class=\"sk-parallel\"><div class=\"sk-parallel-item\"><div class=\"sk-item\"><div class=\"sk-label-container\"><div class=\"sk-label sk-toggleable\"><input class=\"sk-toggleable__control sk-hidden--visually\" id=\"sk-estimator-id-2\" type=\"checkbox\" ><label for=\"sk-estimator-id-2\" class=\"sk-toggleable__label sk-toggleable__label-arrow\">estimator: XGBClassifier</label><div class=\"sk-toggleable__content\"><pre>XGBClassifier(base_score=None, booster=None, callbacks=None,\n",
       "              colsample_bylevel=None, colsample_bynode=None,\n",
       "              colsample_bytree=None, device=None, early_stopping_rounds=None,\n",
       "              enable_categorical=False, eval_metric=None, feature_types=None,\n",
       "              gamma=0.1, grow_policy=None, importance_type=None,\n",
       "              interaction_constraints=None, learning_rate=0.5, max_bin=None,\n",
       "              max_cat_threshold=None, max_cat_to_onehot=None,\n",
       "              max_delta_step=None, max_depth=8, max_leaves=None,\n",
       "              min_child_weight=None, missing=nan, monotone_constraints=None,\n",
       "              multi_strategy=None, n_estimators=3, n_jobs=None,\n",
       "              num_parallel_tree=None, objective=&#x27;multi:softprob&#x27;, ...)</pre></div></div></div><div class=\"sk-serial\"><div class=\"sk-item\"><div class=\"sk-estimator sk-toggleable\"><input class=\"sk-toggleable__control sk-hidden--visually\" id=\"sk-estimator-id-3\" type=\"checkbox\" ><label for=\"sk-estimator-id-3\" class=\"sk-toggleable__label sk-toggleable__label-arrow\">XGBClassifier</label><div class=\"sk-toggleable__content\"><pre>XGBClassifier(base_score=None, booster=None, callbacks=None,\n",
       "              colsample_bylevel=None, colsample_bynode=None,\n",
       "              colsample_bytree=None, device=None, early_stopping_rounds=None,\n",
       "              enable_categorical=False, eval_metric=None, feature_types=None,\n",
       "              gamma=0.1, grow_policy=None, importance_type=None,\n",
       "              interaction_constraints=None, learning_rate=0.5, max_bin=None,\n",
       "              max_cat_threshold=None, max_cat_to_onehot=None,\n",
       "              max_delta_step=None, max_depth=8, max_leaves=None,\n",
       "              min_child_weight=None, missing=nan, monotone_constraints=None,\n",
       "              multi_strategy=None, n_estimators=3, n_jobs=None,\n",
       "              num_parallel_tree=None, objective=&#x27;multi:softprob&#x27;, ...)</pre></div></div></div></div></div></div></div></div></div></div>"
      ],
      "text/plain": [
       "GridSearchCV(cv=5,\n",
       "             estimator=XGBClassifier(base_score=None, booster=None,\n",
       "                                     callbacks=None, colsample_bylevel=None,\n",
       "                                     colsample_bynode=None,\n",
       "                                     colsample_bytree=None, device=None,\n",
       "                                     early_stopping_rounds=None,\n",
       "                                     enable_categorical=False, eval_metric=None,\n",
       "                                     feature_types=None, gamma=0.1,\n",
       "                                     grow_policy=None, importance_type=None,\n",
       "                                     interaction_constraints=None,\n",
       "                                     learning_rate=0.5, ma...\n",
       "                                     max_delta_step=None, max_depth=8,\n",
       "                                     max_leaves=None, min_child_weight=None,\n",
       "                                     missing=nan, monotone_constraints=None,\n",
       "                                     multi_strategy=None, n_estimators=3,\n",
       "                                     n_jobs=None, num_parallel_tree=None,\n",
       "                                     objective='multi:softprob', ...),\n",
       "             param_grid={'gamma': [0.05, 0.1, 0.5, 0.9, 1, 10],\n",
       "                         'learning_rate': [0.1, 0.5, 0.9, 1],\n",
       "                         'max_depth': [3, 5, 8, 10, 15, 20, 25],\n",
       "                         'n_estimators': [3, 5, 10, 50, 100, 150, 200, 300,\n",
       "                                          500]})"
      ]
     },
     "execution_count": 48,
     "metadata": {},
     "output_type": "execute_result"
    }
   ],
   "source": [
    "# подбор оптимальных параметров\n",
    "param_grid_xgb = {\n",
    "    'n_estimators': [3, 5, 10, 50, 100, 150, 200, 300, 500],\n",
    "    'max_depth': [3, 5, 8, 10, 15, 20, 25],\n",
    "    'learning_rate': [0.1, 0.5, 0.9, 1],\n",
    "    'gamma': [0.05, 0.1, 0.5, 0.9, 1, 10]\n",
    "}\n",
    "\n",
    "grid_search_xgb = GridSearchCV(xgb, param_grid_xgb, cv=5)\n",
    "\n",
    "grid_search_xgb.fit(x, y_encoded)"
   ]
  },
  {
   "cell_type": "code",
   "execution_count": 50,
   "id": "07b4b2c4",
   "metadata": {},
   "outputs": [
    {
     "data": {
      "text/plain": [
       "0.9098592319256525"
      ]
     },
     "execution_count": 50,
     "metadata": {},
     "output_type": "execute_result"
    }
   ],
   "source": [
    "grid_search_xgb.best_score_"
   ]
  },
  {
   "cell_type": "code",
   "execution_count": 51,
   "id": "dc23e1da",
   "metadata": {},
   "outputs": [
    {
     "data": {
      "text/plain": [
       "{'gamma': 0.1, 'learning_rate': 0.9, 'max_depth': 5, 'n_estimators': 50}"
      ]
     },
     "execution_count": 51,
     "metadata": {},
     "output_type": "execute_result"
    }
   ],
   "source": [
    "grid_search_xgb.best_params_\n",
    "# Использование модели градиентного бустинга (xgboost) с параметрами depth: 5, learning_rate: 0.9, n_estimators: 50, gamma: 0.1,\n",
    "# дало на данный момент максимальную точность - 0.9098592319256525"
   ]
  },
  {
   "cell_type": "code",
   "execution_count": 52,
   "id": "34660336",
   "metadata": {},
   "outputs": [],
   "source": [
    "from sklearn.ensemble import VotingClassifier"
   ]
  },
  {
   "cell_type": "code",
   "execution_count": 57,
   "id": "29a00747",
   "metadata": {},
   "outputs": [
    {
     "name": "stdout",
     "output_type": "stream",
     "text": [
      "Accuracy for train: 0.9547134935304991 ; for test: 0.9003690036900369 ; for CV: 0.8972766228552478\n"
     ]
    }
   ],
   "source": [
    "# используем голосующие классификаторы, составленные из одиночных моделей, давших наилучшие результаты\n",
    "vtc = VotingClassifier([('poly', Pipeline([\n",
    "                        ('poly', PolynomialFeatures(degree=3)),\n",
    "                        ('scaler', MinMaxScaler()),\n",
    "                        ('regr', LogisticRegression(C=1, max_iter=3000))])),\n",
    "                        ('dtc', DecisionTreeClassifier(min_samples_leaf=1, max_depth=8)),\n",
    "                        ('svc', SVC(C=8))])\n",
    "vtc.fit(X_train, y_train)\n",
    "print('Accuracy for train:', vtc.score(X_train, y_train), \n",
    "      '; for test:', vtc.score(X_test, y_test), \n",
    "      '; for CV:', np.mean(cross_val_score(vtc, x, y, cv=4)))"
   ]
  },
  {
   "cell_type": "markdown",
   "id": "86ba273d",
   "metadata": {},
   "source": [
    "вывод: лучшую точность на кросс-валидации показала модель градиентного бустинга (xgboost) с параметрами depth: 5, learning_rate: 0.9, n_estimators: 50, gamma: 0.1. Градиентный бустинг хорошо работает с категориальными признаками (большинство признаков содержат значения -1, 0, 1, которые могут интерпретироваться как категории). Настройка праметров глубины и коэффициента гамма позволяет бороться с переобучением. Глубина определяет, насколько далеко разветвляется каждое дерево перед тем, как сделать прогноз. Увеличение глубины может увеличить точность модели, но также может привести к переобучению, особенно если данных недостаточно. Гамма - это параметр регуляризации, который помогает контролировать сложность модели. Он определяет, когда будет производиться разделение на ветви дерева. Чем выше значение гаммы, тем больше данные должны отличаться, чтобы произошло разделение. Это помогает снизить переобучение. Таким образом, наиболее оптимальными для предотвращения переобучения и высокой точности на кросс-валидации была выбрана небольшая глубина дерева - 5, и параметр гамма - 0.1. Количество деревьев решений, которые будут использоваться в модели - 50. Обычно большее количество деревьев может повысить точность модели, но при этом она может быть склонна к переобучению, но этот момент контролируется с помощью огранниченной глубины каждого дерева и коэффициента гамма. learning_rate: 0.9 - этот параметр определяет скорость обучения модели. Это величина, на которую модель изменяет свои прогнозы на каждой итерации обучения. Более высокая скорость обучения позволяет модели быстрее адаптироваться к данным."
   ]
  }
 ],
 "metadata": {
  "kernelspec": {
   "display_name": "Python 3 (ipykernel)",
   "language": "python",
   "name": "python3"
  },
  "language_info": {
   "codemirror_mode": {
    "name": "ipython",
    "version": 3
   },
   "file_extension": ".py",
   "mimetype": "text/x-python",
   "name": "python",
   "nbconvert_exporter": "python",
   "pygments_lexer": "ipython3",
   "version": "3.11.5"
  }
 },
 "nbformat": 4,
 "nbformat_minor": 5
}
